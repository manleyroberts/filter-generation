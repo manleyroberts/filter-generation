{
 "cells": [
  {
   "cell_type": "code",
   "execution_count": 1,
   "metadata": {},
   "outputs": [],
   "source": [
    "import pickle"
   ]
  },
  {
   "cell_type": "code",
   "execution_count": 2,
   "metadata": {},
   "outputs": [],
   "source": [
    "def pickle_load(filename):\n",
    "\n",
    "    with open(filename, 'rb') as h:\n",
    "        r = pickle.load(h)\n",
    "\n",
    "    return r"
   ]
  },
  {
   "cell_type": "code",
   "execution_count": 22,
   "metadata": {},
   "outputs": [
    {
     "name": "stdout",
     "output_type": "stream",
     "text": [
      "dict_keys(['dcgan_IID', 'dcgan_IID_1', 'dcgan_IID_2', 'dcgan_IID_4', 'dcgan_IID_6', 'dcgan_IID_8', 'dcgan_IID_16', 'dcgan_IID_32'])\n",
      "dict_keys(['dcgan_joint_IID'])\n",
      "dict_keys(['joint_IID'])\n",
      "dict_keys(['random', 'random_1', 'random_2', 'random_4', 'random_6', 'random_8', 'random_16', 'random_32'])\n",
      "dict_keys(['sample_IID', 'sample_filters_IID_1', 'sample_filters_IID_2', 'sample_filters_IID_4', 'sample_filters_IID_6', 'sample_filters_IID_8', 'sample_filters_IID_16', 'sample_filters_IID_32'])\n",
      "dict_keys(['vae_IID', 'vae_IID_1', 'vae_IID_2', 'vae_IID_4', 'vae_IID_6', 'vae_IID_8', 'vae_IID_16', 'vae_IID_32'])\n",
      "dict_keys(['vae_joint_IID'])\n"
     ]
    }
   ],
   "source": [
    "results_total = {\n",
    "    name: pickle_load(f'save_baselines_{name}.pickle') for name in [\n",
    "        'dcgan_8', 'dcgan_joint_8', 'joint_8', 'random_8','sampled_iid_8','vae_8','vae_joint_8'#'gmm','lstm'\n",
    "    ]\n",
    "}\n",
    "\n",
    "iid_sample_methods = [\n",
    "    'dcgan_8',\n",
    "    'random_8',\n",
    "    'sampled_iid_8',\n",
    "    'vae_8'\n",
    "]\n",
    "\n",
    "joint_sample_methods = [\n",
    "    'dcgan_joint_8',\n",
    "    'joint_8',\n",
    "    'vae_joint_8'\n",
    "]\n",
    "\n",
    "for k in results_total.keys():\n",
    "    print(results_total[k].keys())\n",
    "\n",
    "# pickle_load('save_baselines_dcgan_joint_8.pickle')"
   ]
  }
 ],
 "metadata": {
  "kernelspec": {
   "display_name": "10707",
   "language": "python",
   "name": "python3"
  },
  "language_info": {
   "codemirror_mode": {
    "name": "ipython",
    "version": 3
   },
   "file_extension": ".py",
   "mimetype": "text/x-python",
   "name": "python",
   "nbconvert_exporter": "python",
   "pygments_lexer": "ipython3",
   "version": "3.9.13"
  },
  "orig_nbformat": 4,
  "vscode": {
   "interpreter": {
    "hash": "58f07005c085a8a03cffd9e7ea5c8e1ad4c492dfe3c7cde39559b77fe72c3b70"
   }
  }
 },
 "nbformat": 4,
 "nbformat_minor": 2
}
