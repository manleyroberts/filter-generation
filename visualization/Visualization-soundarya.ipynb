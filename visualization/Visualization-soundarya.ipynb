{
 "cells": [
  {
   "cell_type": "code",
   "execution_count": 10,
   "metadata": {},
   "outputs": [],
   "source": [
    "import os\n",
    "import torch\n",
    "import numpy as np\n",
    "from tqdm import tqdm\n",
    "import matplotlib\n",
    "import matplotlib.pyplot as plt"
   ]
  },
  {
   "cell_type": "code",
   "execution_count": 11,
   "metadata": {},
   "outputs": [],
   "source": [
    "datapath = os.path.join('../', 'data')\n",
    "filterpath = os.path.join(datapath, '8_19')\n",
    "num_filters = 8"
   ]
  },
  {
   "cell_type": "code",
   "execution_count": 12,
   "metadata": {},
   "outputs": [],
   "source": [
    "def get_joint_dataset():\n",
    "  weight_dataset = []\n",
    "  for f, file in tqdm(enumerate(os.listdir(filterpath))):\n",
    "    filter = torch.load(os.path.join(filterpath, file))\n",
    "    weight_dataset.append(filter['0.weight'])\n",
    "  return torch.stack(weight_dataset)"
   ]
  },
  {
   "cell_type": "code",
   "execution_count": 13,
   "metadata": {},
   "outputs": [
    {
     "name": "stderr",
     "output_type": "stream",
     "text": [
      "1364it [00:02, 459.98it/s] \n"
     ]
    }
   ],
   "source": [
    "joint_dataset = get_joint_dataset()"
   ]
  },
  {
   "cell_type": "code",
   "execution_count": 14,
   "metadata": {},
   "outputs": [],
   "source": [
    "def get_dataset_from_joint_dataset(joint_dataset):\n",
    "    dataset = []\n",
    "    for i in range(len(joint_dataset)):\n",
    "        for j in range(num_filters):\n",
    "            dataset.append(joint_dataset[i][j][0])\n",
    "    return torch.stack(dataset)"
   ]
  },
  {
   "cell_type": "code",
   "execution_count": 15,
   "metadata": {},
   "outputs": [],
   "source": [
    "dataset = get_dataset_from_joint_dataset(joint_dataset)"
   ]
  },
  {
   "cell_type": "code",
   "execution_count": 16,
   "metadata": {},
   "outputs": [
    {
     "data": {
      "text/plain": [
       "tensor(1.6230, device='cuda:0')"
      ]
     },
     "execution_count": 16,
     "metadata": {},
     "output_type": "execute_result"
    }
   ],
   "source": [
    "torch.max(dataset)"
   ]
  },
  {
   "cell_type": "code",
   "execution_count": 17,
   "metadata": {},
   "outputs": [],
   "source": [
    "vmin, vmax = -2.5, 2.5"
   ]
  },
  {
   "cell_type": "code",
   "execution_count": 18,
   "metadata": {
    "id": "v4Hr2n4lNDO-"
   },
   "outputs": [],
   "source": [
    "def visualise_joint(num_rows):\n",
    "  _, axarr = plt.subplots(num_rows, num_filters, figsize=(int(5*(num_filters//8)), num_rows))\n",
    "  plt.axis('off')\n",
    "  uuids = os.listdir(filterpath)\n",
    "  for f in range(num_rows):\n",
    "    file = np.random.choice(uuids, replace=True)\n",
    "    filter = torch.load(os.path.join(filterpath, file))\n",
    "    for i in range(num_filters):\n",
    "      if f < num_rows:\n",
    "        axarr[f, i].set_axis_off()\n",
    "        axarr[f, i].imshow(filter['0.weight'][i][0].detach().cpu(), interpolation=None, norm=matplotlib.colors.Normalize(vmin=vmin, vmax=vmax, clip=False))\n",
    "        # axarr[f, i].colorbar()\n",
    "  return filter"
   ]
  },
  {
   "cell_type": "code",
   "execution_count": 19,
   "metadata": {},
   "outputs": [],
   "source": [
    "# t = np.zeros((50, 50))\n",
    "# t[10, 10] = 1\n",
    "# t[10, 20] = 2\n",
    "# plt.imshow(t, norm=matplotlib.colors.Normalize(vmin=0, vmax=2, clip=False))\n",
    "# plt.colorbar()"
   ]
  },
  {
   "cell_type": "markdown",
   "metadata": {},
   "source": [
    "Visualising all filters (joint sampling)"
   ]
  },
  {
   "cell_type": "code",
   "execution_count": 78,
   "metadata": {},
   "outputs": [
    {
     "name": "stdout",
     "output_type": "stream",
     "text": [
      "5471\n"
     ]
    },
    {
     "data": {
      "image/png": "[encoded data removed]",
      "text/plain": [
       "<Figure size 432x288 with 1 Axes>"
      ]
     },
     "metadata": {
      "needs_background": "light"
     },
     "output_type": "display_data"
    }
   ],
   "source": [
    "import matplotlib\n",
    "def histogram_sampled_joint(num_samples):\n",
    "\n",
    "    vals = []\n",
    "    uuids = os.listdir(filterpath)\n",
    "    num_over_0 = 0\n",
    "    for f in range(num_samples):\n",
    "        file = np.random.choice(uuids, replace=True)\n",
    "        filter = torch.load(os.path.join(filterpath, file))\n",
    "#         idx = np.random.choice(8)\n",
    "        for idx in range(num_filters):\n",
    "            vals.append(np.mean(filter['0.weight'][idx][0].detach().cpu().numpy()))\n",
    "            if vals[-1] > 0:\n",
    "                num_over_0 += 1\n",
    "    plt.hist(vals, bins=100,range=(-2.5,2.5))\n",
    "    print(num_over_0)\n",
    "\n",
    "\n",
    "histogram_sampled_joint(1250)"
   ]
  },
  {
   "cell_type": "code",
   "execution_count": 20,
   "metadata": {
    "colab": {
     "base_uri": "https://localhost:8080/",
     "height": 576
    },
    "id": "xnYYEEqfKoJb",
    "outputId": "a63b2cab-d25e-4a9c-fe4d-0c0f7fecf3b0"
   },
   "outputs": [
    {
     "data": {
      "image/png": "[encoded data removed]",
      "text/plain": [
       "<Figure size 360x720 with 80 Axes>"
      ]
     },
     "metadata": {
      "needs_background": "light"
     },
     "output_type": "display_data"
    }
   ],
   "source": [
    "num_images = len(os.listdir(filterpath))\n",
    "sample_filter = visualise_joint(10)"
   ]
  },
  {
   "cell_type": "code",
   "execution_count": null,
   "metadata": {},
   "outputs": [],
   "source": []
  },
  {
   "cell_type": "code",
   "execution_count": 21,
   "metadata": {},
   "outputs": [
    {
     "data": {
      "text/plain": [
       "tensor([[[-0.3649, -0.9604, -1.4754, -1.7332, -1.0729],\n",
       "         [-1.0017, -1.8675, -2.6804, -2.9809, -2.1513],\n",
       "         [-1.4446, -2.5312, -3.8343, -3.2274, -2.1177],\n",
       "         [-1.1701, -2.3537, -2.6865, -2.0888, -1.4640],\n",
       "         [-0.8413, -1.0964, -1.4515, -1.6124, -1.3106]]], device='cuda:0')"
      ]
     },
     "execution_count": 21,
     "metadata": {},
     "output_type": "execute_result"
    }
   ],
   "source": [
    "sample_filter['0.weight'][7]"
   ]
  },
  {
   "cell_type": "markdown",
   "metadata": {},
   "source": [
    "Visualising IID sampled filters"
   ]
  },
  {
   "cell_type": "code",
   "execution_count": 57,
   "metadata": {},
   "outputs": [],
   "source": [
    "import matplotlib\n",
    "def visualise_sampled_IID(num_rows):\n",
    "    _, axarr = plt.subplots(num_rows, 8, figsize=(int(5*(num_filters//8)), num_rows))\n",
    "    plt.axis('off')\n",
    "\n",
    "    uuids = os.listdir(filterpath)\n",
    "    for f in range(num_rows):\n",
    "        for i in range(8):\n",
    "            file = np.random.choice(uuids, replace=True)\n",
    "            filter = torch.load(os.path.join(filterpath, file))\n",
    "            idx = np.random.choice(8)\n",
    "            axarr[f, i].set_axis_off()\n",
    "            axarr[f, i].imshow(filter['0.weight'][idx][0].detach().cpu(), interpolation=None, norm=matplotlib.colors.Normalize(vmin=vmin, vmax=vmax, clip=False))"
   ]
  },
  {
   "cell_type": "code",
   "execution_count": 58,
   "metadata": {
    "colab": {
     "base_uri": "https://localhost:8080/",
     "height": 447
    },
    "id": "Axsq6BaxRG0p",
    "outputId": "ac435040-30c3-4f77-c7ee-a0457d22c38c"
   },
   "outputs": [
    {
     "data": {
      "image/png": "[encoded data removed]",
      "text/plain": [
       "<Figure size 360x720 with 80 Axes>"
      ]
     },
     "metadata": {
      "needs_background": "light"
     },
     "output_type": "display_data"
    }
   ],
   "source": [
    "visualise_sampled_IID(10)"
   ]
  },
  {
   "cell_type": "code",
   "execution_count": 59,
   "metadata": {},
   "outputs": [
    {
     "name": "stdout",
     "output_type": "stream",
     "text": [
      "5466\n"
     ]
    },
    {
     "data": {
      "image/png": "[encoded data removed]",
      "text/plain": [
       "<Figure size 432x288 with 1 Axes>"
      ]
     },
     "metadata": {
      "needs_background": "light"
     },
     "output_type": "display_data"
    }
   ],
   "source": [
    "import matplotlib\n",
    "def histogram_sampled_IID(num_samples):\n",
    "\n",
    "    vals = []\n",
    "    uuids = os.listdir(filterpath)\n",
    "    num_over_0 = 0\n",
    "    for f in range(num_samples):\n",
    "        file = np.random.choice(uuids, replace=True)\n",
    "        filter = torch.load(os.path.join(filterpath, file))\n",
    "        idx = np.random.choice(8)\n",
    "        vals.append(np.mean(filter['0.weight'][idx][0].detach().cpu().numpy()))\n",
    "        if vals[-1] > 0:\n",
    "            num_over_0 += 1\n",
    "    plt.hist(vals, bins=100,range=(-2.5,2.5))\n",
    "    print(num_over_0)\n",
    "\n",
    "\n",
    "histogram_sampled_IID(10000)"
   ]
  },
  {
   "cell_type": "markdown",
   "metadata": {},
   "source": [
    "Visualising VAE sampled filters"
   ]
  },
  {
   "cell_type": "code",
   "execution_count": 25,
   "metadata": {},
   "outputs": [],
   "source": [
    "import torch\n",
    "import torch.nn as nn\n",
    "\n",
    "vae_batch_size = 100\n",
    "x_dim  = 25\n",
    "hidden_dim1 = 20\n",
    "hidden_dim2 = 20\n",
    "hidden_dim3 = 20\n",
    "hidden_dim4 = 20\n",
    "latent_dim = 10\n",
    "\n",
    "device = torch.device('cuda') if torch.cuda.is_available() else torch.device('cpu')"
   ]
  },
  {
   "cell_type": "code",
   "execution_count": 64,
   "metadata": {},
   "outputs": [],
   "source": [
    "\"\"\"\n",
    "    A simple implementation of Gaussian MLP Encoder and Decoder\n",
    "\"\"\"\n",
    "\n",
    "class Encoder(nn.Module):\n",
    "    \n",
    "    def __init__(self, input_dim, hidden_dim1, hidden_dim2, hidden_dim3, hidden_dim4, latent_dim):\n",
    "        super(Encoder, self).__init__()\n",
    "\n",
    "        self.FC_input = nn.Linear(input_dim, hidden_dim1)\n",
    "        self.FC_input2 = nn.Linear(hidden_dim1, hidden_dim2)\n",
    "        self.FC_input3 = nn.Linear(hidden_dim2, hidden_dim3)\n",
    "        self.FC_input4 = nn.Linear(hidden_dim3, hidden_dim4)\n",
    "\n",
    "        self.FC_mean  = nn.Linear(hidden_dim2, latent_dim)\n",
    "        self.FC_var   = nn.Linear (hidden_dim2, latent_dim)\n",
    "        \n",
    "        # self.LeakyReLU = nn.LeakyReLU(0.2)\n",
    "        self.tanh = nn.Tanh()\n",
    "\n",
    "        self.training = True\n",
    "        \n",
    "    def forward(self, x):\n",
    "        h_       = self.tanh(self.FC_input(x))\n",
    "        h_       = self.tanh(self.FC_input2(h_))\n",
    "        h_       = self.tanh(self.FC_input3(h_))\n",
    "        h_       = self.tanh(self.FC_input4(h_))\n",
    "\n",
    "        mean     = self.FC_mean(h_)\n",
    "        log_var  = self.FC_var(h_)                     # encoder produces mean and log of variance \n",
    "                                                       #             (i.e., parateters of simple tractable normal distribution \"q\"\n",
    "        \n",
    "        return mean, log_var\n",
    "\n",
    "class Decoder(nn.Module):\n",
    "    def __init__(self, latent_dim, hidden_dim1, hidden_dim2, hidden_dim3, hidden_dim4, output_dim):\n",
    "        super(Decoder, self).__init__()\n",
    "        self.FC_hidden = nn.Linear(latent_dim, hidden_dim1)\n",
    "        self.FC_hidden2 = nn.Linear(hidden_dim1, hidden_dim2)\n",
    "        self.FC_hidden3 = nn.Linear(hidden_dim2, hidden_dim3)\n",
    "        self.FC_hidden4 = nn.Linear(hidden_dim3, hidden_dim4)\n",
    "\n",
    "        self.FC_output = nn.Linear(hidden_dim4, output_dim)\n",
    "        \n",
    "        # self.LeakyReLU = nn.LeakyReLU(0.2)\n",
    "        self.tanh = nn.Tanh()\n",
    "        \n",
    "    def forward(self, x):\n",
    "        h     = self.tanh(self.FC_hidden(x))\n",
    "        h     = self.tanh(self.FC_hidden2(h))\n",
    "        h     = self.tanh(self.FC_hidden3(h))\n",
    "        h     = self.tanh(self.FC_hidden4(h))\n",
    "\n",
    "        x_hat = self.FC_output(h)\n",
    "        return x_hat\n",
    "\n",
    "class Model(nn.Module):\n",
    "    def __init__(self, Encoder, Decoder):\n",
    "        super(Model, self).__init__()\n",
    "        self.Encoder = Encoder\n",
    "        self.Decoder = Decoder\n",
    "        # self.lamb = nn.Parameter(data=torch.Tensor(1), requires_grad=True)\n",
    "        \n",
    "    def reparameterization(self, mean, var):\n",
    "        epsilon = torch.randn_like(var).to(device)        # sampling epsilon        \n",
    "        z = mean + var*epsilon                          # reparameterization trick\n",
    "        return z\n",
    "        \n",
    "                \n",
    "    def forward(self, x):\n",
    "        mean, log_var = self.Encoder(x)\n",
    "        z = self.reparameterization(mean, torch.exp(0.5 * log_var)) # takes exponential function (log var -> var)\n",
    "        x_hat            = self.Decoder(z)\n",
    "        \n",
    "        return x_hat, mean, log_var\n",
    "\n",
    "encoder = Encoder(input_dim=x_dim, hidden_dim1=hidden_dim1, hidden_dim2=hidden_dim2, hidden_dim3=hidden_dim3, hidden_dim4=hidden_dim4, latent_dim=latent_dim)\n",
    "decoder = Decoder(latent_dim=latent_dim, hidden_dim1=hidden_dim1, hidden_dim2=hidden_dim2, hidden_dim3=hidden_dim3, hidden_dim4=hidden_dim4, output_dim = x_dim)\n",
    "\n",
    "model = Model(Encoder=encoder, Decoder=decoder).to(device)"
   ]
  },
  {
   "cell_type": "code",
   "execution_count": 65,
   "metadata": {},
   "outputs": [
    {
     "data": {
      "text/plain": [
       "Model(\n",
       "  (Encoder): Encoder(\n",
       "    (FC_input): Linear(in_features=25, out_features=20, bias=True)\n",
       "    (FC_input2): Linear(in_features=20, out_features=20, bias=True)\n",
       "    (FC_input3): Linear(in_features=20, out_features=20, bias=True)\n",
       "    (FC_input4): Linear(in_features=20, out_features=20, bias=True)\n",
       "    (FC_mean): Linear(in_features=20, out_features=10, bias=True)\n",
       "    (FC_var): Linear(in_features=20, out_features=10, bias=True)\n",
       "    (tanh): Tanh()\n",
       "  )\n",
       "  (Decoder): Decoder(\n",
       "    (FC_hidden): Linear(in_features=10, out_features=20, bias=True)\n",
       "    (FC_hidden2): Linear(in_features=20, out_features=20, bias=True)\n",
       "    (FC_hidden3): Linear(in_features=20, out_features=20, bias=True)\n",
       "    (FC_hidden4): Linear(in_features=20, out_features=20, bias=True)\n",
       "    (FC_output): Linear(in_features=20, out_features=25, bias=True)\n",
       "    (tanh): Tanh()\n",
       "  )\n",
       ")"
      ]
     },
     "execution_count": 65,
     "metadata": {},
     "output_type": "execute_result"
    }
   ],
   "source": [
    "model.load_state_dict(torch.load('../data/vae_8.pt'))\n",
    "model.eval()"
   ]
  },
  {
   "cell_type": "code",
   "execution_count": 66,
   "metadata": {
    "colab": {
     "base_uri": "https://localhost:8080/"
    },
    "id": "spj7qjIGmmlP",
    "outputId": "c93d83fa-6279-4a02-bb93-375d2fa00d97"
   },
   "outputs": [],
   "source": [
    "with torch.no_grad():\n",
    "    noise = torch.randn(vae_batch_size, latent_dim).to(device)\n",
    "    generated_images =  model.Decoder(noise)\n",
    "    # net[0].weight[c,:,:,:] = generated_filter[0].view(5, 5)\n"
   ]
  },
  {
   "cell_type": "code",
   "execution_count": 29,
   "metadata": {
    "id": "vqvPMADDrCq5"
   },
   "outputs": [],
   "source": [
    "def show_image(x, idx):\n",
    "    x = x.view(vae_batch_size, 5, 5)\n",
    "    fig = plt.figure()\n",
    "    print(x[idx])\n",
    "    plt.imshow(x[idx].cpu().numpy())"
   ]
  },
  {
   "cell_type": "code",
   "execution_count": 30,
   "metadata": {},
   "outputs": [
    {
     "data": {
      "text/plain": [
       "tensor(1.2352, device='cuda:0')"
      ]
     },
     "execution_count": 30,
     "metadata": {},
     "output_type": "execute_result"
    }
   ],
   "source": [
    "torch.max(generated_images[1])"
   ]
  },
  {
   "cell_type": "code",
   "execution_count": 31,
   "metadata": {
    "colab": {
     "base_uri": "https://localhost:8080/",
     "height": 265
    },
    "id": "IBtceIssmmr3",
    "outputId": "bca00776-ceff-4017-81b2-c683cbdf74ac"
   },
   "outputs": [
    {
     "name": "stdout",
     "output_type": "stream",
     "text": [
      "tensor([[0.6404, 0.8437, 0.9642, 0.9720, 0.8073],\n",
      "        [0.8324, 1.0104, 1.0977, 1.0907, 0.9486],\n",
      "        [0.9133, 1.1127, 1.1212, 1.1085, 0.9143],\n",
      "        [0.9537, 1.1053, 1.1336, 1.0056, 0.7400],\n",
      "        [0.8172, 0.9567, 0.9609, 0.7914, 0.5677]], device='cuda:0')\n"
     ]
    },
    {
     "data": {
      "image/png": "[encoded data removed]",
      "text/plain": [
       "<Figure size 432x288 with 1 Axes>"
      ]
     },
     "metadata": {
      "needs_background": "light"
     },
     "output_type": "display_data"
    }
   ],
   "source": [
    "show_image(generated_images, idx=12)"
   ]
  },
  {
   "cell_type": "code",
   "execution_count": 32,
   "metadata": {
    "colab": {
     "base_uri": "https://localhost:8080/",
     "height": 340
    },
    "id": "bByQAyD4oa0y",
    "outputId": "3bcf17de-a495-4d8d-9bc6-7e6f314d7cf6"
   },
   "outputs": [],
   "source": [
    "def visualise_vae(num_rows, generated_images):\n",
    "  _, axarr = plt.subplots(num_rows, num_filters, figsize=(int(5*(num_filters//8)), num_rows))\n",
    "\n",
    "  x = generated_images\n",
    "  x = x.view(vae_batch_size, 5, 5)\n",
    "\n",
    "  for i in range(num_rows):\n",
    "    for j in range(num_filters):\n",
    "      axarr[i, j].set_axis_off()\n",
    "      axarr[i, j].imshow(x[num_filters*i+j].cpu().numpy(), interpolation=None, norm=matplotlib.colors.Normalize(vmin=vmin, vmax=vmax, clip=False))"
   ]
  },
  {
   "cell_type": "code",
   "execution_count": 69,
   "metadata": {},
   "outputs": [
    {
     "name": "stderr",
     "output_type": "stream",
     "text": [
      "100%|██████████| 10000/10000 [00:03<00:00, 2932.42it/s]\n"
     ]
    },
    {
     "name": "stdout",
     "output_type": "stream",
     "text": [
      "4922\n"
     ]
    },
    {
     "data": {
      "image/png": "[encoded data removed]",
      "text/plain": [
       "<Figure size 432x288 with 1 Axes>"
      ]
     },
     "metadata": {
      "needs_background": "light"
     },
     "output_type": "display_data"
    }
   ],
   "source": [
    "def histogram_vae(num_samples):\n",
    "\n",
    "    vals = []\n",
    "#     uuids = os.listdir(filterpath)\n",
    "    num_over_0 = 0\n",
    "    for f in tqdm(range(num_samples)):\n",
    "        noise = torch.randn(1, latent_dim).to(device)\n",
    "        generated_images =  model.Decoder(noise)\n",
    "        \n",
    "#         file = np.random.choice(uuids, replace=True)\n",
    "        filter = generated_images.view(5,5)\n",
    "#         idx = np.random.choice(8)\n",
    "        vals.append(np.mean(filter.detach().cpu().numpy()))\n",
    "        if vals[-1] > 0:\n",
    "            num_over_0 += 1\n",
    "    plt.hist(vals, bins=100,range=(-2.5,2.5))\n",
    "    print(num_over_0)\n",
    "\n",
    "\n",
    "histogram_vae(10000)"
   ]
  },
  {
   "cell_type": "code",
   "execution_count": 33,
   "metadata": {},
   "outputs": [
    {
     "data": {
      "image/png": "[encoded data removed]",
      "text/plain": [
       "<Figure size 360x864 with 96 Axes>"
      ]
     },
     "metadata": {
      "needs_background": "light"
     },
     "output_type": "display_data"
    }
   ],
   "source": [
    "visualise_vae(100//num_filters, generated_images)"
   ]
  },
  {
   "cell_type": "code",
   "execution_count": 34,
   "metadata": {},
   "outputs": [],
   "source": [
    "def visualise_random(num_rows):\n",
    "  _, axarr = plt.subplots(num_rows, num_filters, figsize=(int(5*(num_filters//8)), num_rows))\n",
    "\n",
    "  for i in range(num_rows):\n",
    "    for j in range(num_filters):\n",
    "      axarr[i, j].set_axis_off()\n",
    "      val = (vmin - vmax) * torch.rand(5, 5) + vmax\n",
    "      axarr[i, j].imshow(val.cpu().numpy(), interpolation=None, norm=matplotlib.colors.Normalize(vmin=vmin, vmax=vmax, clip=False))"
   ]
  },
  {
   "cell_type": "code",
   "execution_count": 35,
   "metadata": {},
   "outputs": [
    {
     "data": {
      "image/png": "[encoded data removed]",
      "text/plain": [
       "<Figure size 360x432 with 48 Axes>"
      ]
     },
     "metadata": {
      "needs_background": "light"
     },
     "output_type": "display_data"
    }
   ],
   "source": [
    "visualise_random(6)"
   ]
  },
  {
   "cell_type": "code",
   "execution_count": 62,
   "metadata": {},
   "outputs": [
    {
     "name": "stdout",
     "output_type": "stream",
     "text": [
      "4978\n"
     ]
    },
    {
     "data": {
      "image/png": "[encoded data removed]",
      "text/plain": [
       "<Figure size 432x288 with 1 Axes>"
      ]
     },
     "metadata": {
      "needs_background": "light"
     },
     "output_type": "display_data"
    }
   ],
   "source": [
    "import matplotlib\n",
    "def histogram_random(num_samples):\n",
    "\n",
    "    vals = []\n",
    "    uuids = os.listdir(filterpath)\n",
    "    num_over_0 = 0\n",
    "    for f in range(num_samples):\n",
    "        file = np.random.choice(uuids, replace=True)\n",
    "        filter = (vmin - vmax) * torch.rand(5, 5) + vmax\n",
    "        idx = np.random.choice(8)\n",
    "        vals.append(np.mean(filter.detach().cpu().numpy()))\n",
    "        if vals[-1] > 0:\n",
    "            num_over_0 += 1\n",
    "    plt.hist(vals, bins=100,range=(-2.5,2.5))\n",
    "    print(num_over_0)\n",
    "\n",
    "\n",
    "histogram_random(10000)"
   ]
  },
  {
   "cell_type": "markdown",
   "metadata": {},
   "source": [
    "LSTM VAE Viz"
   ]
  },
  {
   "cell_type": "code",
   "execution_count": 79,
   "metadata": {},
   "outputs": [
    {
     "name": "stdout",
     "output_type": "stream",
     "text": [
      "cuda\n"
     ]
    },
    {
     "data": {
      "text/plain": [
       "LSTM_VAE(\n",
       "  (encoder_lstm): LSTM(25, 20, batch_first=True)\n",
       "  (mean): Linear(in_features=20, out_features=10, bias=True)\n",
       "  (log_variance): Linear(in_features=20, out_features=10, bias=True)\n",
       "  (init_hidden_decoder): Linear(in_features=10, out_features=20, bias=True)\n",
       "  (decoder_lstm): LSTM(25, 20, batch_first=True)\n",
       "  (output): Linear(in_features=20, out_features=25, bias=True)\n",
       ")"
      ]
     },
     "execution_count": 79,
     "metadata": {},
     "output_type": "execute_result"
    }
   ],
   "source": [
    "loadpath = os.path.join(\"../modeling/Sequence-VAE/models/filter_lstm/shuffle_100_recon_st.pt\")\n",
    "savepath = '../data/save_baselines_lstm_joint_' + str(num_filters) + '.pickle'\n",
    "\n",
    "os.environ[\"CUDA_DEVICE_ORDER\"]=\"PCI_BUS_ID\"\n",
    "os.environ[\"CUDA_VISIBLE_DEVICES\"]=\"0,1\"\n",
    "device = \"cuda\" if torch.cuda.is_available() else \"cpu\"\n",
    "print(device)\n",
    "\n",
    "# bptt = 60\n",
    "vae_batch_size = 100\n",
    "# embed_size = 300\n",
    "hidden_size = 20\n",
    "latent_size = 10\n",
    "# latent_dim = 10\n",
    "input_size = 25\n",
    "\n",
    "class LSTM_VAE(torch.nn.Module):\n",
    "\n",
    "  def __init__(self, input_size, hidden_size, latent_size, num_layers=1):\n",
    "    super(LSTM_VAE, self).__init__()\n",
    "\n",
    "    self.device = \"cuda\" if torch.cuda.is_available() else \"cpu\"\n",
    "\n",
    "    # Variables\n",
    "    self.num_layers = num_layers\n",
    "    self.lstm_factor = num_layers\n",
    "    # self.vocab_size = vocab_size\n",
    "    # self.embed_size = embed_size\n",
    "    self.input_size = input_size\n",
    "    self.hidden_size = hidden_size\n",
    "    self.latent_size = latent_size\n",
    "\n",
    "    # For dictionary lookups \n",
    "    # self.dictionary = PTB(data_dir=\"./data\", split=\"train\", create_data= False, max_sequence_length= 60)\n",
    "  \n",
    "    # X: bsz * seq_len * vocab_size \n",
    "    # Embedding\n",
    "    # self.embed = torch.nn.Embedding(num_embeddings= self.vocab_size,embedding_dim= self.embed_size)\n",
    "\n",
    "    #    X: bsz * seq_len * vocab_size \n",
    "    #    X: bsz * seq_len * embed_size\n",
    "\n",
    "    # Encoder Part\n",
    "    self.encoder_lstm = torch.nn.LSTM(input_size= self.input_size,hidden_size= self.hidden_size, batch_first=True, num_layers= self.num_layers)\n",
    "    self.mean = torch.nn.Linear(in_features= self.hidden_size * self.lstm_factor, out_features= self.latent_size)\n",
    "    self.log_variance = torch.nn.Linear(in_features= self.hidden_size * self.lstm_factor, out_features= self.latent_size)\n",
    "\n",
    "    # Decoder Part\n",
    "                                        \n",
    "    self.init_hidden_decoder = torch.nn.Linear(in_features= self.latent_size, out_features= self.hidden_size * self.lstm_factor)\n",
    "    self.decoder_lstm = torch.nn.LSTM(input_size= self.input_size, hidden_size= self.hidden_size, batch_first = True, num_layers = self.num_layers)\n",
    "    self.output = torch.nn.Linear(in_features= self.hidden_size * self.lstm_factor, out_features= self.input_size)\n",
    "    # self.log_softmax = torch.nn.LogSoftmax(dim=2)\n",
    "\n",
    "  def init_hidden(self, batch_size):\n",
    "    hidden_cell = torch.zeros(self.num_layers, batch_size, self.hidden_size).to(self.device)\n",
    "    state_cell = torch.zeros(self.num_layers, batch_size, self.hidden_size).to(self.device)\n",
    "    return (hidden_cell, state_cell)\n",
    "#     return hidden_cell\n",
    "\n",
    "\n",
    "  # def get_embedding(self, x):\n",
    "  #   x_embed = self.embed(x)\n",
    "    \n",
    "  #   # Total length for pad_packed_sequence method = maximum sequence length\n",
    "  #   maximum_sequence_length = x_embed.size(1)\n",
    "\n",
    "  #   return x_embed, maximum_sequence_length\n",
    "\n",
    "  def encoder(self, input_filters, hidden_encoder):\n",
    "\n",
    "    # pad the packed input.\n",
    "#     print(input_filters)\n",
    "    output_encoder, hidden_encoder = self.encoder_lstm(input_filters, hidden_encoder)\n",
    "#     output_encoder, _ = torch.nn.utils.rnn.pad_packed_sequence(packed_output_encoder, batch_first=True, total_length= total_padding_length)\n",
    "\n",
    "    # Extimate the mean and the variance of q(z|x)\n",
    "    mean = self.mean(hidden_encoder[0])\n",
    "    log_var = self.log_variance(hidden_encoder[0])\n",
    "    std = torch.exp(0.5 * log_var)   # e^(0.5 log_var) = var^0.5\n",
    "    \n",
    "    # Generate a unit gaussian noise.\n",
    "    batch_size = output_encoder.size(0)\n",
    "    seq_len = output_encoder.size(1)\n",
    "    noise = torch.randn(batch_size, self.latent_size).to(self.device)\n",
    "    \n",
    "    z = noise * std + mean\n",
    "\n",
    "    return z, mean, log_var, hidden_encoder\n",
    "\n",
    "\n",
    "  def decoder(self, z, input_filters):\n",
    "\n",
    "    hidden_decoder = self.init_hidden_decoder(z)\n",
    "    hidden_decoder = (hidden_decoder, hidden_decoder)\n",
    "\n",
    "    # pad the packed input.\n",
    "    output_decoder, hidden_decoder = self.decoder_lstm(input_filters,hidden_decoder) \n",
    "#     output_decoder, _ = torch.nn.utils.rnn.pad_packed_sequence(packed_output_decoder, batch_first=True, total_length= total_padding_length)\n",
    "\n",
    "\n",
    "    x_hat = self.output(output_decoder)\n",
    "    \n",
    "#     x_hat = self.log_softmax(x_hat)\n",
    "\n",
    "\n",
    "    return x_hat\n",
    "\n",
    "  \n",
    "\n",
    "  def forward(self, input_filters,hidden_encoder):\n",
    "    \n",
    "    \"\"\"\n",
    "      x : bsz * seq_len\n",
    "    \n",
    "      hidden_encoder: ( num_lstm_layers * bsz * hidden_size, num_lstm_layers * bsz * hidden_size)\n",
    "\n",
    "    \"\"\"\n",
    "    # Get Embeddings\n",
    "    # x_embed, maximum_padding_length = self.get_embedding(x)\n",
    "\n",
    "    # Packing the input\n",
    "    # packed_x_embed = torch.nn.utils.rnn.pack_padded_sequence(input= x_embed, lengths= sentences_length, batch_first=True, enforce_sorted=False)\n",
    "\n",
    "\n",
    "    # Encoder\n",
    "    z, mean, log_var, hidden_encoder = self.encoder(input_filters, hidden_encoder)\n",
    "\n",
    "    # Decoder\n",
    "    x_hat = self.decoder(z, input_filters)\n",
    "    \n",
    "\n",
    "\n",
    "    return x_hat, mean, log_var, z, hidden_encoder\n",
    "\n",
    "  \n",
    "\n",
    "  def inference(self, batch_size, num_filters, filt1):\n",
    "\n",
    "    # generate random z \n",
    "#     seq_len = 1\n",
    "\n",
    "\n",
    "#     input = torch.Tensor(1, 1).fill_(self.dictionary.get_w2i()[sos]).long().to(self.device)\n",
    "    \n",
    "#         batch_size = 1\n",
    "    out_filters = []\n",
    "    for i in range(batch_size):\n",
    "        z = torch.randn(1,1,self.latent_size).to(self.device)\n",
    "        filter_samples = []\n",
    "        input = filt1\n",
    "        \n",
    "        hidden = self.init_hidden_decoder(z)\n",
    "        hidden = (hidden, hidden)\n",
    "\n",
    "        for j in range(num_filters):\n",
    "          output,hidden = self.decoder_lstm(input, hidden)\n",
    "          output = self.output(output)\n",
    "          filter_samples.append(output.view(-1))\n",
    "          input = output\n",
    "        \n",
    "        out_filters.append(torch.stack(filter_samples, dim=0))\n",
    "        \n",
    "#     w_sample = [self.dictionary.get_i2w()[str(idx)] for idx in idx_sample]\n",
    "#     w_sample = \" \".join(w_sample)\n",
    "\n",
    "    return torch.stack(out_filters, dim=0)\n",
    "\n",
    "model = LSTM_VAE(input_size = input_size, hidden_size = hidden_size, latent_size = latent_size).to(device)\n",
    "# MODEL_SAVE_PATH = \"./models/filter_lstm/5000_Recon_st.pt\"\n",
    "model.load_state_dict(torch.load(loadpath))\n",
    "model.eval()\n"
   ]
  },
  {
   "cell_type": "code",
   "execution_count": 80,
   "metadata": {},
   "outputs": [],
   "source": [
    "num_samples = 8\n",
    "vmin, vmax = -2.5, 2.5\n",
    "def visualise_joint_from_tensor(filters, interv=1):\n",
    "  num_rows = filters.shape[0]\n",
    "  num_filters = filters.shape[1]\n",
    "  _, axarr = plt.subplots(num_rows, num_filters//interv, figsize=(int(5*((num_filters//interv)//8)), num_rows))\n",
    "  plt.axis('off')\n",
    "  for f in range(num_rows):\n",
    "    filter = filters[f]\n",
    "    for x in range(0,num_filters,interv):\n",
    "      i = x//interv\n",
    "      if f < num_rows:\n",
    "        axarr[f, i].set_axis_off()\n",
    "        axarr[f, i].imshow(filter[x].detach().cpu(), interpolation=None, norm=matplotlib.colors.Normalize(vmin=vmin, vmax=vmax, clip=False))\n",
    "  plt.show()  \n",
    "  return filter"
   ]
  },
  {
   "cell_type": "code",
   "execution_count": 86,
   "metadata": {},
   "outputs": [
    {
     "name": "stderr",
     "output_type": "stream",
     "text": [
      "100%|██████████| 1250/1250 [00:16<00:00, 75.52it/s]\n"
     ]
    },
    {
     "name": "stdout",
     "output_type": "stream",
     "text": [
      "970\n"
     ]
    },
    {
     "data": {
      "image/png": "[encoded data removed]",
      "text/plain": [
       "<Figure size 432x288 with 1 Axes>"
      ]
     },
     "metadata": {
      "needs_background": "light"
     },
     "output_type": "display_data"
    }
   ],
   "source": [
    "def histogram_lstm_joint(num_samples):\n",
    "\n",
    "    vals = []\n",
    "#     uuids = os.listdir(filterpath)\n",
    "    num_over_0 = 0\n",
    "    for f in tqdm(range(num_samples)):\n",
    "        sample = model.inference(1,80,FILTER1.view(1,1,-1).to(device))\n",
    "        sample = sample[:,::10]\n",
    "#         print(generated_images.shape)\n",
    "#         file = np.random.choice(uuids, replace=True)\n",
    "        generated_images = sample.view(8,5,5)\n",
    "#         idx = np.random.choice(8)\n",
    "        for filter in generated_images:\n",
    "#             print(filter.shape)\n",
    "            vals.append(np.mean(filter.detach().cpu().numpy()))\n",
    "            if vals[-1] > 0:\n",
    "                num_over_0 += 1\n",
    "    plt.hist(vals, bins=100,range=(-2.5,2.5))\n",
    "    print(num_over_0)\n",
    "\n",
    "\n",
    "# histogram_vae_joint(10000/8)\n",
    "histogram_lstm_joint(1250)"
   ]
  },
  {
   "cell_type": "code",
   "execution_count": 85,
   "metadata": {},
   "outputs": [],
   "source": [
    "sample = model.inference(num_samples,80,FILTER1.view(1,1,-1).to(device))\n",
    "sample = sample[:,::10]\n",
    "sample = sample.view(sample.shape[:-1]+tuple([5,5]))\n",
    "sample.shape()"
   ]
  },
  {
   "cell_type": "code",
   "execution_count": 81,
   "metadata": {},
   "outputs": [
    {
     "data": {
      "image/png": "[encoded data removed]",
      "text/plain": [
       "<Figure size 360x576 with 64 Axes>"
      ]
     },
     "metadata": {
      "needs_background": "light"
     },
     "output_type": "display_data"
    }
   ],
   "source": [
    "torch.manual_seed(1000)\n",
    "num_samples = 8\n",
    "FILTER1 = torch.zeros(5,5)\n",
    "sample = model.inference(num_samples,80,FILTER1.view(1,1,-1).to(device))\n",
    "sample = sample.view(sample.shape[:-1]+tuple([5,5]))\n",
    "fils = visualise_joint_from_tensor(sample,10)"
   ]
  },
  {
   "cell_type": "markdown",
   "metadata": {},
   "source": [
    "GMM Viz"
   ]
  },
  {
   "cell_type": "code",
   "execution_count": 70,
   "metadata": {},
   "outputs": [],
   "source": [
    "\n",
    "import numpy as np\n",
    "from sklearn.mixture import GaussianMixture"
   ]
  },
  {
   "cell_type": "code",
   "execution_count": 71,
   "metadata": {},
   "outputs": [],
   "source": [
    "X = dataset.view(-1,25).detach().clone().cpu().numpy()\n",
    "\n",
    "gmm = GaussianMixture(n_components=2).fit(X)"
   ]
  },
  {
   "cell_type": "code",
   "execution_count": 72,
   "metadata": {},
   "outputs": [],
   "source": [
    "num_samples = 8\n",
    "vmin, vmax = -2.5, 2.5\n",
    "def visualise_filters(filters):\n",
    "  num_rows = filters.shape[0]\n",
    "  num_filters = filters.shape[1]\n",
    "  _, axarr = plt.subplots(num_rows, num_filters, figsize=(int(5*(num_filters//8)), num_rows))\n",
    "  plt.axis('off')\n",
    "  for f in range(num_rows):\n",
    "    filter = filters[f]\n",
    "    for i in range(num_filters):\n",
    "      if f < num_rows:\n",
    "        axarr[f, i].set_axis_off()\n",
    "        axarr[f, i].imshow(filter[i], interpolation=None, norm=matplotlib.colors.Normalize(vmin=vmin, vmax=vmax, clip=False))\n",
    "  plt.show()  \n",
    "  return"
   ]
  },
  {
   "cell_type": "code",
   "execution_count": null,
   "metadata": {},
   "outputs": [],
   "source": []
  },
  {
   "cell_type": "code",
   "execution_count": 73,
   "metadata": {},
   "outputs": [
    {
     "data": {
      "image/png": "[encoded data removed]",
      "text/plain": [
       "<Figure size 360x576 with 64 Axes>"
      ]
     },
     "metadata": {
      "needs_background": "light"
     },
     "output_type": "display_data"
    }
   ],
   "source": [
    "n_samples = 8\n",
    "n_filters = 8\n",
    "filters , _ = gmm.sample(n_filters*n_samples)\n",
    "filters = np.random.permutation(np.reshape(filters, (-1,5,5)))\n",
    "# print(components.sha)\n",
    "\n",
    "filters = np.reshape(filters, (n_samples,n_filters,5,5))\n",
    "visualise_filters(filters)"
   ]
  },
  {
   "cell_type": "code",
   "execution_count": 77,
   "metadata": {},
   "outputs": [
    {
     "name": "stderr",
     "output_type": "stream",
     "text": [
      "100%|██████████| 10000/10000 [00:09<00:00, 1082.58it/s]\n"
     ]
    },
    {
     "name": "stdout",
     "output_type": "stream",
     "text": [
      "5417\n"
     ]
    },
    {
     "data": {
      "image/png": "[encoded data removed]",
      "text/plain": [
       "<Figure size 432x288 with 1 Axes>"
      ]
     },
     "metadata": {
      "needs_background": "light"
     },
     "output_type": "display_data"
    }
   ],
   "source": [
    "def histogram_gmm(num_samples):\n",
    "\n",
    "    vals = []\n",
    "#     uuids = os.listdir(filterpath)\n",
    "    num_over_0 = 0\n",
    "    for f in tqdm(range(num_samples)):\n",
    "        generated_images,_ = gmm.sample(1)\n",
    "        filter = np.reshape(generated_images,(5,5))\n",
    "        vals.append(np.mean(filter))\n",
    "        if vals[-1] > 0:\n",
    "            num_over_0 += 1\n",
    "    plt.hist(vals, bins=100,range=(-2.5,2.5))\n",
    "    print(num_over_0)\n",
    "\n",
    "\n",
    "histogram_gmm(10000)"
   ]
  },
  {
   "cell_type": "code",
   "execution_count": null,
   "metadata": {},
   "outputs": [],
   "source": []
  },
  {
   "cell_type": "markdown",
   "metadata": {},
   "source": [
    "# Looking at Results"
   ]
  },
  {
   "cell_type": "code",
   "execution_count": 36,
   "metadata": {},
   "outputs": [],
   "source": [
    "import pickle\n",
    "import numpy as np"
   ]
  },
  {
   "cell_type": "code",
   "execution_count": 37,
   "metadata": {},
   "outputs": [],
   "source": [
    "files = ['joint', 'random', 'sampled_iid', 'vae']"
   ]
  },
  {
   "cell_type": "code",
   "execution_count": 38,
   "metadata": {},
   "outputs": [
    {
     "ename": "FileNotFoundError",
     "evalue": "[Errno 2] No such file or directory: '../data/save_baselines_joint_file.pickle'",
     "output_type": "error",
     "traceback": [
      "\u001b[0;31m---------------------------------------------------------------------------\u001b[0m",
      "\u001b[0;31mFileNotFoundError\u001b[0m                         Traceback (most recent call last)",
      "\u001b[0;32m<ipython-input-38-02cea074f90e>\u001b[0m in \u001b[0;36m<module>\u001b[0;34m\u001b[0m\n\u001b[1;32m      1\u001b[0m \u001b[0mres\u001b[0m \u001b[0;34m=\u001b[0m \u001b[0;34m{\u001b[0m\u001b[0;34m}\u001b[0m\u001b[0;34m\u001b[0m\u001b[0;34m\u001b[0m\u001b[0m\n\u001b[1;32m      2\u001b[0m \u001b[0;32mfor\u001b[0m \u001b[0mfile\u001b[0m \u001b[0;32min\u001b[0m \u001b[0mfiles\u001b[0m\u001b[0;34m:\u001b[0m\u001b[0;34m\u001b[0m\u001b[0;34m\u001b[0m\u001b[0m\n\u001b[0;32m----> 3\u001b[0;31m     \u001b[0;32mwith\u001b[0m \u001b[0mopen\u001b[0m\u001b[0;34m(\u001b[0m\u001b[0;34m'../data/save_baselines_'\u001b[0m \u001b[0;34m+\u001b[0m \u001b[0mfile\u001b[0m \u001b[0;34m+\u001b[0m \u001b[0;34m'_file.pickle'\u001b[0m\u001b[0;34m,\u001b[0m \u001b[0;34m'rb'\u001b[0m\u001b[0;34m)\u001b[0m \u001b[0;32mas\u001b[0m \u001b[0mf\u001b[0m\u001b[0;34m:\u001b[0m\u001b[0;34m\u001b[0m\u001b[0;34m\u001b[0m\u001b[0m\n\u001b[0m\u001b[1;32m      4\u001b[0m         \u001b[0mres\u001b[0m\u001b[0;34m[\u001b[0m\u001b[0mfile\u001b[0m\u001b[0;34m]\u001b[0m \u001b[0;34m=\u001b[0m \u001b[0mpickle\u001b[0m\u001b[0;34m.\u001b[0m\u001b[0mload\u001b[0m\u001b[0;34m(\u001b[0m\u001b[0mf\u001b[0m\u001b[0;34m)\u001b[0m\u001b[0;34m\u001b[0m\u001b[0;34m\u001b[0m\u001b[0m\n",
      "\u001b[0;31mFileNotFoundError\u001b[0m: [Errno 2] No such file or directory: '../data/save_baselines_joint_file.pickle'"
     ]
    }
   ],
   "source": [
    "res = {}\n",
    "for file in files:\n",
    "    with open('../data/save_baselines_' + file + '_file.pickle', 'rb') as f:\n",
    "        res[file] = pickle.load(f)"
   ]
  },
  {
   "cell_type": "code",
   "execution_count": null,
   "metadata": {},
   "outputs": [
    {
     "name": "stdout",
     "output_type": "stream",
     "text": [
      "joint 0.45455199999999996 0.12400282938707488\n"
     ]
    }
   ],
   "source": [
    "d = res['joint']['joint_IID']['acc']\n",
    "print('joint', np.mean(d), np.std(d))"
   ]
  },
  {
   "cell_type": "code",
   "execution_count": null,
   "metadata": {},
   "outputs": [
    {
     "name": "stdout",
     "output_type": "stream",
     "text": [
      "sampled iid 0.477316 0.098790787748656\n"
     ]
    }
   ],
   "source": [
    "d = res['sampled_iid']['sample_filters_IID_16']['acc']\n",
    "print('sampled iid', np.mean(d), np.std(d))"
   ]
  },
  {
   "cell_type": "code",
   "execution_count": null,
   "metadata": {},
   "outputs": [
    {
     "name": "stdout",
     "output_type": "stream",
     "text": [
      "random 0.17172 0.099667619616403\n"
     ]
    }
   ],
   "source": [
    "d = res['random']['random_16']['acc']\n",
    "print('random', np.mean(d), np.std(d))"
   ]
  },
  {
   "cell_type": "code",
   "execution_count": null,
   "metadata": {},
   "outputs": [
    {
     "name": "stdout",
     "output_type": "stream",
     "text": [
      "vae 0.5837720000000001 0.06628210932069076\n"
     ]
    }
   ],
   "source": [
    "d = res['vae']['vae_IID_16']['acc']\n",
    "print('vae', np.mean(d), np.std(d))"
   ]
  },
  {
   "cell_type": "code",
   "execution_count": null,
   "metadata": {},
   "outputs": [],
   "source": []
  },
  {
   "cell_type": "markdown",
   "metadata": {},
   "source": [
    "Visualize MNIST"
   ]
  },
  {
   "cell_type": "code",
   "execution_count": null,
   "metadata": {},
   "outputs": [],
   "source": [
    "from torchvision import datasets, transforms"
   ]
  },
  {
   "cell_type": "code",
   "execution_count": null,
   "metadata": {},
   "outputs": [],
   "source": [
    "mnist_mean, mnist_std = (0.1307,), (0.3081,)\n",
    "mnist_transform=transforms.Compose([\n",
    "    transforms.ToTensor(),\n",
    "    transforms.Normalize(mnist_mean, mnist_std)\n",
    "    ])\n",
    "mnist_train = datasets.MNIST('../../data', train=True, download=True,\n",
    "                    transform=mnist_transform)"
   ]
  },
  {
   "cell_type": "code",
   "execution_count": null,
   "metadata": {},
   "outputs": [],
   "source": [
    "batch_size = 64"
   ]
  },
  {
   "cell_type": "code",
   "execution_count": null,
   "metadata": {},
   "outputs": [],
   "source": [
    "train_loader = torch.utils.data.DataLoader(mnist_train,batch_size=batch_size, shuffle=True)"
   ]
  },
  {
   "cell_type": "code",
   "execution_count": null,
   "metadata": {},
   "outputs": [],
   "source": [
    "for batch_idx, (data, target) in enumerate(train_loader):\n",
    "    print(data[0][0])\n",
    "    break"
   ]
  },
  {
   "cell_type": "code",
   "execution_count": 116,
   "metadata": {},
   "outputs": [],
   "source": [
    "import torch.nn as nn\n",
    "import os\n",
    "import matplotlib\n",
    "device = torch.device('cpu')\n",
    "nz=8\n",
    "ngpu=1\n",
    "netG_load = '../dcgan-out/netG_epoch_990.pth'\n",
    "class Generator(nn.Module):\n",
    "    def __init__(self, ngpu):\n",
    "        super(Generator, self).__init__()\n",
    "        self.ngpu = ngpu\n",
    "        self.main = nn.Sequential(\n",
    "            nn.Flatten(),\n",
    "            nn.Linear(nz, 64),\n",
    "            nn.BatchNorm1d(64),\n",
    "            nn.Tanh(),\n",
    "            nn.Linear(64, 128),\n",
    "            nn.BatchNorm1d(128),\n",
    "            nn.Tanh(),\n",
    "            nn.Linear(128, 128),\n",
    "            nn.BatchNorm1d(128),\n",
    "            nn.Tanh(),\n",
    "            nn.Linear(128, 25),\n",
    "            \n",
    "            \n",
    "            # EDITED\n",
    "\n",
    "\n",
    "        )\n",
    "\n",
    "    def forward(self, input):\n",
    "        if input.is_cuda and self.ngpu > 1:\n",
    "            output = nn.parallel.data_parallel(self.main, input, range(self.ngpu))\n",
    "        else:\n",
    "            output = self.main(input)\n",
    "        return output\n",
    "\n",
    "\n",
    "netG = Generator(ngpu).to(device)\n",
    "netG.load_state_dict(torch.load(netG_load))\n",
    "\n",
    "\n",
    "\n",
    "def visualise_dcgan(netG, num_rows, nz):\n",
    "    _, axarr = plt.subplots(num_rows, 8, figsize=(10, num_rows))\n",
    "    plt.axis('off')\n",
    "\n",
    "    uuids = os.listdir(filterpath)\n",
    "    for f in range(num_rows):\n",
    "        noise = torch.randn(8, nz, 1, 1, device=device)\n",
    "        fake = netG(noise)\n",
    "        for i in range(8):\n",
    "            axarr[f, i].set_axis_off()\n",
    "            axarr[f, i].imshow(fake[i].detach().reshape(5,5), norm=matplotlib.colors.Normalize(vmin=-.3, vmax=.3, clip=False), interpolation=None)\n",
    "\n",
    "def histogram_dcgan(num_samples):\n",
    "\n",
    "    uuids = os.listdir(filterpath)\n",
    "    vals = []\n",
    "    for f in range(num_samples // 8):\n",
    "        noise = torch.randn(8, nz, 1, 1, device=device)\n",
    "        fake = netG(noise)\n",
    "        for i in range(8):\n",
    "            vals.append(np.mean(fake[i].detach().reshape(5,5).numpy()))\n",
    "    plt.hist(vals, bins=30)\n"
   ]
  },
  {
   "cell_type": "code",
   "execution_count": 117,
   "metadata": {},
   "outputs": [
    {
     "data": {
      "image/png": "[encoded data removed]",
      "text/plain": [
       "<Figure size 1000x1000 with 80 Axes>"
      ]
     },
     "metadata": {},
     "output_type": "display_data"
    }
   ],
   "source": [
    "\n",
    "# histogram_dcgan(10000)\n",
    "visualise_dcgan(netG, 10, nz)"
   ]
  },
  {
   "cell_type": "code",
   "execution_count": 4,
   "metadata": {},
   "outputs": [],
   "source": [
    "import torch.nn as nn\n",
    "import os\n",
    "import matplotlib\n",
    "device = torch.device('cpu')\n",
    "nz=32\n",
    "nc = 8\n",
    "ngpu=1\n",
    "netG_load = '../dcgan-out/netG_epoch_990.pth'\n",
    "class Generator(nn.Module):\n",
    "    def __init__(self, ngpu):\n",
    "        super(Generator, self).__init__()\n",
    "        self.ngpu = ngpu\n",
    "        self.main = nn.Sequential(\n",
    "            nn.Flatten(),\n",
    "            nn.Linear(nz, 64),\n",
    "            nn.BatchNorm1d(64),\n",
    "            nn.Tanh(),\n",
    "            nn.Linear(64, 128),\n",
    "            nn.BatchNorm1d(128),\n",
    "            nn.Tanh(),\n",
    "            nn.Linear(128, 128),\n",
    "            nn.BatchNorm1d(128),\n",
    "            nn.Tanh(),\n",
    "            nn.Linear(128, 25 * 8),\n",
    "            \n",
    "            \n",
    "            # EDITED\n",
    "\n",
    "\n",
    "        )\n",
    "\n",
    "    def forward(self, input):\n",
    "        if input.is_cuda and self.ngpu > 1:\n",
    "            output = nn.parallel.data_parallel(self.main, input, range(self.ngpu))\n",
    "        else:\n",
    "            output = self.main(input)\n",
    "        return output\n",
    "\n",
    "\n",
    "netG = Generator(ngpu).to(device)\n",
    "netG.load_state_dict(torch.load(netG_load))\n",
    "\n",
    "\n",
    "\n",
    "def visualise_dcgan_joint(netG, num_rows, nz):\n",
    "    _, axarr = plt.subplots(num_rows, 8, figsize=(10, num_rows))\n",
    "    plt.axis('off')\n",
    "\n",
    "    uuids = os.listdir(filterpath)\n",
    "    for f in range(num_rows):\n",
    "        noise = torch.randn(2, nz, 1, 1, device=device)\n",
    "        fake = netG(noise)\n",
    "        for i in range(8):\n",
    "            axarr[f, i].set_axis_off()\n",
    "            axarr[f, i].imshow(fake[0,i*25:i*25 + 25].detach().reshape(5,5), norm=matplotlib.colors.Normalize(vmin=-.3, vmax=.3, clip=False), interpolation=None)\n",
    "\n",
    "def histogram_dcgan_joint(num_samples):\n",
    "\n",
    "    uuids = os.listdir(filterpath)\n",
    "    vals = []\n",
    "    for f in range(num_samples):\n",
    "        noise = torch.randn(2, nz, device=device)\n",
    "        fake = netG(noise)\n",
    "        for i in range(8):\n",
    "            vals.append(np.mean(fake[0,i*25:i*25 + 25].detach().reshape(5,5).numpy()))\n",
    "    plt.hist(vals, bins=30)\n"
   ]
  },
  {
   "cell_type": "code",
   "execution_count": 5,
   "metadata": {},
   "outputs": [
    {
     "data": {
      "image/png": "[encoded data removed]",
      "text/plain": [
       "<Figure size 640x480 with 1 Axes>"
      ]
     },
     "metadata": {},
     "output_type": "display_data"
    }
   ],
   "source": [
    "histogram_dcgan_joint(100)"
   ]
  }
 ],
 "metadata": {
  "accelerator": "GPU",
  "colab": {
   "provenance": []
  },
  "gpuClass": "standard",
  "kernelspec": {
   "display_name": "Python 3",
   "language": "python",
   "name": "python3"
  },
  "language_info": {
   "codemirror_mode": {
    "name": "ipython",
    "version": 3
   },
   "file_extension": ".py",
   "mimetype": "text/x-python",
   "name": "python",
   "nbconvert_exporter": "python",
   "pygments_lexer": "ipython3",
   "version": "3.7.6"
  },
  "vscode": {
   "interpreter": {
    "hash": "31f2aee4e71d21fbe5cf8b01ff0e069b9275f58929596ceb00d14d90e3e16cd6"
   }
  },
  "widgets": {
   "application/vnd.jupyter.widget-state+json": {
    "05b934a1c2fc4690aec772db2d95a231": {
     "model_module": "@jupyter-widgets/controls",
     "model_module_version": "1.5.0",
     "model_name": "HTMLModel",
     "state": {
      "_dom_classes": [],
      "_model_module": "@jupyter-widgets/controls",
      "_model_module_version": "1.5.0",
      "_model_name": "HTMLModel",
      "_view_count": null,
      "_view_module": "@jupyter-widgets/controls",
      "_view_module_version": "1.5.0",
      "_view_name": "HTMLView",
      "description": "",
      "description_tooltip": null,
      "layout": "IPY_MODEL_3b99054728544305844e68c1ed641d17",
      "placeholder": "​",
      "style": "IPY_MODEL_9c6cd4e384764ecba0c6f46a77b69947",
      "value": " 1648877/1648877 [00:00&lt;00:00, 27824614.45it/s]"
     }
    },
    "0b824287b0ff46d09a50daeea5fb7619": {
     "model_module": "@jupyter-widgets/base",
     "model_module_version": "1.2.0",
     "model_name": "LayoutModel",
     "state": {
      "_model_module": "@jupyter-widgets/base",
      "_model_module_version": "1.2.0",
      "_model_name": "LayoutModel",
      "_view_count": null,
      "_view_module": "@jupyter-widgets/base",
      "_view_module_version": "1.2.0",
      "_view_name": "LayoutView",
      "align_content": null,
      "align_items": null,
      "align_self": null,
      "border": null,
      "bottom": null,
      "display": null,
      "flex": null,
      "flex_flow": null,
      "grid_area": null,
      "grid_auto_columns": null,
      "grid_auto_flow": null,
      "grid_auto_rows": null,
      "grid_column": null,
      "grid_gap": null,
      "grid_row": null,
      "grid_template_areas": null,
      "grid_template_columns": null,
      "grid_template_rows": null,
      "height": null,
      "justify_content": null,
      "justify_items": null,
      "left": null,
      "margin": null,
      "max_height": null,
      "max_width": null,
      "min_height": null,
      "min_width": null,
      "object_fit": null,
      "object_position": null,
      "order": null,
      "overflow": null,
      "overflow_x": null,
      "overflow_y": null,
      "padding": null,
      "right": null,
      "top": null,
      "visibility": null,
      "width": null
     }
    },
    "0c64a45f2dc14dcf9b1278e52ad506a1": {
     "model_module": "@jupyter-widgets/base",
     "model_module_version": "1.2.0",
     "model_name": "LayoutModel",
     "state": {
      "_model_module": "@jupyter-widgets/base",
      "_model_module_version": "1.2.0",
      "_model_name": "LayoutModel",
      "_view_count": null,
      "_view_module": "@jupyter-widgets/base",
      "_view_module_version": "1.2.0",
      "_view_name": "LayoutView",
      "align_content": null,
      "align_items": null,
      "align_self": null,
      "border": null,
      "bottom": null,
      "display": null,
      "flex": null,
      "flex_flow": null,
      "grid_area": null,
      "grid_auto_columns": null,
      "grid_auto_flow": null,
      "grid_auto_rows": null,
      "grid_column": null,
      "grid_gap": null,
      "grid_row": null,
      "grid_template_areas": null,
      "grid_template_columns": null,
      "grid_template_rows": null,
      "height": null,
      "justify_content": null,
      "justify_items": null,
      "left": null,
      "margin": null,
      "max_height": null,
      "max_width": null,
      "min_height": null,
      "min_width": null,
      "object_fit": null,
      "object_position": null,
      "order": null,
      "overflow": null,
      "overflow_x": null,
      "overflow_y": null,
      "padding": null,
      "right": null,
      "top": null,
      "visibility": null,
      "width": null
     }
    },
    "23d84a3984104b95bef5097f55a478d1": {
     "model_module": "@jupyter-widgets/controls",
     "model_module_version": "1.5.0",
     "model_name": "HTMLModel",
     "state": {
      "_dom_classes": [],
      "_model_module": "@jupyter-widgets/controls",
      "_model_module_version": "1.5.0",
      "_model_name": "HTMLModel",
      "_view_count": null,
      "_view_module": "@jupyter-widgets/controls",
      "_view_module_version": "1.5.0",
      "_view_name": "HTMLView",
      "description": "",
      "description_tooltip": null,
      "layout": "IPY_MODEL_0c64a45f2dc14dcf9b1278e52ad506a1",
      "placeholder": "​",
      "style": "IPY_MODEL_874745b4f05c47648dedea7f3d7852fe",
      "value": "100%"
     }
    },
    "23fd20df659b4c8aafd35e3db97ca728": {
     "model_module": "@jupyter-widgets/controls",
     "model_module_version": "1.5.0",
     "model_name": "ProgressStyleModel",
     "state": {
      "_model_module": "@jupyter-widgets/controls",
      "_model_module_version": "1.5.0",
      "_model_name": "ProgressStyleModel",
      "_view_count": null,
      "_view_module": "@jupyter-widgets/base",
      "_view_module_version": "1.2.0",
      "_view_name": "StyleView",
      "bar_color": null,
      "description_width": ""
     }
    },
    "32dc929598cd43f8b874a9e0b6bd70c9": {
     "model_module": "@jupyter-widgets/controls",
     "model_module_version": "1.5.0",
     "model_name": "FloatProgressModel",
     "state": {
      "_dom_classes": [],
      "_model_module": "@jupyter-widgets/controls",
      "_model_module_version": "1.5.0",
      "_model_name": "FloatProgressModel",
      "_view_count": null,
      "_view_module": "@jupyter-widgets/controls",
      "_view_module_version": "1.5.0",
      "_view_name": "ProgressView",
      "bar_style": "success",
      "description": "",
      "description_tooltip": null,
      "layout": "IPY_MODEL_b10c802443944b628fe121ce7e8a372f",
      "max": 9912422,
      "min": 0,
      "orientation": "horizontal",
      "style": "IPY_MODEL_914193b1a3b04c819f63e92420a1b11b",
      "value": 9912422
     }
    },
    "39ebc8cdd7ec43c0aff5bb5a75393ec7": {
     "model_module": "@jupyter-widgets/controls",
     "model_module_version": "1.5.0",
     "model_name": "DescriptionStyleModel",
     "state": {
      "_model_module": "@jupyter-widgets/controls",
      "_model_module_version": "1.5.0",
      "_model_name": "DescriptionStyleModel",
      "_view_count": null,
      "_view_module": "@jupyter-widgets/base",
      "_view_module_version": "1.2.0",
      "_view_name": "StyleView",
      "description_width": ""
     }
    },
    "3a1a003f615447499230bce95f77e86c": {
     "model_module": "@jupyter-widgets/controls",
     "model_module_version": "1.5.0",
     "model_name": "FloatProgressModel",
     "state": {
      "_dom_classes": [],
      "_model_module": "@jupyter-widgets/controls",
      "_model_module_version": "1.5.0",
      "_model_name": "FloatProgressModel",
      "_view_count": null,
      "_view_module": "@jupyter-widgets/controls",
      "_view_module_version": "1.5.0",
      "_view_name": "ProgressView",
      "bar_style": "success",
      "description": "",
      "description_tooltip": null,
      "layout": "IPY_MODEL_82ecf2722c0646b4a57ca35b4951a56b",
      "max": 4542,
      "min": 0,
      "orientation": "horizontal",
      "style": "IPY_MODEL_23fd20df659b4c8aafd35e3db97ca728",
      "value": 4542
     }
    },
    "3b99054728544305844e68c1ed641d17": {
     "model_module": "@jupyter-widgets/base",
     "model_module_version": "1.2.0",
     "model_name": "LayoutModel",
     "state": {
      "_model_module": "@jupyter-widgets/base",
      "_model_module_version": "1.2.0",
      "_model_name": "LayoutModel",
      "_view_count": null,
      "_view_module": "@jupyter-widgets/base",
      "_view_module_version": "1.2.0",
      "_view_name": "LayoutView",
      "align_content": null,
      "align_items": null,
      "align_self": null,
      "border": null,
      "bottom": null,
      "display": null,
      "flex": null,
      "flex_flow": null,
      "grid_area": null,
      "grid_auto_columns": null,
      "grid_auto_flow": null,
      "grid_auto_rows": null,
      "grid_column": null,
      "grid_gap": null,
      "grid_row": null,
      "grid_template_areas": null,
      "grid_template_columns": null,
      "grid_template_rows": null,
      "height": null,
      "justify_content": null,
      "justify_items": null,
      "left": null,
      "margin": null,
      "max_height": null,
      "max_width": null,
      "min_height": null,
      "min_width": null,
      "object_fit": null,
      "object_position": null,
      "order": null,
      "overflow": null,
      "overflow_x": null,
      "overflow_y": null,
      "padding": null,
      "right": null,
      "top": null,
      "visibility": null,
      "width": null
     }
    },
    "3e96bceff2764b3f90f3101d11661a8a": {
     "model_module": "@jupyter-widgets/base",
     "model_module_version": "1.2.0",
     "model_name": "LayoutModel",
     "state": {
      "_model_module": "@jupyter-widgets/base",
      "_model_module_version": "1.2.0",
      "_model_name": "LayoutModel",
      "_view_count": null,
      "_view_module": "@jupyter-widgets/base",
      "_view_module_version": "1.2.0",
      "_view_name": "LayoutView",
      "align_content": null,
      "align_items": null,
      "align_self": null,
      "border": null,
      "bottom": null,
      "display": null,
      "flex": null,
      "flex_flow": null,
      "grid_area": null,
      "grid_auto_columns": null,
      "grid_auto_flow": null,
      "grid_auto_rows": null,
      "grid_column": null,
      "grid_gap": null,
      "grid_row": null,
      "grid_template_areas": null,
      "grid_template_columns": null,
      "grid_template_rows": null,
      "height": null,
      "justify_content": null,
      "justify_items": null,
      "left": null,
      "margin": null,
      "max_height": null,
      "max_width": null,
      "min_height": null,
      "min_width": null,
      "object_fit": null,
      "object_position": null,
      "order": null,
      "overflow": null,
      "overflow_x": null,
      "overflow_y": null,
      "padding": null,
      "right": null,
      "top": null,
      "visibility": null,
      "width": null
     }
    },
    "4406fd1b43384bbfb1844bae8ee15f83": {
     "model_module": "@jupyter-widgets/controls",
     "model_module_version": "1.5.0",
     "model_name": "HTMLModel",
     "state": {
      "_dom_classes": [],
      "_model_module": "@jupyter-widgets/controls",
      "_model_module_version": "1.5.0",
      "_model_name": "HTMLModel",
      "_view_count": null,
      "_view_module": "@jupyter-widgets/controls",
      "_view_module_version": "1.5.0",
      "_view_name": "HTMLView",
      "description": "",
      "description_tooltip": null,
      "layout": "IPY_MODEL_cff549896f5e4c4fae79e56b1c6e87ba",
      "placeholder": "​",
      "style": "IPY_MODEL_edae0fcb4e4f47b6a77d43dc738db487",
      "value": "100%"
     }
    },
    "44109768735f4d4983f5a643dd4503bf": {
     "model_module": "@jupyter-widgets/controls",
     "model_module_version": "1.5.0",
     "model_name": "HTMLModel",
     "state": {
      "_dom_classes": [],
      "_model_module": "@jupyter-widgets/controls",
      "_model_module_version": "1.5.0",
      "_model_name": "HTMLModel",
      "_view_count": null,
      "_view_module": "@jupyter-widgets/controls",
      "_view_module_version": "1.5.0",
      "_view_name": "HTMLView",
      "description": "",
      "description_tooltip": null,
      "layout": "IPY_MODEL_637ba3c394c541f5931fcfefbbe36970",
      "placeholder": "​",
      "style": "IPY_MODEL_88e723ea80264e0c86fdf6dd35ee8eba",
      "value": " 4542/4542 [00:00&lt;00:00, 171550.66it/s]"
     }
    },
    "531062e5f844427d9b57ccbf23eecf1b": {
     "model_module": "@jupyter-widgets/base",
     "model_module_version": "1.2.0",
     "model_name": "LayoutModel",
     "state": {
      "_model_module": "@jupyter-widgets/base",
      "_model_module_version": "1.2.0",
      "_model_name": "LayoutModel",
      "_view_count": null,
      "_view_module": "@jupyter-widgets/base",
      "_view_module_version": "1.2.0",
      "_view_name": "LayoutView",
      "align_content": null,
      "align_items": null,
      "align_self": null,
      "border": null,
      "bottom": null,
      "display": null,
      "flex": null,
      "flex_flow": null,
      "grid_area": null,
      "grid_auto_columns": null,
      "grid_auto_flow": null,
      "grid_auto_rows": null,
      "grid_column": null,
      "grid_gap": null,
      "grid_row": null,
      "grid_template_areas": null,
      "grid_template_columns": null,
      "grid_template_rows": null,
      "height": null,
      "justify_content": null,
      "justify_items": null,
      "left": null,
      "margin": null,
      "max_height": null,
      "max_width": null,
      "min_height": null,
      "min_width": null,
      "object_fit": null,
      "object_position": null,
      "order": null,
      "overflow": null,
      "overflow_x": null,
      "overflow_y": null,
      "padding": null,
      "right": null,
      "top": null,
      "visibility": null,
      "width": null
     }
    },
    "5bf965372dd54f8b8644f113971e43e0": {
     "model_module": "@jupyter-widgets/controls",
     "model_module_version": "1.5.0",
     "model_name": "HTMLModel",
     "state": {
      "_dom_classes": [],
      "_model_module": "@jupyter-widgets/controls",
      "_model_module_version": "1.5.0",
      "_model_name": "HTMLModel",
      "_view_count": null,
      "_view_module": "@jupyter-widgets/controls",
      "_view_module_version": "1.5.0",
      "_view_name": "HTMLView",
      "description": "",
      "description_tooltip": null,
      "layout": "IPY_MODEL_81452f2372c34d6ea5584b63722a8c53",
      "placeholder": "​",
      "style": "IPY_MODEL_6083dc727ae8415d89a9470915f622c1",
      "value": " 9912422/9912422 [00:00&lt;00:00, 100506722.28it/s]"
     }
    },
    "6083dc727ae8415d89a9470915f622c1": {
     "model_module": "@jupyter-widgets/controls",
     "model_module_version": "1.5.0",
     "model_name": "DescriptionStyleModel",
     "state": {
      "_model_module": "@jupyter-widgets/controls",
      "_model_module_version": "1.5.0",
      "_model_name": "DescriptionStyleModel",
      "_view_count": null,
      "_view_module": "@jupyter-widgets/base",
      "_view_module_version": "1.2.0",
      "_view_name": "StyleView",
      "description_width": ""
     }
    },
    "637ba3c394c541f5931fcfefbbe36970": {
     "model_module": "@jupyter-widgets/base",
     "model_module_version": "1.2.0",
     "model_name": "LayoutModel",
     "state": {
      "_model_module": "@jupyter-widgets/base",
      "_model_module_version": "1.2.0",
      "_model_name": "LayoutModel",
      "_view_count": null,
      "_view_module": "@jupyter-widgets/base",
      "_view_module_version": "1.2.0",
      "_view_name": "LayoutView",
      "align_content": null,
      "align_items": null,
      "align_self": null,
      "border": null,
      "bottom": null,
      "display": null,
      "flex": null,
      "flex_flow": null,
      "grid_area": null,
      "grid_auto_columns": null,
      "grid_auto_flow": null,
      "grid_auto_rows": null,
      "grid_column": null,
      "grid_gap": null,
      "grid_row": null,
      "grid_template_areas": null,
      "grid_template_columns": null,
      "grid_template_rows": null,
      "height": null,
      "justify_content": null,
      "justify_items": null,
      "left": null,
      "margin": null,
      "max_height": null,
      "max_width": null,
      "min_height": null,
      "min_width": null,
      "object_fit": null,
      "object_position": null,
      "order": null,
      "overflow": null,
      "overflow_x": null,
      "overflow_y": null,
      "padding": null,
      "right": null,
      "top": null,
      "visibility": null,
      "width": null
     }
    },
    "6930d2c530af4a4ab07378bccd1bbd50": {
     "model_module": "@jupyter-widgets/base",
     "model_module_version": "1.2.0",
     "model_name": "LayoutModel",
     "state": {
      "_model_module": "@jupyter-widgets/base",
      "_model_module_version": "1.2.0",
      "_model_name": "LayoutModel",
      "_view_count": null,
      "_view_module": "@jupyter-widgets/base",
      "_view_module_version": "1.2.0",
      "_view_name": "LayoutView",
      "align_content": null,
      "align_items": null,
      "align_self": null,
      "border": null,
      "bottom": null,
      "display": null,
      "flex": null,
      "flex_flow": null,
      "grid_area": null,
      "grid_auto_columns": null,
      "grid_auto_flow": null,
      "grid_auto_rows": null,
      "grid_column": null,
      "grid_gap": null,
      "grid_row": null,
      "grid_template_areas": null,
      "grid_template_columns": null,
      "grid_template_rows": null,
      "height": null,
      "justify_content": null,
      "justify_items": null,
      "left": null,
      "margin": null,
      "max_height": null,
      "max_width": null,
      "min_height": null,
      "min_width": null,
      "object_fit": null,
      "object_position": null,
      "order": null,
      "overflow": null,
      "overflow_x": null,
      "overflow_y": null,
      "padding": null,
      "right": null,
      "top": null,
      "visibility": null,
      "width": null
     }
    },
    "6a7e211aa6f74158a8a583db6f3dea0b": {
     "model_module": "@jupyter-widgets/controls",
     "model_module_version": "1.5.0",
     "model_name": "HBoxModel",
     "state": {
      "_dom_classes": [],
      "_model_module": "@jupyter-widgets/controls",
      "_model_module_version": "1.5.0",
      "_model_name": "HBoxModel",
      "_view_count": null,
      "_view_module": "@jupyter-widgets/controls",
      "_view_module_version": "1.5.0",
      "_view_name": "HBoxView",
      "box_style": "",
      "children": [
       "IPY_MODEL_23d84a3984104b95bef5097f55a478d1",
       "IPY_MODEL_f3a04f9f663f40889444267dadd4f102",
       "IPY_MODEL_05b934a1c2fc4690aec772db2d95a231"
      ],
      "layout": "IPY_MODEL_0b824287b0ff46d09a50daeea5fb7619"
     }
    },
    "75721330b6b24d888bcb27708bec8cfc": {
     "model_module": "@jupyter-widgets/controls",
     "model_module_version": "1.5.0",
     "model_name": "HBoxModel",
     "state": {
      "_dom_classes": [],
      "_model_module": "@jupyter-widgets/controls",
      "_model_module_version": "1.5.0",
      "_model_name": "HBoxModel",
      "_view_count": null,
      "_view_module": "@jupyter-widgets/controls",
      "_view_module_version": "1.5.0",
      "_view_name": "HBoxView",
      "box_style": "",
      "children": [
       "IPY_MODEL_4406fd1b43384bbfb1844bae8ee15f83",
       "IPY_MODEL_32dc929598cd43f8b874a9e0b6bd70c9",
       "IPY_MODEL_5bf965372dd54f8b8644f113971e43e0"
      ],
      "layout": "IPY_MODEL_3e96bceff2764b3f90f3101d11661a8a"
     }
    },
    "81452f2372c34d6ea5584b63722a8c53": {
     "model_module": "@jupyter-widgets/base",
     "model_module_version": "1.2.0",
     "model_name": "LayoutModel",
     "state": {
      "_model_module": "@jupyter-widgets/base",
      "_model_module_version": "1.2.0",
      "_model_name": "LayoutModel",
      "_view_count": null,
      "_view_module": "@jupyter-widgets/base",
      "_view_module_version": "1.2.0",
      "_view_name": "LayoutView",
      "align_content": null,
      "align_items": null,
      "align_self": null,
      "border": null,
      "bottom": null,
      "display": null,
      "flex": null,
      "flex_flow": null,
      "grid_area": null,
      "grid_auto_columns": null,
      "grid_auto_flow": null,
      "grid_auto_rows": null,
      "grid_column": null,
      "grid_gap": null,
      "grid_row": null,
      "grid_template_areas": null,
      "grid_template_columns": null,
      "grid_template_rows": null,
      "height": null,
      "justify_content": null,
      "justify_items": null,
      "left": null,
      "margin": null,
      "max_height": null,
      "max_width": null,
      "min_height": null,
      "min_width": null,
      "object_fit": null,
      "object_position": null,
      "order": null,
      "overflow": null,
      "overflow_x": null,
      "overflow_y": null,
      "padding": null,
      "right": null,
      "top": null,
      "visibility": null,
      "width": null
     }
    },
    "82ecf2722c0646b4a57ca35b4951a56b": {
     "model_module": "@jupyter-widgets/base",
     "model_module_version": "1.2.0",
     "model_name": "LayoutModel",
     "state": {
      "_model_module": "@jupyter-widgets/base",
      "_model_module_version": "1.2.0",
      "_model_name": "LayoutModel",
      "_view_count": null,
      "_view_module": "@jupyter-widgets/base",
      "_view_module_version": "1.2.0",
      "_view_name": "LayoutView",
      "align_content": null,
      "align_items": null,
      "align_self": null,
      "border": null,
      "bottom": null,
      "display": null,
      "flex": null,
      "flex_flow": null,
      "grid_area": null,
      "grid_auto_columns": null,
      "grid_auto_flow": null,
      "grid_auto_rows": null,
      "grid_column": null,
      "grid_gap": null,
      "grid_row": null,
      "grid_template_areas": null,
      "grid_template_columns": null,
      "grid_template_rows": null,
      "height": null,
      "justify_content": null,
      "justify_items": null,
      "left": null,
      "margin": null,
      "max_height": null,
      "max_width": null,
      "min_height": null,
      "min_width": null,
      "object_fit": null,
      "object_position": null,
      "order": null,
      "overflow": null,
      "overflow_x": null,
      "overflow_y": null,
      "padding": null,
      "right": null,
      "top": null,
      "visibility": null,
      "width": null
     }
    },
    "874745b4f05c47648dedea7f3d7852fe": {
     "model_module": "@jupyter-widgets/controls",
     "model_module_version": "1.5.0",
     "model_name": "DescriptionStyleModel",
     "state": {
      "_model_module": "@jupyter-widgets/controls",
      "_model_module_version": "1.5.0",
      "_model_name": "DescriptionStyleModel",
      "_view_count": null,
      "_view_module": "@jupyter-widgets/base",
      "_view_module_version": "1.2.0",
      "_view_name": "StyleView",
      "description_width": ""
     }
    },
    "8755cd9984a046859207c06951d6ef01": {
     "model_module": "@jupyter-widgets/controls",
     "model_module_version": "1.5.0",
     "model_name": "HTMLModel",
     "state": {
      "_dom_classes": [],
      "_model_module": "@jupyter-widgets/controls",
      "_model_module_version": "1.5.0",
      "_model_name": "HTMLModel",
      "_view_count": null,
      "_view_module": "@jupyter-widgets/controls",
      "_view_module_version": "1.5.0",
      "_view_name": "HTMLView",
      "description": "",
      "description_tooltip": null,
      "layout": "IPY_MODEL_6930d2c530af4a4ab07378bccd1bbd50",
      "placeholder": "​",
      "style": "IPY_MODEL_39ebc8cdd7ec43c0aff5bb5a75393ec7",
      "value": " 28881/28881 [00:00&lt;00:00, 1024871.35it/s]"
     }
    },
    "88e723ea80264e0c86fdf6dd35ee8eba": {
     "model_module": "@jupyter-widgets/controls",
     "model_module_version": "1.5.0",
     "model_name": "DescriptionStyleModel",
     "state": {
      "_model_module": "@jupyter-widgets/controls",
      "_model_module_version": "1.5.0",
      "_model_name": "DescriptionStyleModel",
      "_view_count": null,
      "_view_module": "@jupyter-widgets/base",
      "_view_module_version": "1.2.0",
      "_view_name": "StyleView",
      "description_width": ""
     }
    },
    "8c47eb1e28ea4b9cbc54ac54e285bbc1": {
     "model_module": "@jupyter-widgets/controls",
     "model_module_version": "1.5.0",
     "model_name": "HBoxModel",
     "state": {
      "_dom_classes": [],
      "_model_module": "@jupyter-widgets/controls",
      "_model_module_version": "1.5.0",
      "_model_name": "HBoxModel",
      "_view_count": null,
      "_view_module": "@jupyter-widgets/controls",
      "_view_module_version": "1.5.0",
      "_view_name": "HBoxView",
      "box_style": "",
      "children": [
       "IPY_MODEL_a618bf5c150646019f5ecee4a521c1e9",
       "IPY_MODEL_b05affddc5e74413816c16f85a63d2ca",
       "IPY_MODEL_8755cd9984a046859207c06951d6ef01"
      ],
      "layout": "IPY_MODEL_e039cd7317e542b8a146fdd967180d21"
     }
    },
    "914193b1a3b04c819f63e92420a1b11b": {
     "model_module": "@jupyter-widgets/controls",
     "model_module_version": "1.5.0",
     "model_name": "ProgressStyleModel",
     "state": {
      "_model_module": "@jupyter-widgets/controls",
      "_model_module_version": "1.5.0",
      "_model_name": "ProgressStyleModel",
      "_view_count": null,
      "_view_module": "@jupyter-widgets/base",
      "_view_module_version": "1.2.0",
      "_view_name": "StyleView",
      "bar_color": null,
      "description_width": ""
     }
    },
    "933f4a3f0f704c448c61e99642534ccd": {
     "model_module": "@jupyter-widgets/base",
     "model_module_version": "1.2.0",
     "model_name": "LayoutModel",
     "state": {
      "_model_module": "@jupyter-widgets/base",
      "_model_module_version": "1.2.0",
      "_model_name": "LayoutModel",
      "_view_count": null,
      "_view_module": "@jupyter-widgets/base",
      "_view_module_version": "1.2.0",
      "_view_name": "LayoutView",
      "align_content": null,
      "align_items": null,
      "align_self": null,
      "border": null,
      "bottom": null,
      "display": null,
      "flex": null,
      "flex_flow": null,
      "grid_area": null,
      "grid_auto_columns": null,
      "grid_auto_flow": null,
      "grid_auto_rows": null,
      "grid_column": null,
      "grid_gap": null,
      "grid_row": null,
      "grid_template_areas": null,
      "grid_template_columns": null,
      "grid_template_rows": null,
      "height": null,
      "justify_content": null,
      "justify_items": null,
      "left": null,
      "margin": null,
      "max_height": null,
      "max_width": null,
      "min_height": null,
      "min_width": null,
      "object_fit": null,
      "object_position": null,
      "order": null,
      "overflow": null,
      "overflow_x": null,
      "overflow_y": null,
      "padding": null,
      "right": null,
      "top": null,
      "visibility": null,
      "width": null
     }
    },
    "9c6cd4e384764ecba0c6f46a77b69947": {
     "model_module": "@jupyter-widgets/controls",
     "model_module_version": "1.5.0",
     "model_name": "DescriptionStyleModel",
     "state": {
      "_model_module": "@jupyter-widgets/controls",
      "_model_module_version": "1.5.0",
      "_model_name": "DescriptionStyleModel",
      "_view_count": null,
      "_view_module": "@jupyter-widgets/base",
      "_view_module_version": "1.2.0",
      "_view_name": "StyleView",
      "description_width": ""
     }
    },
    "a618bf5c150646019f5ecee4a521c1e9": {
     "model_module": "@jupyter-widgets/controls",
     "model_module_version": "1.5.0",
     "model_name": "HTMLModel",
     "state": {
      "_dom_classes": [],
      "_model_module": "@jupyter-widgets/controls",
      "_model_module_version": "1.5.0",
      "_model_name": "HTMLModel",
      "_view_count": null,
      "_view_module": "@jupyter-widgets/controls",
      "_view_module_version": "1.5.0",
      "_view_name": "HTMLView",
      "description": "",
      "description_tooltip": null,
      "layout": "IPY_MODEL_eb2377ed93cf4fcf83b46d528cbddf2c",
      "placeholder": "​",
      "style": "IPY_MODEL_bd180e996fe74a9da480fe9952c41089",
      "value": "100%"
     }
    },
    "aa9617019a2f4c3e9b0f4a5e2d47b067": {
     "model_module": "@jupyter-widgets/controls",
     "model_module_version": "1.5.0",
     "model_name": "HBoxModel",
     "state": {
      "_dom_classes": [],
      "_model_module": "@jupyter-widgets/controls",
      "_model_module_version": "1.5.0",
      "_model_name": "HBoxModel",
      "_view_count": null,
      "_view_module": "@jupyter-widgets/controls",
      "_view_module_version": "1.5.0",
      "_view_name": "HBoxView",
      "box_style": "",
      "children": [
       "IPY_MODEL_c6edf1133f1f4dea93098fafb38746e4",
       "IPY_MODEL_3a1a003f615447499230bce95f77e86c",
       "IPY_MODEL_44109768735f4d4983f5a643dd4503bf"
      ],
      "layout": "IPY_MODEL_531062e5f844427d9b57ccbf23eecf1b"
     }
    },
    "b05affddc5e74413816c16f85a63d2ca": {
     "model_module": "@jupyter-widgets/controls",
     "model_module_version": "1.5.0",
     "model_name": "FloatProgressModel",
     "state": {
      "_dom_classes": [],
      "_model_module": "@jupyter-widgets/controls",
      "_model_module_version": "1.5.0",
      "_model_name": "FloatProgressModel",
      "_view_count": null,
      "_view_module": "@jupyter-widgets/controls",
      "_view_module_version": "1.5.0",
      "_view_name": "ProgressView",
      "bar_style": "success",
      "description": "",
      "description_tooltip": null,
      "layout": "IPY_MODEL_fd611c8cd43742d9987d667bfc98a60b",
      "max": 28881,
      "min": 0,
      "orientation": "horizontal",
      "style": "IPY_MODEL_b468431d0b144cf1b26465bcf9b188ad",
      "value": 28881
     }
    },
    "b10c802443944b628fe121ce7e8a372f": {
     "model_module": "@jupyter-widgets/base",
     "model_module_version": "1.2.0",
     "model_name": "LayoutModel",
     "state": {
      "_model_module": "@jupyter-widgets/base",
      "_model_module_version": "1.2.0",
      "_model_name": "LayoutModel",
      "_view_count": null,
      "_view_module": "@jupyter-widgets/base",
      "_view_module_version": "1.2.0",
      "_view_name": "LayoutView",
      "align_content": null,
      "align_items": null,
      "align_self": null,
      "border": null,
      "bottom": null,
      "display": null,
      "flex": null,
      "flex_flow": null,
      "grid_area": null,
      "grid_auto_columns": null,
      "grid_auto_flow": null,
      "grid_auto_rows": null,
      "grid_column": null,
      "grid_gap": null,
      "grid_row": null,
      "grid_template_areas": null,
      "grid_template_columns": null,
      "grid_template_rows": null,
      "height": null,
      "justify_content": null,
      "justify_items": null,
      "left": null,
      "margin": null,
      "max_height": null,
      "max_width": null,
      "min_height": null,
      "min_width": null,
      "object_fit": null,
      "object_position": null,
      "order": null,
      "overflow": null,
      "overflow_x": null,
      "overflow_y": null,
      "padding": null,
      "right": null,
      "top": null,
      "visibility": null,
      "width": null
     }
    },
    "b468431d0b144cf1b26465bcf9b188ad": {
     "model_module": "@jupyter-widgets/controls",
     "model_module_version": "1.5.0",
     "model_name": "ProgressStyleModel",
     "state": {
      "_model_module": "@jupyter-widgets/controls",
      "_model_module_version": "1.5.0",
      "_model_name": "ProgressStyleModel",
      "_view_count": null,
      "_view_module": "@jupyter-widgets/base",
      "_view_module_version": "1.2.0",
      "_view_name": "StyleView",
      "bar_color": null,
      "description_width": ""
     }
    },
    "bd180e996fe74a9da480fe9952c41089": {
     "model_module": "@jupyter-widgets/controls",
     "model_module_version": "1.5.0",
     "model_name": "DescriptionStyleModel",
     "state": {
      "_model_module": "@jupyter-widgets/controls",
      "_model_module_version": "1.5.0",
      "_model_name": "DescriptionStyleModel",
      "_view_count": null,
      "_view_module": "@jupyter-widgets/base",
      "_view_module_version": "1.2.0",
      "_view_name": "StyleView",
      "description_width": ""
     }
    },
    "c6edf1133f1f4dea93098fafb38746e4": {
     "model_module": "@jupyter-widgets/controls",
     "model_module_version": "1.5.0",
     "model_name": "HTMLModel",
     "state": {
      "_dom_classes": [],
      "_model_module": "@jupyter-widgets/controls",
      "_model_module_version": "1.5.0",
      "_model_name": "HTMLModel",
      "_view_count": null,
      "_view_module": "@jupyter-widgets/controls",
      "_view_module_version": "1.5.0",
      "_view_name": "HTMLView",
      "description": "",
      "description_tooltip": null,
      "layout": "IPY_MODEL_cbdc61595b3843faba8d7eb7512a37f2",
      "placeholder": "​",
      "style": "IPY_MODEL_fb9d6c9a964c419985161f4abf7c3a04",
      "value": "100%"
     }
    },
    "cbdc61595b3843faba8d7eb7512a37f2": {
     "model_module": "@jupyter-widgets/base",
     "model_module_version": "1.2.0",
     "model_name": "LayoutModel",
     "state": {
      "_model_module": "@jupyter-widgets/base",
      "_model_module_version": "1.2.0",
      "_model_name": "LayoutModel",
      "_view_count": null,
      "_view_module": "@jupyter-widgets/base",
      "_view_module_version": "1.2.0",
      "_view_name": "LayoutView",
      "align_content": null,
      "align_items": null,
      "align_self": null,
      "border": null,
      "bottom": null,
      "display": null,
      "flex": null,
      "flex_flow": null,
      "grid_area": null,
      "grid_auto_columns": null,
      "grid_auto_flow": null,
      "grid_auto_rows": null,
      "grid_column": null,
      "grid_gap": null,
      "grid_row": null,
      "grid_template_areas": null,
      "grid_template_columns": null,
      "grid_template_rows": null,
      "height": null,
      "justify_content": null,
      "justify_items": null,
      "left": null,
      "margin": null,
      "max_height": null,
      "max_width": null,
      "min_height": null,
      "min_width": null,
      "object_fit": null,
      "object_position": null,
      "order": null,
      "overflow": null,
      "overflow_x": null,
      "overflow_y": null,
      "padding": null,
      "right": null,
      "top": null,
      "visibility": null,
      "width": null
     }
    },
    "cff549896f5e4c4fae79e56b1c6e87ba": {
     "model_module": "@jupyter-widgets/base",
     "model_module_version": "1.2.0",
     "model_name": "LayoutModel",
     "state": {
      "_model_module": "@jupyter-widgets/base",
      "_model_module_version": "1.2.0",
      "_model_name": "LayoutModel",
      "_view_count": null,
      "_view_module": "@jupyter-widgets/base",
      "_view_module_version": "1.2.0",
      "_view_name": "LayoutView",
      "align_content": null,
      "align_items": null,
      "align_self": null,
      "border": null,
      "bottom": null,
      "display": null,
      "flex": null,
      "flex_flow": null,
      "grid_area": null,
      "grid_auto_columns": null,
      "grid_auto_flow": null,
      "grid_auto_rows": null,
      "grid_column": null,
      "grid_gap": null,
      "grid_row": null,
      "grid_template_areas": null,
      "grid_template_columns": null,
      "grid_template_rows": null,
      "height": null,
      "justify_content": null,
      "justify_items": null,
      "left": null,
      "margin": null,
      "max_height": null,
      "max_width": null,
      "min_height": null,
      "min_width": null,
      "object_fit": null,
      "object_position": null,
      "order": null,
      "overflow": null,
      "overflow_x": null,
      "overflow_y": null,
      "padding": null,
      "right": null,
      "top": null,
      "visibility": null,
      "width": null
     }
    },
    "dc28de0418414bfa85c3282f3a6924cd": {
     "model_module": "@jupyter-widgets/controls",
     "model_module_version": "1.5.0",
     "model_name": "ProgressStyleModel",
     "state": {
      "_model_module": "@jupyter-widgets/controls",
      "_model_module_version": "1.5.0",
      "_model_name": "ProgressStyleModel",
      "_view_count": null,
      "_view_module": "@jupyter-widgets/base",
      "_view_module_version": "1.2.0",
      "_view_name": "StyleView",
      "bar_color": null,
      "description_width": ""
     }
    },
    "e039cd7317e542b8a146fdd967180d21": {
     "model_module": "@jupyter-widgets/base",
     "model_module_version": "1.2.0",
     "model_name": "LayoutModel",
     "state": {
      "_model_module": "@jupyter-widgets/base",
      "_model_module_version": "1.2.0",
      "_model_name": "LayoutModel",
      "_view_count": null,
      "_view_module": "@jupyter-widgets/base",
      "_view_module_version": "1.2.0",
      "_view_name": "LayoutView",
      "align_content": null,
      "align_items": null,
      "align_self": null,
      "border": null,
      "bottom": null,
      "display": null,
      "flex": null,
      "flex_flow": null,
      "grid_area": null,
      "grid_auto_columns": null,
      "grid_auto_flow": null,
      "grid_auto_rows": null,
      "grid_column": null,
      "grid_gap": null,
      "grid_row": null,
      "grid_template_areas": null,
      "grid_template_columns": null,
      "grid_template_rows": null,
      "height": null,
      "justify_content": null,
      "justify_items": null,
      "left": null,
      "margin": null,
      "max_height": null,
      "max_width": null,
      "min_height": null,
      "min_width": null,
      "object_fit": null,
      "object_position": null,
      "order": null,
      "overflow": null,
      "overflow_x": null,
      "overflow_y": null,
      "padding": null,
      "right": null,
      "top": null,
      "visibility": null,
      "width": null
     }
    },
    "eb2377ed93cf4fcf83b46d528cbddf2c": {
     "model_module": "@jupyter-widgets/base",
     "model_module_version": "1.2.0",
     "model_name": "LayoutModel",
     "state": {
      "_model_module": "@jupyter-widgets/base",
      "_model_module_version": "1.2.0",
      "_model_name": "LayoutModel",
      "_view_count": null,
      "_view_module": "@jupyter-widgets/base",
      "_view_module_version": "1.2.0",
      "_view_name": "LayoutView",
      "align_content": null,
      "align_items": null,
      "align_self": null,
      "border": null,
      "bottom": null,
      "display": null,
      "flex": null,
      "flex_flow": null,
      "grid_area": null,
      "grid_auto_columns": null,
      "grid_auto_flow": null,
      "grid_auto_rows": null,
      "grid_column": null,
      "grid_gap": null,
      "grid_row": null,
      "grid_template_areas": null,
      "grid_template_columns": null,
      "grid_template_rows": null,
      "height": null,
      "justify_content": null,
      "justify_items": null,
      "left": null,
      "margin": null,
      "max_height": null,
      "max_width": null,
      "min_height": null,
      "min_width": null,
      "object_fit": null,
      "object_position": null,
      "order": null,
      "overflow": null,
      "overflow_x": null,
      "overflow_y": null,
      "padding": null,
      "right": null,
      "top": null,
      "visibility": null,
      "width": null
     }
    },
    "edae0fcb4e4f47b6a77d43dc738db487": {
     "model_module": "@jupyter-widgets/controls",
     "model_module_version": "1.5.0",
     "model_name": "DescriptionStyleModel",
     "state": {
      "_model_module": "@jupyter-widgets/controls",
      "_model_module_version": "1.5.0",
      "_model_name": "DescriptionStyleModel",
      "_view_count": null,
      "_view_module": "@jupyter-widgets/base",
      "_view_module_version": "1.2.0",
      "_view_name": "StyleView",
      "description_width": ""
     }
    },
    "f3a04f9f663f40889444267dadd4f102": {
     "model_module": "@jupyter-widgets/controls",
     "model_module_version": "1.5.0",
     "model_name": "FloatProgressModel",
     "state": {
      "_dom_classes": [],
      "_model_module": "@jupyter-widgets/controls",
      "_model_module_version": "1.5.0",
      "_model_name": "FloatProgressModel",
      "_view_count": null,
      "_view_module": "@jupyter-widgets/controls",
      "_view_module_version": "1.5.0",
      "_view_name": "ProgressView",
      "bar_style": "success",
      "description": "",
      "description_tooltip": null,
      "layout": "IPY_MODEL_933f4a3f0f704c448c61e99642534ccd",
      "max": 1648877,
      "min": 0,
      "orientation": "horizontal",
      "style": "IPY_MODEL_dc28de0418414bfa85c3282f3a6924cd",
      "value": 1648877
     }
    },
    "fb9d6c9a964c419985161f4abf7c3a04": {
     "model_module": "@jupyter-widgets/controls",
     "model_module_version": "1.5.0",
     "model_name": "DescriptionStyleModel",
     "state": {
      "_model_module": "@jupyter-widgets/controls",
      "_model_module_version": "1.5.0",
      "_model_name": "DescriptionStyleModel",
      "_view_count": null,
      "_view_module": "@jupyter-widgets/base",
      "_view_module_version": "1.2.0",
      "_view_name": "StyleView",
      "description_width": ""
     }
    },
    "fd611c8cd43742d9987d667bfc98a60b": {
     "model_module": "@jupyter-widgets/base",
     "model_module_version": "1.2.0",
     "model_name": "LayoutModel",
     "state": {
      "_model_module": "@jupyter-widgets/base",
      "_model_module_version": "1.2.0",
      "_model_name": "LayoutModel",
      "_view_count": null,
      "_view_module": "@jupyter-widgets/base",
      "_view_module_version": "1.2.0",
      "_view_name": "LayoutView",
      "align_content": null,
      "align_items": null,
      "align_self": null,
      "border": null,
      "bottom": null,
      "display": null,
      "flex": null,
      "flex_flow": null,
      "grid_area": null,
      "grid_auto_columns": null,
      "grid_auto_flow": null,
      "grid_auto_rows": null,
      "grid_column": null,
      "grid_gap": null,
      "grid_row": null,
      "grid_template_areas": null,
      "grid_template_columns": null,
      "grid_template_rows": null,
      "height": null,
      "justify_content": null,
      "justify_items": null,
      "left": null,
      "margin": null,
      "max_height": null,
      "max_width": null,
      "min_height": null,
      "min_width": null,
      "object_fit": null,
      "object_position": null,
      "order": null,
      "overflow": null,
      "overflow_x": null,
      "overflow_y": null,
      "padding": null,
      "right": null,
      "top": null,
      "visibility": null,
      "width": null
     }
    }
   }
  }
 },
 "nbformat": 4,
 "nbformat_minor": 1
}
