{
 "cells": [
  {
   "cell_type": "code",
   "execution_count": 1,
   "metadata": {},
   "outputs": [],
   "source": [
    "%load_ext autoreload\n",
    "%autoreload 2"
   ]
  },
  {
   "cell_type": "code",
   "execution_count": 14,
   "metadata": {},
   "outputs": [],
   "source": [
    "import pickle\n",
    "import torch \n",
    "import numpy as np"
   ]
  },
  {
   "cell_type": "code",
   "execution_count": 3,
   "metadata": {},
   "outputs": [],
   "source": [
    "with open('save_baselines.pickle', 'rb') as f:\n",
    "    res = pickle.load(f)"
   ]
  },
  {
   "cell_type": "code",
   "execution_count": 23,
   "metadata": {},
   "outputs": [
    {
     "data": {
      "text/plain": [
       "{'acc': [0.3709,\n",
       "  0.485,\n",
       "  0.4826,\n",
       "  0.2953,\n",
       "  0.5206,\n",
       "  0.5398,\n",
       "  0.4436,\n",
       "  0.573,\n",
       "  0.5911,\n",
       "  0.3921,\n",
       "  0.3325,\n",
       "  0.4797,\n",
       "  0.4322,\n",
       "  0.6366,\n",
       "  0.6517,\n",
       "  0.5644,\n",
       "  0.3968],\n",
       " 'loss': [tensor(-21176530.),\n",
       "  tensor(-18646462.),\n",
       "  tensor(-20632278.),\n",
       "  tensor(-20673704.),\n",
       "  tensor(-18560768.),\n",
       "  tensor(-21742132.),\n",
       "  tensor(-21269596.),\n",
       "  tensor(-19439946.),\n",
       "  tensor(-18482002.),\n",
       "  tensor(-18386120.),\n",
       "  tensor(-23199926.),\n",
       "  tensor(-19335764.),\n",
       "  tensor(-19980406.),\n",
       "  tensor(-18755524.),\n",
       "  tensor(-18178390.),\n",
       "  tensor(-18495928.),\n",
       "  tensor(-19062776.)]}"
      ]
     },
     "execution_count": 23,
     "metadata": {},
     "output_type": "execute_result"
    }
   ],
   "source": [
    "res['sample_filters_IID_16']"
   ]
  },
  {
   "cell_type": "code",
   "execution_count": 26,
   "metadata": {},
   "outputs": [
    {
     "data": {
      "text/plain": [
       "46.751875"
      ]
     },
     "execution_count": 26,
     "metadata": {},
     "output_type": "execute_result"
    }
   ],
   "source": [
    "np.mean(res['sample_filters_IID_256']['acc'])*100"
   ]
  },
  {
   "cell_type": "code",
   "execution_count": 27,
   "metadata": {},
   "outputs": [
    {
     "data": {
      "text/plain": [
       "3.403149678514744"
      ]
     },
     "execution_count": 27,
     "metadata": {},
     "output_type": "execute_result"
    }
   ],
   "source": [
    "np.std(res['sample_filters_IID_256']['acc'])*100"
   ]
  },
  {
   "cell_type": "code",
   "execution_count": 19,
   "metadata": {},
   "outputs": [],
   "source": [
    "with open('save_baselines-sampled-iid.pickle', 'rb') as f:\n",
    "    res = pickle.load(f)"
   ]
  },
  {
   "cell_type": "code",
   "execution_count": null,
   "metadata": {},
   "outputs": [],
   "source": []
  }
 ],
 "metadata": {
  "kernelspec": {
   "display_name": "Python 3.8.8 ('base')",
   "language": "python",
   "name": "python3"
  },
  "language_info": {
   "codemirror_mode": {
    "name": "ipython",
    "version": 3
   },
   "file_extension": ".py",
   "mimetype": "text/x-python",
   "name": "python",
   "nbconvert_exporter": "python",
   "pygments_lexer": "ipython3",
   "version": "3.8.8"
  },
  "orig_nbformat": 4,
  "vscode": {
   "interpreter": {
    "hash": "b171fa6a9dacaa27b659a6e08079c71584e4691517c41e5a8d9560eb17cc529b"
   }
  }
 },
 "nbformat": 4,
 "nbformat_minor": 2
}
