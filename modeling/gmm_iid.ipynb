{
 "cells": [
  {
   "cell_type": "code",
   "execution_count": 1,
   "metadata": {},
   "outputs": [],
   "source": [
    "%load_ext autoreload\n",
    "%autoreload 2"
   ]
  },
  {
   "cell_type": "code",
   "execution_count": 7,
   "metadata": {},
   "outputs": [],
   "source": [
    "import torch\n",
    "import os\n",
    "from tqdm import tqdm\n",
    "from torch.utils.data import Dataset, DataLoader\n",
    "\n",
    "from tqdm import tqdm\n",
    "\n",
    "import numpy as np\n",
    "from sklearn.mixture import GaussianMixture\n",
    "# torch.manual_seed(1000)"
   ]
  },
  {
   "cell_type": "code",
   "execution_count": 8,
   "metadata": {},
   "outputs": [
    {
     "name": "stderr",
     "output_type": "stream",
     "text": [
      "1407it [00:00, 1779.07it/s]\n"
     ]
    }
   ],
   "source": [
    "datapath = os.path.join('../', 'data')\n",
    "filterpath = os.path.join(datapath, 'filters-final', '8_19')\n",
    "\n",
    "def get_dataset():\n",
    "  weight_dataset = []\n",
    "  for f, file in tqdm(enumerate(os.listdir(filterpath))):\n",
    "    filter = torch.load(os.path.join(filterpath, file), map_location=torch.device('cpu'))\n",
    "    for i in range(8):\n",
    "      weight_dataset.append(filter['0.weight'][i][0])\n",
    "  return weight_dataset\n",
    "\n",
    "num_images = len(os.listdir(filterpath))\n",
    "dataset = get_dataset()\n",
    "dataset = torch.stack(dataset, dim=0).view(-1,25)\n",
    "\n",
    "X = dataset.detach().clone().numpy()"
   ]
  },
  {
   "cell_type": "code",
   "execution_count": 9,
   "metadata": {},
   "outputs": [
    {
     "data": {
      "text/plain": [
       "(array([[ 0.63928263,  0.87025204,  0.96075744,  0.94329809,  0.81370859,\n",
       "          0.80967939,  1.01851419,  1.07026775,  1.04811645,  0.90203315,\n",
       "          0.90569408,  1.06888688,  1.1006983 ,  1.06557808,  0.90194257,\n",
       "          0.91922929,  1.06753041,  1.0862277 ,  1.02917074,  0.82248866,\n",
       "          0.83246254,  0.96698932,  0.97847316,  0.88049996,  0.6475891 ],\n",
       "        [-1.01662134, -1.4376669 , -1.59227929, -1.52346821, -1.20155378,\n",
       "         -1.41885938, -1.78037165, -1.86469005, -1.79843324, -1.46862696,\n",
       "         -1.56076213, -1.86182289, -1.91004459, -1.84457332, -1.5070076 ,\n",
       "         -1.48120041, -1.78926408, -1.83539504, -1.72235234, -1.305657  ,\n",
       "         -1.12857498, -1.42277534, -1.46859889, -1.27800006, -0.82306332]]),\n",
       " array([0.54505147, 0.45494853]))"
      ]
     },
     "execution_count": 9,
     "metadata": {},
     "output_type": "execute_result"
    }
   ],
   "source": [
    "gmm = GaussianMixture(n_components=2).fit(X)\n",
    "gmm.means_, gmm.weights_"
   ]
  },
  {
   "cell_type": "code",
   "execution_count": 10,
   "metadata": {},
   "outputs": [],
   "source": [
    "import matplotlib\n",
    "import matplotlib.pyplot as plt\n",
    "\n",
    "num_samples = 8\n",
    "vmin, vmax = -2.5, 2.5\n",
    "def visualise_filters(filters):\n",
    "  num_rows = filters.shape[0]\n",
    "  num_filters = filters.shape[1]\n",
    "  _, axarr = plt.subplots(num_rows, num_filters, figsize=(int(5*(num_filters//8)), num_rows))\n",
    "  plt.axis('off')\n",
    "  for f in range(num_rows):\n",
    "    filter = filters[f]\n",
    "    for i in range(num_filters):\n",
    "      if f < num_rows:\n",
    "        axarr[f, i].set_axis_off()\n",
    "        axarr[f, i].imshow(filter[i], interpolation=None, norm=matplotlib.colors.Normalize(vmin=vmin, vmax=vmax, clip=False))\n",
    "  plt.show()  \n",
    "  return"
   ]
  },
  {
   "cell_type": "code",
   "execution_count": 11,
   "metadata": {},
   "outputs": [
    {
     "data": {
      "image/png": "[encoded data removed]",
      "text/plain": [
       "<Figure size 500x800 with 64 Axes>"
      ]
     },
     "metadata": {},
     "output_type": "display_data"
    }
   ],
   "source": [
    "n_samples = 8\n",
    "n_filters = 8\n",
    "filters , _ = gmm.sample(n_filters*n_samples)\n",
    "filters = np.random.permutation(np.reshape(filters, (-1,5,5)))\n",
    "# print(components.sha)\n",
    "\n",
    "filters = np.reshape(filters, (n_samples,n_filters,5,5))\n",
    "visualise_filters(filters)\n",
    "# components = np.reshape(components, (n_samples,n_filters,-1))"
   ]
  }
 ],
 "metadata": {
  "kernelspec": {
   "display_name": "Python -- PGM Project",
   "language": "python",
   "name": "pgmproject"
  },
  "language_info": {
   "codemirror_mode": {
    "name": "ipython",
    "version": 3
   },
   "file_extension": ".py",
   "mimetype": "text/x-python",
   "name": "python",
   "nbconvert_exporter": "python",
   "pygments_lexer": "ipython3",
   "version": "3.9.15"
  },
  "vscode": {
   "interpreter": {
    "hash": "039a79601734fea28f120756f7f55f24247dde1f3e9b3c5ed3d899d17e313e84"
   }
  }
 },
 "nbformat": 4,
 "nbformat_minor": 4
}
