{
 "cells": [
  {
   "cell_type": "code",
   "execution_count": 1,
   "metadata": {},
   "outputs": [],
   "source": [
    "import matplotlib"
   ]
  },
  {
   "cell_type": "code",
   "execution_count": 2,
   "metadata": {},
   "outputs": [
    {
     "name": "stderr",
     "output_type": "stream",
     "text": [
      "1364it [00:02, 525.28it/s] \n"
     ]
    }
   ],
   "source": [
    "import os\n",
    "import torch\n",
    "import random\n",
    "import numpy as np\n",
    "from tqdm import tqdm\n",
    "import torch.nn as nn\n",
    "import torch.optim as optim\n",
    "import matplotlib.pyplot as plt\n",
    "from torch.optim import Adam\n",
    "from torch.utils.data import DataLoader\n",
    "\n",
    "datapath = os.path.join('../', 'data')\n",
    "filterpath = os.path.join(datapath, '8_19')\n",
    "num_filters = 8\n",
    "savepath = 'vae_' + str(num_filters) + '.pt'\n",
    "\n",
    "def get_dataset():\n",
    "  weight_dataset = []\n",
    "  for f, file in tqdm(enumerate(os.listdir(filterpath))):\n",
    "    filter = torch.load(os.path.join(filterpath, file))\n",
    "    # import pdb; pdb.set_trace()\n",
    "    for i in range(num_filters):\n",
    "      weight_dataset.append(filter['0.weight'][i][0])\n",
    "  return weight_dataset\n",
    "\n",
    "num_images = len(os.listdir(filterpath))\n",
    "dataset = get_dataset()\n",
    "dataset = torch.stack(dataset, dim=0)\n",
    "# os.environ[\"CUDA_DEVICE_ORDER\"]=\"PCI_BUS_ID\"\n",
    "# os.environ[\"CUDA_VISIBLE_DEVICES\"]=\"0,1\"\n",
    "# device = \"cuda\" if torch.cuda.is_available() else \"cpu\"\n",
    "# device = torch.device('cuda') if torch.cuda.is_available() else torch.device('cpu')\n",
    "device = torch.device('cpu')\n",
    "\n",
    "vae_batch_size = 100\n",
    "\n",
    "x_dim  = 25\n",
    "hidden_dim1 = 20\n",
    "hidden_dim2 = 20\n",
    "hidden_dim3 = 20\n",
    "hidden_dim4 = 20\n",
    "latent_dim = 10\n",
    "\n",
    "kl_start = 0\n",
    "warm_up = 50000\n",
    "\n",
    "lr = 1e-2\n",
    "\n",
    "epochs = 100\n",
    "\n",
    "kwargs = {'num_workers': 1} \n",
    "\n",
    "train_dataset = dataset.to(device)\n",
    "train_loader = DataLoader(dataset=train_dataset, batch_size=vae_batch_size, shuffle=True, **kwargs)"
   ]
  },
  {
   "cell_type": "code",
   "execution_count": 3,
   "metadata": {},
   "outputs": [],
   "source": [
    "\"\"\"\n",
    "    A simple implementation of Gaussian MLP Encoder and Decoder\n",
    "\"\"\"\n",
    "\n",
    "class Encoder(nn.Module):\n",
    "    \n",
    "    def __init__(self, input_dim, hidden_dim1, hidden_dim2, hidden_dim3, hidden_dim4, latent_dim):\n",
    "        super(Encoder, self).__init__()\n",
    "\n",
    "        self.FC_input = nn.Linear(input_dim, hidden_dim1)\n",
    "        self.FC_input2 = nn.Linear(hidden_dim1, hidden_dim2)\n",
    "        self.FC_input3 = nn.Linear(hidden_dim2, hidden_dim3)\n",
    "        self.FC_input4 = nn.Linear(hidden_dim3, hidden_dim4)\n",
    "\n",
    "        self.FC_mean  = nn.Linear(hidden_dim2, latent_dim)\n",
    "        self.FC_var   = nn.Linear (hidden_dim2, latent_dim)\n",
    "        \n",
    "        # self.LeakyReLU = nn.LeakyReLU(0.2)\n",
    "        self.tanh = nn.Tanh()\n",
    "\n",
    "        self.training = True\n",
    "        \n",
    "    def forward(self, x):\n",
    "        h_       = self.tanh(self.FC_input(x))\n",
    "        h_       = self.tanh(self.FC_input2(h_))\n",
    "        h_       = self.tanh(self.FC_input3(h_))\n",
    "        h_       = self.tanh(self.FC_input4(h_))\n",
    "\n",
    "        mean     = self.FC_mean(h_)\n",
    "        log_var  = self.FC_var(h_)                     # encoder produces mean and log of variance \n",
    "                                                       #             (i.e., parateters of simple tractable normal distribution \"q\"\n",
    "        \n",
    "        return mean, log_var\n",
    "\n",
    "class Decoder(nn.Module):\n",
    "    def __init__(self, latent_dim, hidden_dim1, hidden_dim2, hidden_dim3, hidden_dim4, output_dim):\n",
    "        super(Decoder, self).__init__()\n",
    "        self.FC_hidden = nn.Linear(latent_dim, hidden_dim1)\n",
    "        self.FC_hidden2 = nn.Linear(hidden_dim1, hidden_dim2)\n",
    "        self.FC_hidden3 = nn.Linear(hidden_dim2, hidden_dim3)\n",
    "        self.FC_hidden4 = nn.Linear(hidden_dim3, hidden_dim4)\n",
    "\n",
    "        self.FC_output = nn.Linear(hidden_dim4, output_dim)\n",
    "        \n",
    "        # self.LeakyReLU = nn.LeakyReLU(0.2)\n",
    "        self.tanh = nn.Tanh()\n",
    "        \n",
    "    def forward(self, x):\n",
    "        h     = self.tanh(self.FC_hidden(x))\n",
    "        h     = self.tanh(self.FC_hidden2(h))\n",
    "        h     = self.tanh(self.FC_hidden3(h))\n",
    "        h     = self.tanh(self.FC_hidden4(h))\n",
    "\n",
    "        x_hat = self.FC_output(h)\n",
    "        return x_hat\n",
    "\n",
    "class Model(nn.Module):\n",
    "    def __init__(self, Encoder, Decoder):\n",
    "        super(Model, self).__init__()\n",
    "        self.Encoder = Encoder\n",
    "        self.Decoder = Decoder\n",
    "        # self.lamb = nn.Parameter(data=torch.Tensor(1), requires_grad=True)\n",
    "        \n",
    "    def reparameterization(self, mean, var):\n",
    "        epsilon = torch.randn_like(var).to(device)        # sampling epsilon        \n",
    "        z = mean + var*epsilon                          # reparameterization trick\n",
    "        return z\n",
    "        \n",
    "                \n",
    "    def forward(self, x):\n",
    "        mean, log_var = self.Encoder(x)\n",
    "        z = self.reparameterization(mean, torch.exp(0.5 * log_var)) # takes exponential function (log var -> var)\n",
    "        x_hat            = self.Decoder(z)\n",
    "        \n",
    "        return x_hat, mean, log_var\n",
    "\n",
    "encoder = Encoder(input_dim=x_dim, hidden_dim1=hidden_dim1, hidden_dim2=hidden_dim2, hidden_dim3=hidden_dim3, hidden_dim4=hidden_dim4, latent_dim=latent_dim)\n",
    "decoder = Decoder(latent_dim=latent_dim, hidden_dim1=hidden_dim1, hidden_dim2=hidden_dim2, hidden_dim3=hidden_dim3, hidden_dim4=hidden_dim4, output_dim = x_dim)\n",
    "\n",
    "model = Model(Encoder=encoder, Decoder=decoder).to(device)\n",
    "criterion = torch.nn.MSELoss()"
   ]
  },
  {
   "cell_type": "code",
   "execution_count": 4,
   "metadata": {},
   "outputs": [],
   "source": [
    "kl_weight = kl_start\n",
    "anneal_rate = (1.0 - kl_start) / (warm_up * (len(train_dataset) / vae_batch_size))"
   ]
  },
  {
   "cell_type": "code",
   "execution_count": 5,
   "metadata": {},
   "outputs": [
    {
     "data": {
      "text/plain": [
       "Model(\n",
       "  (Encoder): Encoder(\n",
       "    (FC_input): Linear(in_features=25, out_features=20, bias=True)\n",
       "    (FC_input2): Linear(in_features=20, out_features=20, bias=True)\n",
       "    (FC_input3): Linear(in_features=20, out_features=20, bias=True)\n",
       "    (FC_input4): Linear(in_features=20, out_features=20, bias=True)\n",
       "    (FC_mean): Linear(in_features=20, out_features=10, bias=True)\n",
       "    (FC_var): Linear(in_features=20, out_features=10, bias=True)\n",
       "    (tanh): Tanh()\n",
       "  )\n",
       "  (Decoder): Decoder(\n",
       "    (FC_hidden): Linear(in_features=10, out_features=20, bias=True)\n",
       "    (FC_hidden2): Linear(in_features=20, out_features=20, bias=True)\n",
       "    (FC_hidden3): Linear(in_features=20, out_features=20, bias=True)\n",
       "    (FC_hidden4): Linear(in_features=20, out_features=20, bias=True)\n",
       "    (FC_output): Linear(in_features=20, out_features=25, bias=True)\n",
       "    (tanh): Tanh()\n",
       "  )\n",
       ")"
      ]
     },
     "execution_count": 5,
     "metadata": {},
     "output_type": "execute_result"
    }
   ],
   "source": [
    "optimizer = Adam(model.parameters(), lr=lr)\n",
    "\n",
    "model.train()"
   ]
  },
  {
   "cell_type": "code",
   "execution_count": 6,
   "metadata": {},
   "outputs": [
    {
     "name": "stdout",
     "output_type": "stream",
     "text": [
      "\tEpoch 1 complete! \tAverage Loss:  0.083169 Reproduction loss 0.0827 KL_loss 41.8623939 kl weight 0.0\n",
      "\tEpoch 2 complete! \tAverage Loss:  0.054674 Reproduction loss 0.0532 KL_loss 49.8501677 kl weight 0.0\n",
      "\tEpoch 3 complete! \tAverage Loss:  0.056175 Reproduction loss 0.0537 KL_loss 49.8746766 kl weight 0.0\n",
      "\tEpoch 4 complete! \tAverage Loss:  0.056851 Reproduction loss 0.0533 KL_loss 49.8833025 kl weight 0.0\n",
      "\tEpoch 5 complete! \tAverage Loss:  0.057909 Reproduction loss 0.0534 KL_loss 49.8753913 kl weight 0.0\n",
      "\tEpoch 6 complete! \tAverage Loss:  0.058981 Reproduction loss 0.0535 KL_loss 49.8707153 kl weight 0.0\n",
      "\tEpoch 7 complete! \tAverage Loss:  0.060102 Reproduction loss 0.0536 KL_loss 49.8627552 kl weight 0.0\n",
      "\tEpoch 8 complete! \tAverage Loss:  0.061117 Reproduction loss 0.0536 KL_loss 49.8521495 kl weight 0.0\n",
      "\tEpoch 9 complete! \tAverage Loss:  0.0621 Reproduction loss 0.0536 KL_loss 49.8614904 kl weight 0.0\n",
      "\tEpoch 10 complete! \tAverage Loss:  0.062956 Reproduction loss 0.0534 KL_loss 49.8560097 kl weight 0.0\n",
      "\tEpoch 11 complete! \tAverage Loss:  0.063843 Reproduction loss 0.0533 KL_loss 49.8747842 kl weight 0.0\n",
      "\tEpoch 12 complete! \tAverage Loss:  0.064733 Reproduction loss 0.0532 KL_loss 49.8991996 kl weight 0.0\n",
      "\tEpoch 13 complete! \tAverage Loss:  0.065925 Reproduction loss 0.0533 KL_loss 49.9075403 kl weight 0.0\n",
      "\tEpoch 14 complete! \tAverage Loss:  0.067078 Reproduction loss 0.0535 KL_loss 49.9299225 kl weight 0.0\n",
      "\tEpoch 15 complete! \tAverage Loss:  0.067774 Reproduction loss 0.0532 KL_loss 49.954876 kl weight 0.0\n",
      "\tEpoch 16 complete! \tAverage Loss:  0.068896 Reproduction loss 0.0533 KL_loss 49.9840346 kl weight 0.0\n",
      "\tEpoch 17 complete! \tAverage Loss:  0.069923 Reproduction loss 0.0533 KL_loss 50.0326256 kl weight 0.0\n",
      "\tEpoch 18 complete! \tAverage Loss:  0.071077 Reproduction loss 0.0534 KL_loss 50.1388182 kl weight 0.0\n",
      "\tEpoch 19 complete! \tAverage Loss:  0.071798 Reproduction loss 0.0531 KL_loss 50.0818747 kl weight 0.0\n",
      "\tEpoch 20 complete! \tAverage Loss:  0.072864 Reproduction loss 0.0532 KL_loss 50.0590393 kl weight 0.0\n",
      "\tEpoch 21 complete! \tAverage Loss:  0.074019 Reproduction loss 0.0533 KL_loss 50.1076524 kl weight 0.0\n",
      "\tEpoch 22 complete! \tAverage Loss:  0.075124 Reproduction loss 0.0534 KL_loss 50.1073967 kl weight 0.0\n",
      "\tEpoch 23 complete! \tAverage Loss:  0.076262 Reproduction loss 0.0535 KL_loss 50.1030972 kl weight 0.0\n",
      "\tEpoch 24 complete! \tAverage Loss:  0.076978 Reproduction loss 0.0533 KL_loss 50.0538011 kl weight 0.0\n",
      "\tEpoch 25 complete! \tAverage Loss:  0.078077 Reproduction loss 0.0534 KL_loss 50.0530792 kl weight 0.0\n",
      "\tEpoch 26 complete! \tAverage Loss:  0.078968 Reproduction loss 0.0532 KL_loss 50.1729882 kl weight 0.0\n",
      "\tEpoch 27 complete! \tAverage Loss:  0.080097 Reproduction loss 0.0531 KL_loss 50.5351349 kl weight 0.0\n",
      "\tEpoch 28 complete! \tAverage Loss:  0.081202 Reproduction loss 0.0532 KL_loss 50.5585511 kl weight 0.0\n",
      "\tEpoch 29 complete! \tAverage Loss:  0.082427 Reproduction loss 0.0534 KL_loss 50.5597977 kl weight 0.0\n",
      "\tEpoch 30 complete! \tAverage Loss:  0.083397 Reproduction loss 0.0532 KL_loss 50.7238923 kl weight 0.0\n",
      "\tEpoch 31 complete! \tAverage Loss:  0.084582 Reproduction loss 0.0533 KL_loss 50.8706257 kl weight 0.0\n",
      "\tEpoch 32 complete! \tAverage Loss:  0.085541 Reproduction loss 0.0531 KL_loss 51.0638618 kl weight 0.0\n",
      "\tEpoch 33 complete! \tAverage Loss:  0.086554 Reproduction loss 0.053 KL_loss 51.147152 kl weight 0.0\n",
      "\tEpoch 34 complete! \tAverage Loss:  0.087844 Reproduction loss 0.0534 KL_loss 51.0589909 kl weight 0.0\n",
      "\tEpoch 35 complete! \tAverage Loss:  0.088584 Reproduction loss 0.0531 KL_loss 51.0397181 kl weight 0.0\n",
      "\tEpoch 36 complete! \tAverage Loss:  0.089934 Reproduction loss 0.0534 KL_loss 51.046072 kl weight 0.0\n",
      "\tEpoch 37 complete! \tAverage Loss:  0.091114 Reproduction loss 0.0536 KL_loss 51.0390424 kl weight 0.0\n",
      "\tEpoch 38 complete! \tAverage Loss:  0.092109 Reproduction loss 0.0533 KL_loss 51.2676268 kl weight 0.0\n",
      "\tEpoch 39 complete! \tAverage Loss:  0.093096 Reproduction loss 0.0532 KL_loss 51.3794696 kl weight 0.0\n",
      "\tEpoch 40 complete! \tAverage Loss:  0.093991 Reproduction loss 0.0531 KL_loss 51.4016964 kl weight 0.0\n",
      "\tEpoch 41 complete! \tAverage Loss:  0.095087 Reproduction loss 0.0531 KL_loss 51.4418035 kl weight 0.0\n",
      "\tEpoch 42 complete! \tAverage Loss:  0.096697 Reproduction loss 0.0537 KL_loss 51.366883 kl weight 0.0\n",
      "\tEpoch 43 complete! \tAverage Loss:  0.096875 Reproduction loss 0.053 KL_loss 51.2602471 kl weight 0.0\n",
      "\tEpoch 44 complete! \tAverage Loss:  0.098066 Reproduction loss 0.053 KL_loss 51.3730891 kl weight 0.0\n",
      "\tEpoch 45 complete! \tAverage Loss:  0.099387 Reproduction loss 0.0533 KL_loss 51.4203766 kl weight 0.0\n",
      "\tEpoch 46 complete! \tAverage Loss:  0.100519 Reproduction loss 0.0534 KL_loss 51.4128573 kl weight 0.0\n",
      "\tEpoch 47 complete! \tAverage Loss:  0.101697 Reproduction loss 0.0531 KL_loss 51.8098637 kl weight 0.0\n",
      "\tEpoch 48 complete! \tAverage Loss:  0.102724 Reproduction loss 0.0529 KL_loss 52.0458846 kl weight 0.0\n",
      "\tEpoch 49 complete! \tAverage Loss:  0.10479 Reproduction loss 0.0533 KL_loss 52.6762504 kl weight 0.0\n",
      "\tEpoch 50 complete! \tAverage Loss:  0.104287 Reproduction loss 0.0531 KL_loss 51.2414863 kl weight 0.0\n",
      "\tEpoch 51 complete! \tAverage Loss:  0.105011 Reproduction loss 0.0532 KL_loss 50.9269657 kl weight 0.0\n",
      "\tEpoch 52 complete! \tAverage Loss:  0.10567 Reproduction loss 0.053 KL_loss 50.6821617 kl weight 0.0\n",
      "\tEpoch 53 complete! \tAverage Loss:  0.107283 Reproduction loss 0.0532 KL_loss 51.0696903 kl weight 0.0\n",
      "\tEpoch 54 complete! \tAverage Loss:  0.108597 Reproduction loss 0.0531 KL_loss 51.4554371 kl weight 0.0\n",
      "\tEpoch 55 complete! \tAverage Loss:  0.111534 Reproduction loss 0.0531 KL_loss 53.1392433 kl weight 0.0\n",
      "\tEpoch 56 complete! \tAverage Loss:  0.114275 Reproduction loss 0.0532 KL_loss 54.5651539 kl weight 0.0\n",
      "\tEpoch 57 complete! \tAverage Loss:  0.116292 Reproduction loss 0.0534 KL_loss 55.236417 kl weight 0.0\n",
      "\tEpoch 58 complete! \tAverage Loss:  0.11627 Reproduction loss 0.0531 KL_loss 54.5009194 kl weight 0.0\n",
      "\tEpoch 59 complete! \tAverage Loss:  0.117633 Reproduction loss 0.0532 KL_loss 54.6454389 kl weight 0.0\n",
      "\tEpoch 60 complete! \tAverage Loss:  0.120602 Reproduction loss 0.0533 KL_loss 56.0645085 kl weight 0.0\n",
      "\tEpoch 61 complete! \tAverage Loss:  0.125081 Reproduction loss 0.0531 KL_loss 59.0099279 kl weight 0.0\n",
      "\tEpoch 62 complete! \tAverage Loss:  0.128557 Reproduction loss 0.0532 KL_loss 60.7966465 kl weight 0.0\n",
      "\tEpoch 63 complete! \tAverage Loss:  0.124506 Reproduction loss 0.0533 KL_loss 56.5311127 kl weight 0.0\n",
      "\tEpoch 64 complete! \tAverage Loss:  0.124994 Reproduction loss 0.0534 KL_loss 55.9251125 kl weight 0.0\n",
      "\tEpoch 65 complete! \tAverage Loss:  0.15406 Reproduction loss 0.0534 KL_loss 77.3507417 kl weight 0.0\n",
      "\tEpoch 66 complete! \tAverage Loss:  0.411619 Reproduction loss 0.0615 KL_loss 264.9453051 kl weight 0.0\n",
      "\tEpoch 67 complete! \tAverage Loss:  0.471107 Reproduction loss 0.0541 KL_loss 311.0439053 kl weight 0.0\n",
      "\tEpoch 68 complete! \tAverage Loss:  0.513358 Reproduction loss 0.0534 KL_loss 338.0962401 kl weight 0.0\n",
      "\tEpoch 69 complete! \tAverage Loss:  0.879059 Reproduction loss 0.0539 KL_loss 596.7334286 kl weight 0.0\n",
      "\tEpoch 70 complete! \tAverage Loss:  0.466554 Reproduction loss 0.0547 KL_loss 294.8653158 kl weight 0.0\n",
      "\tEpoch 71 complete! \tAverage Loss:  0.223976 Reproduction loss 0.0532 KL_loss 120.156082 kl weight 0.0\n",
      "\tEpoch 72 complete! \tAverage Loss:  0.225902 Reproduction loss 0.0534 KL_loss 119.6900416 kl weight 0.0\n",
      "\tEpoch 73 complete! \tAverage Loss:  0.862144 Reproduction loss 0.0705 KL_loss 540.8039114 kl weight 0.0\n",
      "\tEpoch 74 complete! \tAverage Loss:  1.070129 Reproduction loss 0.0538 KL_loss 685.8257784 kl weight 0.0\n",
      "\tEpoch 75 complete! \tAverage Loss:  1.084211 Reproduction loss 0.0536 KL_loss 686.1508726 kl weight 0.0\n",
      "\tEpoch 76 complete! \tAverage Loss:  1.09776 Reproduction loss 0.0538 KL_loss 685.8106009 kl weight 0.0\n",
      "\tEpoch 77 complete! \tAverage Loss:  1.112296 Reproduction loss 0.0537 KL_loss 686.3788422 kl weight 0.0\n",
      "\tEpoch 78 complete! \tAverage Loss:  1.126438 Reproduction loss 0.0538 KL_loss 686.4822753 kl weight 0.0\n",
      "\tEpoch 79 complete! \tAverage Loss:  1.141054 Reproduction loss 0.0537 KL_loss 687.0139269 kl weight 0.0\n",
      "\tEpoch 80 complete! \tAverage Loss:  1.155831 Reproduction loss 0.0535 KL_loss 687.7275387 kl weight 0.0\n"
     ]
    },
    {
     "name": "stdout",
     "output_type": "stream",
     "text": [
      "\tEpoch 81 complete! \tAverage Loss:  1.169633 Reproduction loss 0.0535 KL_loss 687.6806265 kl weight 0.0\n",
      "\tEpoch 82 complete! \tAverage Loss:  1.182972 Reproduction loss 0.0534 KL_loss 687.4252168 kl weight 0.0\n",
      "\tEpoch 83 complete! \tAverage Loss:  1.197656 Reproduction loss 0.0534 KL_loss 687.917336 kl weight 0.0\n",
      "\tEpoch 84 complete! \tAverage Loss:  1.211718 Reproduction loss 0.0538 KL_loss 687.8044641 kl weight 0.0\n",
      "\tEpoch 85 complete! \tAverage Loss:  1.223827 Reproduction loss 0.0537 KL_loss 686.8710733 kl weight 0.0\n",
      "\tEpoch 86 complete! \tAverage Loss:  1.234453 Reproduction loss 0.0537 KL_loss 684.9979444 kl weight 0.0\n",
      "\tEpoch 87 complete! \tAverage Loss:  1.248947 Reproduction loss 0.0538 KL_loss 685.2801637 kl weight 0.0\n",
      "\tEpoch 88 complete! \tAverage Loss:  1.262363 Reproduction loss 0.0537 KL_loss 685.110556 kl weight 0.0\n",
      "\tEpoch 89 complete! \tAverage Loss:  1.276538 Reproduction loss 0.0536 KL_loss 685.374026 kl weight 0.0\n",
      "\tEpoch 90 complete! \tAverage Loss:  1.290583 Reproduction loss 0.0538 KL_loss 685.4079571 kl weight 0.0\n",
      "\tEpoch 91 complete! \tAverage Loss:  1.303108 Reproduction loss 0.0534 KL_loss 684.8974026 kl weight 0.0\n",
      "\tEpoch 92 complete! \tAverage Loss:  1.324615 Reproduction loss 0.0535 KL_loss 689.0136305 kl weight 0.0\n",
      "\tEpoch 93 complete! \tAverage Loss:  1.351969 Reproduction loss 0.0536 KL_loss 696.2012097 kl weight 0.0\n",
      "\tEpoch 94 complete! \tAverage Loss:  1.361649 Reproduction loss 0.0534 KL_loss 693.9965002 kl weight 0.0\n",
      "\tEpoch 95 complete! \tAverage Loss:  1.369664 Reproduction loss 0.0535 KL_loss 690.7878992 kl weight 0.0\n",
      "\tEpoch 96 complete! \tAverage Loss:  1.383087 Reproduction loss 0.0535 KL_loss 690.5575327 kl weight 0.0\n",
      "\tEpoch 97 complete! \tAverage Loss:  1.396172 Reproduction loss 0.0534 KL_loss 690.1714874 kl weight 0.0\n",
      "\tEpoch 98 complete! \tAverage Loss:  1.410274 Reproduction loss 0.0535 KL_loss 690.2135557 kl weight 0.0\n",
      "\tEpoch 99 complete! \tAverage Loss:  1.423863 Reproduction loss 0.0536 KL_loss 690.0016693 kl weight 0.0\n",
      "\tEpoch 100 complete! \tAverage Loss:  1.437853 Reproduction loss 0.0539 KL_loss 689.9055805 kl weight 0.0\n"
     ]
    }
   ],
   "source": [
    "reproduction_losses = []\n",
    "for epoch in range(epochs):\n",
    "    overall_loss = 0\n",
    "    reproduction_loss_epoch = 0\n",
    "    KL_loss_epoch = 0\n",
    "    for batch_idx, x in enumerate(train_loader):\n",
    "\n",
    "        model.train()\n",
    "        x = x.view(x.shape[0], x_dim)\n",
    "        x = x.to(device)\n",
    "\n",
    "        optimizer.zero_grad()\n",
    "\n",
    "        x_hat, mean, log_var = model(x)\n",
    "        \n",
    "        kl_weight = min(1.0, kl_weight + anneal_rate)\n",
    "\n",
    "        reproduction_loss = torch.mean(torch.norm(x_hat - x, dim=1) ** 2)\n",
    "        KL_loss      = - 0.5 * torch.sum(1+ log_var - mean.pow(2) - log_var.exp())\n",
    "        loss_val = reproduction_loss + kl_weight * KL_loss\n",
    "        \n",
    "        overall_loss += loss_val.item()\n",
    "        reproduction_loss_epoch += reproduction_loss.item()\n",
    "        KL_loss_epoch += KL_loss.item()\n",
    "        \n",
    "        reproduction_loss.backward()\n",
    "        optimizer.step()\n",
    "\n",
    "    reproduction_losses.append(reproduction_loss_epoch/(batch_idx*vae_batch_size))\n",
    "    # print(model.Encoder.FC_mean.grad) \n",
    "    print(\"\\tEpoch\", epoch + 1, \"complete!\", \"\\tAverage Loss: \", round(overall_loss / (batch_idx*vae_batch_size), 6), 'Reproduction loss', round(reproduction_loss_epoch/ (batch_idx*vae_batch_size), 4), 'KL_loss', round(KL_loss_epoch/ (batch_idx*vae_batch_size), 7), 'kl weight', round(kl_weight, 2))\n",
    "    \n",
    "torch.save(model.state_dict(), os.path.join(datapath, savepath))"
   ]
  },
  {
   "cell_type": "code",
   "execution_count": 7,
   "metadata": {},
   "outputs": [
    {
     "data": {
      "text/plain": [
       "[<matplotlib.lines.Line2D at 0x7f376dee2d00>]"
      ]
     },
     "execution_count": 7,
     "metadata": {},
     "output_type": "execute_result"
    },
    {
     "data": {
      "image/png": "[encoded data removed]",
      "text/plain": [
       "<Figure size 432x288 with 1 Axes>"
      ]
     },
     "metadata": {
      "needs_background": "light"
     },
     "output_type": "display_data"
    }
   ],
   "source": [
    "plt.plot(reproduction_losses)\n"
   ]
  },
  {
   "cell_type": "code",
   "execution_count": 257,
   "metadata": {},
   "outputs": [],
   "source": [
    "with torch.no_grad():\n",
    "    noise = torch.randn(vae_batch_size, latent_dim).to(device)\n",
    "    generated_images =  model.Decoder(noise)"
   ]
  },
  {
   "cell_type": "code",
   "execution_count": 258,
   "metadata": {},
   "outputs": [],
   "source": [
    "vmin, vmax = -2.5, 2.5"
   ]
  },
  {
   "cell_type": "code",
   "execution_count": 259,
   "metadata": {},
   "outputs": [
    {
     "name": "stdout",
     "output_type": "stream",
     "text": [
      "tensor([[0.7053, 0.9729, 1.0196, 0.9917, 0.8230],\n",
      "        [0.8605, 1.1202, 1.1507, 1.1023, 0.9415],\n",
      "        [0.9465, 1.1176, 1.1478, 1.1001, 0.9023],\n",
      "        [0.9264, 1.1000, 1.1153, 1.0294, 0.7906],\n",
      "        [0.8238, 0.9749, 0.9961, 0.8766, 0.6292]])\n"
     ]
    },
    {
     "data": {
      "text/plain": [
       "<matplotlib.image.AxesImage at 0x7f8c4abfd8b0>"
      ]
     },
     "execution_count": 259,
     "metadata": {},
     "output_type": "execute_result"
    },
    {
     "data": {
      "image/png": "[encoded data removed]",
      "text/plain": [
       "<Figure size 640x480 with 1 Axes>"
      ]
     },
     "metadata": {},
     "output_type": "display_data"
    }
   ],
   "source": [
    "noise = torch.randn(1, latent_dim).to(device) \n",
    "res = model.Decoder(noise).view(5, 5).detach().cpu()\n",
    "print(res)\n",
    "plt.imshow(res, norm=matplotlib.colors.Normalize(vmin=vmin, vmax=vmax, clip=False))"
   ]
  },
  {
   "cell_type": "code",
   "execution_count": 260,
   "metadata": {},
   "outputs": [
    {
     "data": {
      "text/plain": [
       "<matplotlib.image.AxesImage at 0x7f8c4a806dc0>"
      ]
     },
     "execution_count": 260,
     "metadata": {},
     "output_type": "execute_result"
    },
    {
     "data": {
      "image/png": "[encoded data removed]",
      "text/plain": [
       "<Figure size 640x480 with 1 Axes>"
      ]
     },
     "metadata": {},
     "output_type": "display_data"
    }
   ],
   "source": [
    "plt.imshow(generated_images[0].view(5, 5), norm=matplotlib.colors.Normalize(vmin=vmin, vmax=vmax, clip=False))"
   ]
  },
  {
   "cell_type": "code",
   "execution_count": 261,
   "metadata": {},
   "outputs": [],
   "source": [
    "def visualise_vae(num_rows, generated_images):\n",
    "  _, axarr = plt.subplots(num_rows, num_filters, figsize=(int(5*(num_filters//8)), num_rows))\n",
    "\n",
    "  x = generated_images\n",
    "  x = x.view(vae_batch_size, 5, 5)\n",
    "\n",
    "  for i in range(num_rows):\n",
    "    for j in range(num_filters):\n",
    "      idx = random.choice(range(len(generated_images)))\n",
    "      axarr[i, j].set_axis_off()\n",
    "      axarr[i, j].imshow(x[idx].cpu().numpy(), interpolation=None, norm=matplotlib.colors.Normalize(vmin=vmin, vmax=vmax, clip=False))"
   ]
  },
  {
   "cell_type": "code",
   "execution_count": 262,
   "metadata": {},
   "outputs": [
    {
     "data": {
      "image/png": "[encoded data removed]",
      "text/plain": [
       "<Figure size 500x1200 with 96 Axes>"
      ]
     },
     "metadata": {},
     "output_type": "display_data"
    }
   ],
   "source": [
    "visualise_vae(100//num_filters, generated_images)"
   ]
  },
  {
   "cell_type": "code",
   "execution_count": null,
   "metadata": {},
   "outputs": [],
   "source": [
    "for i in range(len(dataset)):\n",
    "    print(i, \"\\n\", torch.max(dataset[i]), \"\\n\", torch.min(dataset[i]), \"\\n\\n\")"
   ]
  },
  {
   "cell_type": "code",
   "execution_count": 155,
   "metadata": {},
   "outputs": [
    {
     "name": "stdout",
     "output_type": "stream",
     "text": [
      "tensor(-0.1181, device='cuda:0')\n",
      "tensor(1.3148, device='cuda:0')\n"
     ]
    }
   ],
   "source": [
    "k = 33\n",
    "print(torch.mean(dataset[100*k:100*(k+1)]))\n",
    "print(torch.std(dataset[100*k:100*(k+1)]))"
   ]
  },
  {
   "cell_type": "code",
   "execution_count": 136,
   "metadata": {},
   "outputs": [],
   "source": [
    "def debug(x):\n",
    "    for i in range(len(x)):\n",
    "        print(i, \"\\n\", torch.max(x[i]), \"\\n\", torch.min(x[i]), \"\\n\\n\")"
   ]
  },
  {
   "cell_type": "code",
   "execution_count": null,
   "metadata": {},
   "outputs": [],
   "source": [
    "debug(generated_images)"
   ]
  }
 ],
 "metadata": {
  "kernelspec": {
   "display_name": "sent-vae-base",
   "language": "python",
   "name": "sent-vae-base"
  },
  "language_info": {
   "codemirror_mode": {
    "name": "ipython",
    "version": 3
   },
   "file_extension": ".py",
   "mimetype": "text/x-python",
   "name": "python",
   "nbconvert_exporter": "python",
   "pygments_lexer": "ipython3",
   "version": "3.8.10"
  },
  "vscode": {
   "interpreter": {
    "hash": "31f2aee4e71d21fbe5cf8b01ff0e069b9275f58929596ceb00d14d90e3e16cd6"
   }
  }
 },
 "nbformat": 4,
 "nbformat_minor": 2
}
