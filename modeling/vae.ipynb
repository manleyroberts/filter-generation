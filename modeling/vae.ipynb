{
 "cells": [
  {
   "cell_type": "code",
   "execution_count": 102,
   "metadata": {},
   "outputs": [
    {
     "name": "stderr",
     "output_type": "stream",
     "text": [
      "1407it [00:02, 642.64it/s]\n"
     ]
    }
   ],
   "source": [
    "import os\n",
    "import torch\n",
    "import random\n",
    "import numpy as np\n",
    "from tqdm import tqdm\n",
    "import torch.nn as nn\n",
    "import torch.optim as optim\n",
    "import matplotlib.pyplot as plt\n",
    "from torch.optim import Adam\n",
    "from torch.utils.data import DataLoader\n",
    "\n",
    "datapath = os.path.join('..', 'data')\n",
    "filterpath = os.path.join(datapath, 'filters-final', '8_19')\n",
    "num_filters = 8\n",
    "savepath = 'vae_' + str(num_filters) + '.pt'\n",
    "\n",
    "def get_dataset():\n",
    "  weight_dataset = []\n",
    "  for f, file in tqdm(enumerate(os.listdir(filterpath))):\n",
    "    filter = torch.load(os.path.join(filterpath, file))\n",
    "    # import pdb; pdb.set_trace()\n",
    "    for i in range(num_filters):\n",
    "      weight_dataset.append(filter['0.weight'][i][0])\n",
    "  return weight_dataset\n",
    "\n",
    "num_images = len(os.listdir(filterpath))\n",
    "dataset = get_dataset()\n",
    "dataset = torch.stack(dataset, dim=0)\n",
    "# device = torch.device('cuda') if torch.cuda.is_available() else torch.device('cpu')\n",
    "device = torch.device('cpu')\n",
    "\n",
    "vae_batch_size = 100\n",
    "\n",
    "x_dim  = 25\n",
    "hidden_dim = 20\n",
    "latent_dim = 10\n",
    "\n",
    "lr = 1e-3\n",
    "\n",
    "epochs = 50\n",
    "\n",
    "kwargs = {'num_workers': 1} \n",
    "\n",
    "train_dataset = dataset.to(device)\n",
    "train_loader = DataLoader(dataset=train_dataset, batch_size=vae_batch_size, shuffle=True, **kwargs)"
   ]
  },
  {
   "cell_type": "code",
   "execution_count": 127,
   "metadata": {},
   "outputs": [],
   "source": [
    "\"\"\"\n",
    "    A simple implementation of Gaussian MLP Encoder and Decoder\n",
    "\"\"\"\n",
    "\n",
    "class Encoder(nn.Module):\n",
    "    \n",
    "    def __init__(self, input_dim, hidden_dim, latent_dim):\n",
    "        super(Encoder, self).__init__()\n",
    "\n",
    "        self.FC_input = nn.Linear(input_dim, hidden_dim)\n",
    "        self.FC_input2 = nn.Linear(hidden_dim, hidden_dim)\n",
    "        self.FC_mean  = nn.Linear(hidden_dim, latent_dim)\n",
    "        self.FC_var   = nn.Linear (hidden_dim, latent_dim)\n",
    "        \n",
    "        # self.LeakyReLU = nn.LeakyReLU(0.2)\n",
    "        self.tanh = nn.Tanh()\n",
    "\n",
    "        self.training = True\n",
    "        \n",
    "    def forward(self, x):\n",
    "        h_       = self.tanh(self.FC_input(x))\n",
    "        h_       = self.tanh(self.FC_input2(h_))\n",
    "        mean     = self.FC_mean(h_)\n",
    "        log_var  = self.FC_var(h_)                     # encoder produces mean and log of variance \n",
    "                                                       #             (i.e., parateters of simple tractable normal distribution \"q\"\n",
    "        \n",
    "        return mean, log_var\n",
    "\n",
    "class Decoder(nn.Module):\n",
    "    def __init__(self, latent_dim, hidden_dim, output_dim):\n",
    "        super(Decoder, self).__init__()\n",
    "        self.FC_hidden = nn.Linear(latent_dim, hidden_dim)\n",
    "        self.FC_hidden2 = nn.Linear(hidden_dim, hidden_dim)\n",
    "        self.FC_output = nn.Linear(hidden_dim, output_dim)\n",
    "        \n",
    "        # self.LeakyReLU = nn.LeakyReLU(0.2)\n",
    "        self.tanh = nn.Tanh()\n",
    "        \n",
    "    def forward(self, x):\n",
    "        h     = self.tanh(self.FC_hidden(x))\n",
    "        h     = self.tanh(self.FC_hidden2(h))\n",
    "        \n",
    "        x_hat = self.FC_output(h)\n",
    "        return x_hat\n",
    "\n",
    "class Model(nn.Module):\n",
    "    def __init__(self, Encoder, Decoder):\n",
    "        super(Model, self).__init__()\n",
    "        self.Encoder = Encoder\n",
    "        self.Decoder = Decoder\n",
    "        # self.lamb = nn.Parameter(data=torch.Tensor(1), requires_grad=True)\n",
    "        \n",
    "    def reparameterization(self, mean, var):\n",
    "        epsilon = torch.randn_like(var).to(device)        # sampling epsilon        \n",
    "        z = mean + var*epsilon                          # reparameterization trick\n",
    "        return z\n",
    "        \n",
    "                \n",
    "    def forward(self, x):\n",
    "        mean, log_var = self.Encoder(x)\n",
    "        z = self.reparameterization(mean, torch.exp(0.5 * log_var)) # takes exponential function (log var -> var)\n",
    "        x_hat            = self.Decoder(z)\n",
    "        \n",
    "        return x_hat, mean, log_var\n",
    "\n",
    "encoder = Encoder(input_dim=x_dim, hidden_dim=hidden_dim, latent_dim=latent_dim)\n",
    "decoder = Decoder(latent_dim=latent_dim, hidden_dim = hidden_dim, output_dim = x_dim)\n",
    "\n",
    "model = Model(Encoder=encoder, Decoder=decoder).to(device)\n",
    "loss = torch.nn.MSELoss()\n"
   ]
  },
  {
   "cell_type": "code",
   "execution_count": 128,
   "metadata": {},
   "outputs": [],
   "source": [
    "fact = 0"
   ]
  },
  {
   "cell_type": "code",
   "execution_count": 129,
   "metadata": {},
   "outputs": [
    {
     "data": {
      "text/plain": [
       "Model(\n",
       "  (Encoder): Encoder(\n",
       "    (FC_input): Linear(in_features=25, out_features=20, bias=True)\n",
       "    (FC_input2): Linear(in_features=20, out_features=20, bias=True)\n",
       "    (FC_mean): Linear(in_features=20, out_features=10, bias=True)\n",
       "    (FC_var): Linear(in_features=20, out_features=10, bias=True)\n",
       "    (tanh): Tanh()\n",
       "  )\n",
       "  (Decoder): Decoder(\n",
       "    (FC_hidden): Linear(in_features=10, out_features=20, bias=True)\n",
       "    (FC_hidden2): Linear(in_features=20, out_features=20, bias=True)\n",
       "    (FC_output): Linear(in_features=20, out_features=25, bias=True)\n",
       "    (tanh): Tanh()\n",
       "  )\n",
       ")"
      ]
     },
     "execution_count": 129,
     "metadata": {},
     "output_type": "execute_result"
    }
   ],
   "source": [
    "def loss_function(loss, x, x_hat, mean, log_var):\n",
    "    reproduction_loss = loss(x_hat, x)\n",
    "    KLD      = - 0.5 * torch.sum(1+ log_var - mean.pow(2) - log_var.exp())\n",
    "\n",
    "    return reproduction_loss + fact * KLD\n",
    "\n",
    "\n",
    "optimizer = Adam(model.parameters(), lr=lr)\n",
    "\n",
    "model.train()"
   ]
  },
  {
   "cell_type": "code",
   "execution_count": 130,
   "metadata": {},
   "outputs": [
    {
     "name": "stdout",
     "output_type": "stream",
     "text": [
      "\tEpoch 1 complete! \tAverage Loss:  0.0070196296500840355\n",
      "\tEpoch 2 complete! \tAverage Loss:  0.0022157770568238836\n",
      "\tEpoch 3 complete! \tAverage Loss:  0.002093075967526862\n",
      "\tEpoch 4 complete! \tAverage Loss:  0.0019584705268165894\n",
      "\tEpoch 5 complete! \tAverage Loss:  0.0018470211007765361\n",
      "\tEpoch 6 complete! \tAverage Loss:  0.0016807790965374027\n",
      "\tEpoch 7 complete! \tAverage Loss:  0.0013513439574411937\n",
      "\tEpoch 8 complete! \tAverage Loss:  0.0011094318676207746\n",
      "\tEpoch 9 complete! \tAverage Loss:  0.0010021022993272968\n",
      "\tEpoch 10 complete! \tAverage Loss:  0.0009277382512976017\n",
      "\tEpoch 11 complete! \tAverage Loss:  0.0008773417202090579\n",
      "\tEpoch 12 complete! \tAverage Loss:  0.0008532153868249484\n",
      "\tEpoch 13 complete! \tAverage Loss:  0.0008330111614694552\n",
      "\tEpoch 14 complete! \tAverage Loss:  0.0008198612635689122\n",
      "\tEpoch 15 complete! \tAverage Loss:  0.0007989903729009841\n",
      "\tEpoch 16 complete! \tAverage Loss:  0.0006720917186300669\n",
      "\tEpoch 17 complete! \tAverage Loss:  0.0005083004564845137\n",
      "\tEpoch 18 complete! \tAverage Loss:  0.0004731059812807611\n",
      "\tEpoch 19 complete! \tAverage Loss:  0.00045717474139694657\n",
      "\tEpoch 20 complete! \tAverage Loss:  0.0004492385855077633\n",
      "\tEpoch 21 complete! \tAverage Loss:  0.00044235664320045284\n",
      "\tEpoch 22 complete! \tAverage Loss:  0.0004362978706402438\n",
      "\tEpoch 23 complete! \tAverage Loss:  0.0004333429440989026\n",
      "\tEpoch 24 complete! \tAverage Loss:  0.0004292756478701319\n",
      "\tEpoch 25 complete! \tAverage Loss:  0.00042475452114428794\n",
      "\tEpoch 26 complete! \tAverage Loss:  0.00042128243982525806\n",
      "\tEpoch 27 complete! \tAverage Loss:  0.0004164367950787502\n",
      "\tEpoch 28 complete! \tAverage Loss:  0.00040875507152772375\n",
      "\tEpoch 29 complete! \tAverage Loss:  0.0003832472489947187\n",
      "\tEpoch 30 complete! \tAverage Loss:  0.00035300007605526063\n",
      "\tEpoch 31 complete! \tAverage Loss:  0.0003432168344235314\n",
      "\tEpoch 32 complete! \tAverage Loss:  0.00033719891981620875\n",
      "\tEpoch 33 complete! \tAverage Loss:  0.00033255810333815005\n",
      "\tEpoch 34 complete! \tAverage Loss:  0.00032997099383335026\n",
      "\tEpoch 35 complete! \tAverage Loss:  0.0003278385059508894\n",
      "\tEpoch 36 complete! \tAverage Loss:  0.000325400387602193\n",
      "\tEpoch 37 complete! \tAverage Loss:  0.00032561103297796634\n",
      "\tEpoch 38 complete! \tAverage Loss:  0.000323596973570862\n",
      "\tEpoch 39 complete! \tAverage Loss:  0.0003218570286740682\n",
      "\tEpoch 40 complete! \tAverage Loss:  0.0003201186322673623\n",
      "\tEpoch 41 complete! \tAverage Loss:  0.00031897940090857446\n",
      "\tEpoch 42 complete! \tAverage Loss:  0.00031743634126282165\n",
      "\tEpoch 43 complete! \tAverage Loss:  0.00031601303124002047\n",
      "\tEpoch 44 complete! \tAverage Loss:  0.00031425135492879364\n",
      "\tEpoch 45 complete! \tAverage Loss:  0.0003100579488091171\n",
      "\tEpoch 46 complete! \tAverage Loss:  0.0003026801545638591\n",
      "\tEpoch 47 complete! \tAverage Loss:  0.0002890700545893716\n",
      "\tEpoch 48 complete! \tAverage Loss:  0.0002808103507517704\n",
      "\tEpoch 49 complete! \tAverage Loss:  0.0002771116124599108\n",
      "\tEpoch 50 complete! \tAverage Loss:  0.0002749078263462122\n"
     ]
    }
   ],
   "source": [
    "for epoch in range(epochs):\n",
    "    overall_loss = 0\n",
    "    for batch_idx, x in enumerate(train_loader):\n",
    "        x = x.view(x.shape[0], x_dim)\n",
    "        x = x.to(device)\n",
    "\n",
    "        optimizer.zero_grad()\n",
    "\n",
    "        x_hat, mean, log_var = model(x)\n",
    "        loss_val = loss_function(loss, x, x_hat, mean, log_var)\n",
    "        \n",
    "        overall_loss += loss_val.item()\n",
    "        \n",
    "        loss_val.backward()\n",
    "        optimizer.step()\n",
    "        \n",
    "    print(\"\\tEpoch\", epoch + 1, \"complete!\", \"\\tAverage Loss: \", overall_loss / (batch_idx*vae_batch_size))\n",
    "    \n",
    "torch.save(model.state_dict(), os.path.join(datapath, savepath))"
   ]
  },
  {
   "cell_type": "code",
   "execution_count": 131,
   "metadata": {},
   "outputs": [],
   "source": [
    "with torch.no_grad():\n",
    "    noise = torch.randn(vae_batch_size, latent_dim).to(device)\n",
    "    generated_images =  model.Decoder(noise)"
   ]
  },
  {
   "cell_type": "code",
   "execution_count": 132,
   "metadata": {},
   "outputs": [
    {
     "name": "stdout",
     "output_type": "stream",
     "text": [
      "tensor([[ 0.3570, -0.1492, -0.6505, -0.4931, -0.0405],\n",
      "        [-0.1027, -1.1166, -1.5005, -1.4174, -1.0611],\n",
      "        [-0.1080, -1.4067, -1.9748, -2.3882, -1.8519],\n",
      "        [ 0.4901, -0.6801, -1.8669, -2.2866, -1.7954],\n",
      "        [ 1.1992,  0.4511, -0.6879, -1.2045, -0.8581]])\n"
     ]
    },
    {
     "data": {
      "text/plain": [
       "<matplotlib.image.AxesImage at 0x7f830df6f220>"
      ]
     },
     "execution_count": 132,
     "metadata": {},
     "output_type": "execute_result"
    },
    {
     "data": {
      "image/png": "[encoded data removed]",
      "text/plain": [
       "<Figure size 640x480 with 1 Axes>"
      ]
     },
     "metadata": {},
     "output_type": "display_data"
    }
   ],
   "source": [
    "noise = torch.randn(1, latent_dim).to(device) \n",
    "res = model.Decoder(noise).view(5, 5).detach().cpu()\n",
    "print(res)\n",
    "plt.imshow(-1*res)"
   ]
  },
  {
   "cell_type": "code",
   "execution_count": 133,
   "metadata": {},
   "outputs": [
    {
     "data": {
      "text/plain": [
       "<matplotlib.image.AxesImage at 0x7f8337cd7a30>"
      ]
     },
     "execution_count": 133,
     "metadata": {},
     "output_type": "execute_result"
    },
    {
     "data": {
      "image/png": "[encoded data removed]",
      "text/plain": [
       "<Figure size 640x480 with 1 Axes>"
      ]
     },
     "metadata": {},
     "output_type": "display_data"
    }
   ],
   "source": [
    "plt.imshow(generated_images[0].view(5, 5))"
   ]
  },
  {
   "cell_type": "code",
   "execution_count": 134,
   "metadata": {},
   "outputs": [],
   "source": [
    "def visualise_vae(num_rows, generated_images):\n",
    "  _, axarr = plt.subplots(num_rows, num_filters, figsize=(int(5*(num_filters//8)), num_rows))\n",
    "\n",
    "  x = generated_images\n",
    "  x = x.view(vae_batch_size, 5, 5)\n",
    "\n",
    "  for i in range(num_rows):\n",
    "    for j in range(num_filters):\n",
    "      axarr[i, j].set_axis_off()\n",
    "      axarr[i, j].imshow(x[num_filters*i+j].cpu().numpy(), interpolation=None)"
   ]
  },
  {
   "cell_type": "code",
   "execution_count": 135,
   "metadata": {},
   "outputs": [
    {
     "data": {
      "image/png": "[encoded data removed]",
      "text/plain": [
       "<Figure size 500x1200 with 96 Axes>"
      ]
     },
     "metadata": {},
     "output_type": "display_data"
    }
   ],
   "source": [
    "visualise_vae(100//num_filters, generated_images)"
   ]
  },
  {
   "cell_type": "code",
   "execution_count": null,
   "metadata": {},
   "outputs": [],
   "source": [
    "for i in range(len(dataset)):\n",
    "    print(i, \"\\n\", torch.max(dataset[i]), \"\\n\", torch.min(dataset[i]), \"\\n\\n\")"
   ]
  },
  {
   "cell_type": "code",
   "execution_count": 155,
   "metadata": {},
   "outputs": [
    {
     "name": "stdout",
     "output_type": "stream",
     "text": [
      "tensor(-0.1181, device='cuda:0')\n",
      "tensor(1.3148, device='cuda:0')\n"
     ]
    }
   ],
   "source": [
    "k = 33\n",
    "print(torch.mean(dataset[100*k:100*(k+1)]))\n",
    "print(torch.std(dataset[100*k:100*(k+1)]))"
   ]
  },
  {
   "cell_type": "code",
   "execution_count": 136,
   "metadata": {},
   "outputs": [],
   "source": [
    "def debug(x):\n",
    "    for i in range(len(x)):\n",
    "        print(i, \"\\n\", torch.max(x[i]), \"\\n\", torch.min(x[i]), \"\\n\\n\")"
   ]
  },
  {
   "cell_type": "code",
   "execution_count": null,
   "metadata": {},
   "outputs": [],
   "source": [
    "debug(generated_images)"
   ]
  }
 ],
 "metadata": {
  "kernelspec": {
   "display_name": "Python -- PGM Project",
   "language": "python",
   "name": "pgmproject"
  },
  "language_info": {
   "codemirror_mode": {
    "name": "ipython",
    "version": 3
   },
   "file_extension": ".py",
   "mimetype": "text/x-python",
   "name": "python",
   "nbconvert_exporter": "python",
   "pygments_lexer": "ipython3",
   "version": "3.9.15"
  },
  "orig_nbformat": 4,
  "vscode": {
   "interpreter": {
    "hash": "31f2aee4e71d21fbe5cf8b01ff0e069b9275f58929596ceb00d14d90e3e16cd6"
   }
  }
 },
 "nbformat": 4,
 "nbformat_minor": 2
}
