{
 "cells": [
  {
   "cell_type": "code",
   "execution_count": 182,
   "metadata": {},
   "outputs": [],
   "source": [
    "import matplotlib"
   ]
  },
  {
   "cell_type": "code",
   "execution_count": 251,
   "metadata": {},
   "outputs": [
    {
     "name": "stderr",
     "output_type": "stream",
     "text": [
      "1364it [00:01, 1237.24it/s]\n"
     ]
    }
   ],
   "source": [
    "import os\n",
    "import torch\n",
    "import random\n",
    "import numpy as np\n",
    "from tqdm import tqdm\n",
    "import torch.nn as nn\n",
    "import torch.optim as optim\n",
    "import matplotlib.pyplot as plt\n",
    "from torch.optim import Adam\n",
    "from torch.utils.data import DataLoader\n",
    "\n",
    "datapath = os.path.join('..', 'data')\n",
    "filterpath = os.path.join(datapath, 'filters-complete', '8_19')\n",
    "num_filters = 8\n",
    "savepath = 'vae_' + str(num_filters) + '.pt'\n",
    "\n",
    "def get_dataset():\n",
    "  weight_dataset = []\n",
    "  for f, file in tqdm(enumerate(os.listdir(filterpath))):\n",
    "    filter = torch.load(os.path.join(filterpath, file))\n",
    "    # import pdb; pdb.set_trace()\n",
    "    for i in range(num_filters):\n",
    "      weight_dataset.append(filter['0.weight'][i][0])\n",
    "  return weight_dataset\n",
    "\n",
    "num_images = len(os.listdir(filterpath))\n",
    "dataset = get_dataset()\n",
    "dataset = torch.stack(dataset, dim=0)\n",
    "# device = torch.device('cuda') if torch.cuda.is_available() else torch.device('cpu')\n",
    "device = torch.device('cpu')\n",
    "\n",
    "vae_batch_size = 100\n",
    "\n",
    "x_dim  = 25\n",
    "hidden_dim1 = 20\n",
    "hidden_dim2 = 20\n",
    "hidden_dim3 = 20\n",
    "hidden_dim4 = 20\n",
    "latent_dim = 10\n",
    "\n",
    "kl_start = 0\n",
    "warm_up = 50000\n",
    "\n",
    "lr = 1e-2\n",
    "\n",
    "epochs = 100\n",
    "\n",
    "kwargs = {'num_workers': 1} \n",
    "\n",
    "train_dataset = dataset.to(device)\n",
    "train_loader = DataLoader(dataset=train_dataset, batch_size=vae_batch_size, shuffle=True, **kwargs)"
   ]
  },
  {
   "cell_type": "code",
   "execution_count": 252,
   "metadata": {},
   "outputs": [],
   "source": [
    "\"\"\"\n",
    "    A simple implementation of Gaussian MLP Encoder and Decoder\n",
    "\"\"\"\n",
    "\n",
    "class Encoder(nn.Module):\n",
    "    \n",
    "    def __init__(self, input_dim, hidden_dim1, hidden_dim2, hidden_dim3, hidden_dim4, latent_dim):\n",
    "        super(Encoder, self).__init__()\n",
    "\n",
    "        self.FC_input = nn.Linear(input_dim, hidden_dim1)\n",
    "        self.FC_input2 = nn.Linear(hidden_dim1, hidden_dim2)\n",
    "        self.FC_input3 = nn.Linear(hidden_dim2, hidden_dim3)\n",
    "        self.FC_input4 = nn.Linear(hidden_dim3, hidden_dim4)\n",
    "\n",
    "        self.FC_mean  = nn.Linear(hidden_dim2, latent_dim)\n",
    "        self.FC_var   = nn.Linear (hidden_dim2, latent_dim)\n",
    "        \n",
    "        # self.LeakyReLU = nn.LeakyReLU(0.2)\n",
    "        self.tanh = nn.Tanh()\n",
    "\n",
    "        self.training = True\n",
    "        \n",
    "    def forward(self, x):\n",
    "        h_       = self.tanh(self.FC_input(x))\n",
    "        h_       = self.tanh(self.FC_input2(h_))\n",
    "        h_       = self.tanh(self.FC_input3(h_))\n",
    "        h_       = self.tanh(self.FC_input4(h_))\n",
    "\n",
    "        mean     = self.FC_mean(h_)\n",
    "        log_var  = self.FC_var(h_)                     # encoder produces mean and log of variance \n",
    "                                                       #             (i.e., parateters of simple tractable normal distribution \"q\"\n",
    "        \n",
    "        return mean, log_var\n",
    "\n",
    "class Decoder(nn.Module):\n",
    "    def __init__(self, latent_dim, hidden_dim1, hidden_dim2, hidden_dim3, hidden_dim4, output_dim):\n",
    "        super(Decoder, self).__init__()\n",
    "        self.FC_hidden = nn.Linear(latent_dim, hidden_dim1)\n",
    "        self.FC_hidden2 = nn.Linear(hidden_dim1, hidden_dim2)\n",
    "        self.FC_hidden3 = nn.Linear(hidden_dim2, hidden_dim3)\n",
    "        self.FC_hidden4 = nn.Linear(hidden_dim3, hidden_dim4)\n",
    "\n",
    "        self.FC_output = nn.Linear(hidden_dim4, output_dim)\n",
    "        \n",
    "        # self.LeakyReLU = nn.LeakyReLU(0.2)\n",
    "        self.tanh = nn.Tanh()\n",
    "        \n",
    "    def forward(self, x):\n",
    "        h     = self.tanh(self.FC_hidden(x))\n",
    "        h     = self.tanh(self.FC_hidden2(h))\n",
    "        h     = self.tanh(self.FC_hidden3(h))\n",
    "        h     = self.tanh(self.FC_hidden4(h))\n",
    "\n",
    "        x_hat = self.FC_output(h)\n",
    "        return x_hat\n",
    "\n",
    "class Model(nn.Module):\n",
    "    def __init__(self, Encoder, Decoder):\n",
    "        super(Model, self).__init__()\n",
    "        self.Encoder = Encoder\n",
    "        self.Decoder = Decoder\n",
    "        # self.lamb = nn.Parameter(data=torch.Tensor(1), requires_grad=True)\n",
    "        \n",
    "    def reparameterization(self, mean, var):\n",
    "        epsilon = torch.randn_like(var).to(device)        # sampling epsilon        \n",
    "        z = mean + var*epsilon                          # reparameterization trick\n",
    "        return z\n",
    "        \n",
    "                \n",
    "    def forward(self, x):\n",
    "        mean, log_var = self.Encoder(x)\n",
    "        z = self.reparameterization(mean, torch.exp(0.5 * log_var)) # takes exponential function (log var -> var)\n",
    "        x_hat            = self.Decoder(z)\n",
    "        \n",
    "        return x_hat, mean, log_var\n",
    "\n",
    "encoder = Encoder(input_dim=x_dim, hidden_dim1=hidden_dim1, hidden_dim2=hidden_dim2, hidden_dim3=hidden_dim3, hidden_dim4=hidden_dim4, latent_dim=latent_dim)\n",
    "decoder = Decoder(latent_dim=latent_dim, hidden_dim1=hidden_dim1, hidden_dim2=hidden_dim2, hidden_dim3=hidden_dim3, hidden_dim4=hidden_dim4, output_dim = x_dim)\n",
    "\n",
    "model = Model(Encoder=encoder, Decoder=decoder).to(device)\n",
    "criterion = torch.nn.MSELoss()"
   ]
  },
  {
   "cell_type": "code",
   "execution_count": 253,
   "metadata": {},
   "outputs": [],
   "source": [
    "kl_weight = kl_start\n",
    "anneal_rate = (1.0 - kl_start) / (warm_up * (len(train_dataset) / vae_batch_size))"
   ]
  },
  {
   "cell_type": "code",
   "execution_count": 254,
   "metadata": {},
   "outputs": [
    {
     "data": {
      "text/plain": [
       "Model(\n",
       "  (Encoder): Encoder(\n",
       "    (FC_input): Linear(in_features=25, out_features=20, bias=True)\n",
       "    (FC_input2): Linear(in_features=20, out_features=20, bias=True)\n",
       "    (FC_input3): Linear(in_features=20, out_features=20, bias=True)\n",
       "    (FC_input4): Linear(in_features=20, out_features=20, bias=True)\n",
       "    (FC_mean): Linear(in_features=20, out_features=10, bias=True)\n",
       "    (FC_var): Linear(in_features=20, out_features=10, bias=True)\n",
       "    (tanh): Tanh()\n",
       "  )\n",
       "  (Decoder): Decoder(\n",
       "    (FC_hidden): Linear(in_features=10, out_features=20, bias=True)\n",
       "    (FC_hidden2): Linear(in_features=20, out_features=20, bias=True)\n",
       "    (FC_hidden3): Linear(in_features=20, out_features=20, bias=True)\n",
       "    (FC_hidden4): Linear(in_features=20, out_features=20, bias=True)\n",
       "    (FC_output): Linear(in_features=20, out_features=25, bias=True)\n",
       "    (tanh): Tanh()\n",
       "  )\n",
       ")"
      ]
     },
     "execution_count": 254,
     "metadata": {},
     "output_type": "execute_result"
    }
   ],
   "source": [
    "optimizer = Adam(model.parameters(), lr=lr)\n",
    "\n",
    "model.train()"
   ]
  },
  {
   "cell_type": "code",
   "execution_count": 255,
   "metadata": {},
   "outputs": [
    {
     "name": "stdout",
     "output_type": "stream",
     "text": [
      "\tEpoch 1 complete! \tAverage Loss:  0.081672 Reproduction loss 0.0813 KL_loss 33.6524328 kl weight 0.0\n",
      "\tEpoch 2 complete! \tAverage Loss:  0.05443 Reproduction loss 0.0532 KL_loss 40.665259 kl weight 0.0\n",
      "\tEpoch 3 complete! \tAverage Loss:  0.05544 Reproduction loss 0.0534 KL_loss 40.657832 kl weight 0.0\n",
      "\tEpoch 4 complete! \tAverage Loss:  0.056285 Reproduction loss 0.0534 KL_loss 40.6382796 kl weight 0.0\n",
      "\tEpoch 5 complete! \tAverage Loss:  0.057099 Reproduction loss 0.0534 KL_loss 40.6321528 kl weight 0.0\n",
      "\tEpoch 6 complete! \tAverage Loss:  0.057729 Reproduction loss 0.0532 KL_loss 40.6245981 kl weight 0.0\n",
      "\tEpoch 7 complete! \tAverage Loss:  0.058648 Reproduction loss 0.0533 KL_loss 40.6164318 kl weight 0.0\n",
      "\tEpoch 8 complete! \tAverage Loss:  0.059558 Reproduction loss 0.0534 KL_loss 40.5957554 kl weight 0.0\n",
      "\tEpoch 9 complete! \tAverage Loss:  0.060524 Reproduction loss 0.0536 KL_loss 40.612755 kl weight 0.0\n",
      "\tEpoch 10 complete! \tAverage Loss:  0.061205 Reproduction loss 0.0534 KL_loss 40.6654347 kl weight 0.0\n",
      "\tEpoch 11 complete! \tAverage Loss:  0.061888 Reproduction loss 0.0533 KL_loss 40.6174043 kl weight 0.0\n",
      "\tEpoch 12 complete! \tAverage Loss:  0.062806 Reproduction loss 0.0534 KL_loss 40.5884056 kl weight 0.0\n",
      "\tEpoch 13 complete! \tAverage Loss:  0.063365 Reproduction loss 0.0531 KL_loss 40.5510826 kl weight 0.0\n",
      "\tEpoch 14 complete! \tAverage Loss:  0.064131 Reproduction loss 0.0531 KL_loss 40.4598379 kl weight 0.0\n",
      "\tEpoch 15 complete! \tAverage Loss:  0.0651 Reproduction loss 0.0533 KL_loss 40.4036374 kl weight 0.0\n",
      "\tEpoch 16 complete! \tAverage Loss:  0.065891 Reproduction loss 0.0533 KL_loss 40.3466779 kl weight 0.0\n",
      "\tEpoch 17 complete! \tAverage Loss:  0.066513 Reproduction loss 0.0531 KL_loss 40.1728875 kl weight 0.0\n",
      "\tEpoch 18 complete! \tAverage Loss:  0.067549 Reproduction loss 0.0534 KL_loss 40.0617253 kl weight 0.0\n",
      "\tEpoch 19 complete! \tAverage Loss:  0.067985 Reproduction loss 0.0531 KL_loss 39.9644018 kl weight 0.0\n",
      "\tEpoch 20 complete! \tAverage Loss:  0.068942 Reproduction loss 0.0533 KL_loss 39.906846 kl weight 0.0\n",
      "\tEpoch 21 complete! \tAverage Loss:  0.069927 Reproduction loss 0.0535 KL_loss 39.8461685 kl weight 0.0\n",
      "\tEpoch 22 complete! \tAverage Loss:  0.070359 Reproduction loss 0.0531 KL_loss 39.7428688 kl weight 0.0\n",
      "\tEpoch 23 complete! \tAverage Loss:  0.071407 Reproduction loss 0.0535 KL_loss 39.4380687 kl weight 0.0\n",
      "\tEpoch 24 complete! \tAverage Loss:  0.071663 Reproduction loss 0.053 KL_loss 39.3558361 kl weight 0.0\n",
      "\tEpoch 25 complete! \tAverage Loss:  0.072559 Reproduction loss 0.0531 KL_loss 39.3537274 kl weight 0.0\n",
      "\tEpoch 26 complete! \tAverage Loss:  0.073452 Reproduction loss 0.0533 KL_loss 39.2083226 kl weight 0.0\n",
      "\tEpoch 27 complete! \tAverage Loss:  0.073785 Reproduction loss 0.053 KL_loss 38.9405983 kl weight 0.0\n",
      "\tEpoch 28 complete! \tAverage Loss:  0.074385 Reproduction loss 0.0529 KL_loss 38.7259908 kl weight 0.0\n",
      "\tEpoch 29 complete! \tAverage Loss:  0.075306 Reproduction loss 0.0531 KL_loss 38.6722222 kl weight 0.0\n",
      "\tEpoch 30 complete! \tAverage Loss:  0.076345 Reproduction loss 0.0533 KL_loss 38.8226461 kl weight 0.0\n",
      "\tEpoch 31 complete! \tAverage Loss:  0.077468 Reproduction loss 0.0535 KL_loss 39.0170592 kl weight 0.0\n",
      "\tEpoch 32 complete! \tAverage Loss:  0.078087 Reproduction loss 0.0532 KL_loss 39.236334 kl weight 0.0\n",
      "\tEpoch 33 complete! \tAverage Loss:  0.078712 Reproduction loss 0.0531 KL_loss 39.1097271 kl weight 0.0\n",
      "\tEpoch 34 complete! \tAverage Loss:  0.079744 Reproduction loss 0.0533 KL_loss 39.1637815 kl weight 0.0\n",
      "\tEpoch 35 complete! \tAverage Loss:  0.079723 Reproduction loss 0.0532 KL_loss 38.0730676 kl weight 0.0\n",
      "\tEpoch 36 complete! \tAverage Loss:  0.080004 Reproduction loss 0.0532 KL_loss 37.4762472 kl weight 0.0\n",
      "\tEpoch 37 complete! \tAverage Loss:  0.090626 Reproduction loss 0.0533 KL_loss 50.6463507 kl weight 0.0\n",
      "\tEpoch 38 complete! \tAverage Loss:  0.094133 Reproduction loss 0.0532 KL_loss 54.1157292 kl weight 0.0\n",
      "\tEpoch 39 complete! \tAverage Loss:  0.095032 Reproduction loss 0.0532 KL_loss 53.8645163 kl weight 0.0\n",
      "\tEpoch 40 complete! \tAverage Loss:  0.096482 Reproduction loss 0.0532 KL_loss 54.2837925 kl weight 0.0\n",
      "\tEpoch 41 complete! \tAverage Loss:  0.096645 Reproduction loss 0.0531 KL_loss 53.388962 kl weight 0.0\n",
      "\tEpoch 42 complete! \tAverage Loss:  0.099137 Reproduction loss 0.0535 KL_loss 54.5887585 kl weight 0.0\n",
      "\tEpoch 43 complete! \tAverage Loss:  0.096838 Reproduction loss 0.0534 KL_loss 50.691788 kl weight 0.0\n",
      "\tEpoch 44 complete! \tAverage Loss:  0.134887 Reproduction loss 0.0531 KL_loss 93.0561866 kl weight 0.0\n",
      "\tEpoch 45 complete! \tAverage Loss:  0.292202 Reproduction loss 0.0533 KL_loss 265.8308607 kl weight 0.0\n",
      "\tEpoch 46 complete! \tAverage Loss:  0.343085 Reproduction loss 0.0532 KL_loss 315.964149 kl weight 0.0\n",
      "\tEpoch 47 complete! \tAverage Loss:  0.357574 Reproduction loss 0.0532 KL_loss 324.6356863 kl weight 0.0\n",
      "\tEpoch 48 complete! \tAverage Loss:  0.363337 Reproduction loss 0.053 KL_loss 324.0374496 kl weight 0.0\n",
      "\tEpoch 49 complete! \tAverage Loss:  0.368947 Reproduction loss 0.0534 KL_loss 322.6708584 kl weight 0.0\n",
      "\tEpoch 50 complete! \tAverage Loss:  0.375764 Reproduction loss 0.0534 KL_loss 322.9782106 kl weight 0.0\n",
      "\tEpoch 51 complete! \tAverage Loss:  0.377767 Reproduction loss 0.0533 KL_loss 318.6571493 kl weight 0.0\n",
      "\tEpoch 52 complete! \tAverage Loss:  0.387152 Reproduction loss 0.0531 KL_loss 321.7326165 kl weight 0.0\n",
      "\tEpoch 53 complete! \tAverage Loss:  0.397685 Reproduction loss 0.0534 KL_loss 325.2134372 kl weight 0.0\n",
      "\tEpoch 54 complete! \tAverage Loss:  0.404173 Reproduction loss 0.0533 KL_loss 325.3163698 kl weight 0.0\n",
      "\tEpoch 55 complete! \tAverage Loss:  0.419843 Reproduction loss 0.0534 KL_loss 333.4133193 kl weight 0.0\n",
      "\tEpoch 56 complete! \tAverage Loss:  0.401257 Reproduction loss 0.0537 KL_loss 310.7407917 kl weight 0.0\n",
      "\tEpoch 57 complete! \tAverage Loss:  0.350859 Reproduction loss 0.0532 KL_loss 261.34494 kl weight 0.0\n",
      "\tEpoch 58 complete! \tAverage Loss:  0.355309 Reproduction loss 0.0531 KL_loss 260.6826707 kl weight 0.0\n",
      "\tEpoch 59 complete! \tAverage Loss:  0.361249 Reproduction loss 0.0536 KL_loss 260.8446802 kl weight 0.0\n",
      "\tEpoch 60 complete! \tAverage Loss:  0.370356 Reproduction loss 0.0539 KL_loss 263.8072142 kl weight 0.0\n",
      "\tEpoch 61 complete! \tAverage Loss:  0.377206 Reproduction loss 0.0536 KL_loss 265.3206717 kl weight 0.0\n",
      "\tEpoch 62 complete! \tAverage Loss:  0.382412 Reproduction loss 0.0534 KL_loss 265.3149866 kl weight 0.0\n",
      "\tEpoch 63 complete! \tAverage Loss:  0.386655 Reproduction loss 0.0531 KL_loss 264.6874274 kl weight 0.0\n",
      "\tEpoch 64 complete! \tAverage Loss:  0.391539 Reproduction loss 0.0533 KL_loss 264.1700837 kl weight 0.0\n",
      "\tEpoch 65 complete! \tAverage Loss:  0.395706 Reproduction loss 0.0533 KL_loss 263.3004697 kl weight 0.0\n",
      "\tEpoch 66 complete! \tAverage Loss:  0.400507 Reproduction loss 0.0531 KL_loss 263.0398765 kl weight 0.0\n",
      "\tEpoch 67 complete! \tAverage Loss:  0.405783 Reproduction loss 0.0533 KL_loss 262.9004313 kl weight 0.0\n",
      "\tEpoch 68 complete! \tAverage Loss:  0.410739 Reproduction loss 0.0534 KL_loss 262.6064303 kl weight 0.0\n",
      "\tEpoch 69 complete! \tAverage Loss:  0.415951 Reproduction loss 0.0532 KL_loss 262.6322332 kl weight 0.0\n",
      "\tEpoch 70 complete! \tAverage Loss:  0.421664 Reproduction loss 0.0533 KL_loss 262.9033775 kl weight 0.0\n",
      "\tEpoch 71 complete! \tAverage Loss:  0.427456 Reproduction loss 0.0531 KL_loss 263.3558253 kl weight 0.0\n",
      "\tEpoch 72 complete! \tAverage Loss:  0.431873 Reproduction loss 0.053 KL_loss 262.8208835 kl weight 0.0\n",
      "\tEpoch 73 complete! \tAverage Loss:  0.437163 Reproduction loss 0.0532 KL_loss 262.6628533 kl weight 0.0\n",
      "\tEpoch 74 complete! \tAverage Loss:  0.442657 Reproduction loss 0.0533 KL_loss 262.740362 kl weight 0.0\n",
      "\tEpoch 75 complete! \tAverage Loss:  0.446729 Reproduction loss 0.0532 KL_loss 262.0293146 kl weight 0.0\n",
      "\tEpoch 76 complete! \tAverage Loss:  0.460461 Reproduction loss 0.0531 KL_loss 267.5844028 kl weight 0.0\n",
      "\tEpoch 77 complete! \tAverage Loss:  0.469609 Reproduction loss 0.0534 KL_loss 269.8679233 kl weight 0.0\n",
      "\tEpoch 78 complete! \tAverage Loss:  0.475193 Reproduction loss 0.0534 KL_loss 269.9294227 kl weight 0.0\n",
      "\tEpoch 79 complete! \tAverage Loss:  0.480236 Reproduction loss 0.0531 KL_loss 269.880996 kl weight 0.0\n",
      "\tEpoch 80 complete! \tAverage Loss:  0.484832 Reproduction loss 0.0529 KL_loss 269.5088946 kl weight 0.0\n",
      "\tEpoch 81 complete! \tAverage Loss:  0.49078 Reproduction loss 0.0534 KL_loss 269.4861138 kl weight 0.0\n",
      "\tEpoch 82 complete! \tAverage Loss:  0.495821 Reproduction loss 0.0532 KL_loss 269.3543776 kl weight 0.0\n",
      "\tEpoch 83 complete! \tAverage Loss:  0.500837 Reproduction loss 0.0533 KL_loss 269.0729221 kl weight 0.0\n",
      "\tEpoch 84 complete! \tAverage Loss:  0.506057 Reproduction loss 0.0531 KL_loss 269.0488133 kl weight 0.0\n",
      "\tEpoch 85 complete! \tAverage Loss:  0.511877 Reproduction loss 0.0532 KL_loss 269.2231662 kl weight 0.0\n",
      "\tEpoch 86 complete! \tAverage Loss:  0.517156 Reproduction loss 0.0531 KL_loss 269.220355 kl weight 0.0\n",
      "\tEpoch 87 complete! \tAverage Loss:  0.523026 Reproduction loss 0.0535 KL_loss 269.2151589 kl weight 0.0\n",
      "\tEpoch 88 complete! \tAverage Loss:  0.528146 Reproduction loss 0.0532 KL_loss 269.2130897 kl weight 0.0\n",
      "\tEpoch 89 complete! \tAverage Loss:  0.533362 Reproduction loss 0.053 KL_loss 269.2143396 kl weight 0.0\n",
      "\tEpoch 90 complete! \tAverage Loss:  0.539277 Reproduction loss 0.0535 KL_loss 269.2059277 kl weight 0.0\n",
      "\tEpoch 91 complete! \tAverage Loss:  0.544294 Reproduction loss 0.0532 KL_loss 269.1755828 kl weight 0.0\n",
      "\tEpoch 92 complete! \tAverage Loss:  0.549621 Reproduction loss 0.0531 KL_loss 269.1687267 kl weight 0.0\n",
      "\tEpoch 93 complete! \tAverage Loss:  0.555269 Reproduction loss 0.0532 KL_loss 269.2301032 kl weight 0.0\n",
      "\tEpoch 94 complete! \tAverage Loss:  0.56179 Reproduction loss 0.0535 KL_loss 269.617575 kl weight 0.0\n",
      "\tEpoch 95 complete! \tAverage Loss:  0.567006 Reproduction loss 0.0531 KL_loss 269.7096221 kl weight 0.0\n",
      "\tEpoch 96 complete! \tAverage Loss:  0.574267 Reproduction loss 0.0534 KL_loss 270.5260556 kl weight 0.0\n",
      "\tEpoch 97 complete! \tAverage Loss:  0.580745 Reproduction loss 0.0536 KL_loss 270.9609635 kl weight 0.0\n",
      "\tEpoch 98 complete! \tAverage Loss:  0.586539 Reproduction loss 0.0533 KL_loss 271.2646142 kl weight 0.0\n",
      "\tEpoch 99 complete! \tAverage Loss:  0.592392 Reproduction loss 0.0533 KL_loss 271.4618963 kl weight 0.0\n",
      "\tEpoch 100 complete! \tAverage Loss:  0.597917 Reproduction loss 0.0533 KL_loss 271.4683232 kl weight 0.0\n"
     ]
    }
   ],
   "source": [
    "reproduction_losses = []\n",
    "for epoch in range(epochs):\n",
    "    overall_loss = 0\n",
    "    reproduction_loss_epoch = 0\n",
    "    KL_loss_epoch = 0\n",
    "    for batch_idx, x in enumerate(train_loader):\n",
    "\n",
    "        model.train()\n",
    "        x = x.view(x.shape[0], x_dim)\n",
    "        x = x.to(device)\n",
    "\n",
    "        optimizer.zero_grad()\n",
    "\n",
    "        x_hat, mean, log_var = model(x)\n",
    "        \n",
    "        kl_weight = min(1.0, kl_weight + anneal_rate)\n",
    "\n",
    "        reproduction_loss = torch.mean(torch.norm(x_hat - x, dim=1) ** 2)\n",
    "        KL_loss      = - 0.5 * torch.sum(1+ log_var - mean.pow(2) - log_var.exp())\n",
    "        loss_val = reproduction_loss + kl_weight * KL_loss\n",
    "        \n",
    "        overall_loss += loss_val.item()\n",
    "        reproduction_loss_epoch += reproduction_loss.item()\n",
    "        KL_loss_epoch += KL_loss.item()\n",
    "        \n",
    "        reproduction_loss.backward()\n",
    "        optimizer.step()\n",
    "\n",
    "    reproduction_losses.append(reproduction_loss_epoch/(batch_idx*vae_batch_size))\n",
    "    # print(model.Encoder.FC_mean.grad) \n",
    "    print(\"\\tEpoch\", epoch + 1, \"complete!\", \"\\tAverage Loss: \", round(overall_loss / (batch_idx*vae_batch_size), 6), 'Reproduction loss', round(reproduction_loss_epoch/ (batch_idx*vae_batch_size), 4), 'KL_loss', round(KL_loss_epoch/ (batch_idx*vae_batch_size), 7), 'kl weight', round(kl_weight, 2))\n",
    "    \n",
    "torch.save(model.state_dict(), os.path.join(datapath, savepath))"
   ]
  },
  {
   "cell_type": "code",
   "execution_count": 256,
   "metadata": {},
   "outputs": [
    {
     "data": {
      "text/plain": [
       "[<matplotlib.lines.Line2D at 0x7f8c4b049b80>]"
      ]
     },
     "execution_count": 256,
     "metadata": {},
     "output_type": "execute_result"
    },
    {
     "data": {
      "image/png": "[encoded data removed]",
      "text/plain": [
       "<Figure size 640x480 with 1 Axes>"
      ]
     },
     "metadata": {},
     "output_type": "display_data"
    }
   ],
   "source": [
    "plt.plot(reproduction_losses)\n"
   ]
  },
  {
   "cell_type": "code",
   "execution_count": 257,
   "metadata": {},
   "outputs": [],
   "source": [
    "with torch.no_grad():\n",
    "    noise = torch.randn(vae_batch_size, latent_dim).to(device)\n",
    "    generated_images =  model.Decoder(noise)"
   ]
  },
  {
   "cell_type": "code",
   "execution_count": 258,
   "metadata": {},
   "outputs": [],
   "source": [
    "vmin, vmax = -2.5, 2.5"
   ]
  },
  {
   "cell_type": "code",
   "execution_count": 259,
   "metadata": {},
   "outputs": [
    {
     "name": "stdout",
     "output_type": "stream",
     "text": [
      "tensor([[0.7053, 0.9729, 1.0196, 0.9917, 0.8230],\n",
      "        [0.8605, 1.1202, 1.1507, 1.1023, 0.9415],\n",
      "        [0.9465, 1.1176, 1.1478, 1.1001, 0.9023],\n",
      "        [0.9264, 1.1000, 1.1153, 1.0294, 0.7906],\n",
      "        [0.8238, 0.9749, 0.9961, 0.8766, 0.6292]])\n"
     ]
    },
    {
     "data": {
      "text/plain": [
       "<matplotlib.image.AxesImage at 0x7f8c4abfd8b0>"
      ]
     },
     "execution_count": 259,
     "metadata": {},
     "output_type": "execute_result"
    },
    {
     "data": {
      "image/png": "[encoded data removed]",
      "text/plain": [
       "<Figure size 640x480 with 1 Axes>"
      ]
     },
     "metadata": {},
     "output_type": "display_data"
    }
   ],
   "source": [
    "noise = torch.randn(1, latent_dim).to(device) \n",
    "res = model.Decoder(noise).view(5, 5).detach().cpu()\n",
    "print(res)\n",
    "plt.imshow(res, norm=matplotlib.colors.Normalize(vmin=vmin, vmax=vmax, clip=False))"
   ]
  },
  {
   "cell_type": "code",
   "execution_count": 260,
   "metadata": {},
   "outputs": [
    {
     "data": {
      "text/plain": [
       "<matplotlib.image.AxesImage at 0x7f8c4a806dc0>"
      ]
     },
     "execution_count": 260,
     "metadata": {},
     "output_type": "execute_result"
    },
    {
     "data": {
      "image/png": "[encoded data removed]",
      "text/plain": [
       "<Figure size 640x480 with 1 Axes>"
      ]
     },
     "metadata": {},
     "output_type": "display_data"
    }
   ],
   "source": [
    "plt.imshow(generated_images[0].view(5, 5), norm=matplotlib.colors.Normalize(vmin=vmin, vmax=vmax, clip=False))"
   ]
  },
  {
   "cell_type": "code",
   "execution_count": 261,
   "metadata": {},
   "outputs": [],
   "source": [
    "def visualise_vae(num_rows, generated_images):\n",
    "  _, axarr = plt.subplots(num_rows, num_filters, figsize=(int(5*(num_filters//8)), num_rows))\n",
    "\n",
    "  x = generated_images\n",
    "  x = x.view(vae_batch_size, 5, 5)\n",
    "\n",
    "  for i in range(num_rows):\n",
    "    for j in range(num_filters):\n",
    "      idx = random.choice(range(len(generated_images)))\n",
    "      axarr[i, j].set_axis_off()\n",
    "      axarr[i, j].imshow(x[idx].cpu().numpy(), interpolation=None, norm=matplotlib.colors.Normalize(vmin=vmin, vmax=vmax, clip=False))"
   ]
  },
  {
   "cell_type": "code",
   "execution_count": 262,
   "metadata": {},
   "outputs": [
    {
     "data": {
      "image/png": "[encoded data removed]",
      "text/plain": [
       "<Figure size 500x1200 with 96 Axes>"
      ]
     },
     "metadata": {},
     "output_type": "display_data"
    }
   ],
   "source": [
    "visualise_vae(100//num_filters, generated_images)"
   ]
  },
  {
   "cell_type": "code",
   "execution_count": null,
   "metadata": {},
   "outputs": [],
   "source": [
    "for i in range(len(dataset)):\n",
    "    print(i, \"\\n\", torch.max(dataset[i]), \"\\n\", torch.min(dataset[i]), \"\\n\\n\")"
   ]
  },
  {
   "cell_type": "code",
   "execution_count": 155,
   "metadata": {},
   "outputs": [
    {
     "name": "stdout",
     "output_type": "stream",
     "text": [
      "tensor(-0.1181, device='cuda:0')\n",
      "tensor(1.3148, device='cuda:0')\n"
     ]
    }
   ],
   "source": [
    "k = 33\n",
    "print(torch.mean(dataset[100*k:100*(k+1)]))\n",
    "print(torch.std(dataset[100*k:100*(k+1)]))"
   ]
  },
  {
   "cell_type": "code",
   "execution_count": 136,
   "metadata": {},
   "outputs": [],
   "source": [
    "def debug(x):\n",
    "    for i in range(len(x)):\n",
    "        print(i, \"\\n\", torch.max(x[i]), \"\\n\", torch.min(x[i]), \"\\n\\n\")"
   ]
  },
  {
   "cell_type": "code",
   "execution_count": null,
   "metadata": {},
   "outputs": [],
   "source": [
    "debug(generated_images)"
   ]
  }
 ],
 "metadata": {
  "kernelspec": {
   "display_name": "Python -- PGM Project",
   "language": "python",
   "name": "pgmproject"
  },
  "language_info": {
   "codemirror_mode": {
    "name": "ipython",
    "version": 3
   },
   "file_extension": ".py",
   "mimetype": "text/x-python",
   "name": "python",
   "nbconvert_exporter": "python",
   "pygments_lexer": "ipython3",
   "version": "3.9.15"
  },
  "orig_nbformat": 4,
  "vscode": {
   "interpreter": {
    "hash": "31f2aee4e71d21fbe5cf8b01ff0e069b9275f58929596ceb00d14d90e3e16cd6"
   }
  }
 },
 "nbformat": 4,
 "nbformat_minor": 2
}
