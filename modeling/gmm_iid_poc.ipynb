{
 "cells": [
  {
   "cell_type": "code",
   "execution_count": 95,
   "metadata": {},
   "outputs": [
    {
     "name": "stdout",
     "output_type": "stream",
     "text": [
      "The autoreload extension is already loaded. To reload it, use:\n",
      "  %reload_ext autoreload\n"
     ]
    }
   ],
   "source": [
    "%load_ext autoreload\n",
    "%autoreload 2"
   ]
  },
  {
   "cell_type": "code",
   "execution_count": 96,
   "metadata": {},
   "outputs": [],
   "source": [
    "import torch\n",
    "import os\n",
    "from tqdm import tqdm\n",
    "from torch.utils.data import Dataset, DataLoader\n",
    "\n",
    "from tqdm import tqdm\n",
    "\n",
    "import numpy as np\n",
    "from sklearn.mixture import GaussianMixture\n",
    "# torch.manual_seed(1000)"
   ]
  },
  {
   "cell_type": "code",
   "execution_count": 97,
   "metadata": {},
   "outputs": [
    {
     "name": "stderr",
     "output_type": "stream",
     "text": [
      "1364it [00:00, 3152.23it/s]\n"
     ]
    }
   ],
   "source": [
    "datapath = os.path.join('../', 'data')\n",
    "filterpath = os.path.join(datapath, '8_19')\n",
    "\n",
    "def get_dataset():\n",
    "  weight_dataset = []\n",
    "  for f, file in tqdm(enumerate(os.listdir(filterpath))):\n",
    "    filter = torch.load(os.path.join(filterpath, file), map_location=torch.device('cpu'))\n",
    "    for i in range(8):\n",
    "      weight_dataset.append(filter['0.weight'][i][0])\n",
    "  return weight_dataset\n",
    "\n",
    "num_images = len(os.listdir(filterpath))\n",
    "dataset = get_dataset()\n",
    "dataset = torch.stack(dataset, dim=0).view(-1,25)\n",
    "\n",
    "X = dataset.detach().clone().numpy()"
   ]
  },
  {
   "cell_type": "code",
   "execution_count": 98,
   "metadata": {},
   "outputs": [
    {
     "data": {
      "text/plain": [
       "(array([[-1.01404979, -1.42662513, -1.58260112, -1.52913069, -1.21275558,\n",
       "         -1.40964882, -1.76646536, -1.85163685, -1.79746383, -1.47144188,\n",
       "         -1.54907217, -1.84311961, -1.89620443, -1.83936473, -1.50453694,\n",
       "         -1.47576968, -1.77687968, -1.82401893, -1.71947953, -1.30795335,\n",
       "         -1.12626535, -1.42075028, -1.45746834, -1.27695727, -0.82085844],\n",
       "        [ 0.64029076,  0.8676299 ,  0.95879535,  0.94290714,  0.81353428,\n",
       "          0.8121442 ,  1.02088136,  1.07063249,  1.0461878 ,  0.90445488,\n",
       "          0.90634656,  1.06603274,  1.09982922,  1.06483899,  0.90367858,\n",
       "          0.91766923,  1.06390902,  1.08263256,  1.02816712,  0.8227588 ,\n",
       "          0.83137814,  0.96382789,  0.97564578,  0.87948563,  0.6504938 ]]),\n",
       " array([0.45711177, 0.54288823]))"
      ]
     },
     "execution_count": 98,
     "metadata": {},
     "output_type": "execute_result"
    }
   ],
   "source": [
    "gmm = GaussianMixture(n_components=2).fit(X)\n",
    "gmm.means_, gmm.weights_"
   ]
  },
  {
   "cell_type": "code",
   "execution_count": 99,
   "metadata": {},
   "outputs": [],
   "source": [
    "import matplotlib\n",
    "import matplotlib.pyplot as plt\n",
    "\n",
    "num_samples = 8\n",
    "vmin, vmax = -2.5, 2.5\n",
    "def visualise_filters(filters):\n",
    "  num_rows = filters.shape[0]\n",
    "  num_filters = filters.shape[1]\n",
    "  _, axarr = plt.subplots(num_rows, num_filters, figsize=(int(5*(num_filters//8)), num_rows))\n",
    "  plt.axis('off')\n",
    "  for f in range(num_rows):\n",
    "    filter = filters[f]\n",
    "    for i in range(num_filters):\n",
    "      if f < num_rows:\n",
    "        axarr[f, i].set_axis_off()\n",
    "        axarr[f, i].imshow(filter[i], interpolation=None, norm=matplotlib.colors.Normalize(vmin=vmin, vmax=vmax, clip=False))\n",
    "  plt.show()  \n",
    "  return"
   ]
  },
  {
   "cell_type": "code",
   "execution_count": 100,
   "metadata": {},
   "outputs": [
    {
     "data": {
      "image/png": "[encoded data removed]",
      "text/plain": [
       "<Figure size 360x576 with 64 Axes>"
      ]
     },
     "metadata": {
      "needs_background": "light"
     },
     "output_type": "display_data"
    }
   ],
   "source": [
    "n_samples = 8\n",
    "n_filters = 8\n",
    "filters , _ = gmm.sample(n_filters*n_samples)\n",
    "filters = np.random.permutation(np.reshape(filters, (-1,5,5)))\n",
    "# print(components.sha)\n",
    "\n",
    "filters = np.reshape(filters, (n_samples,n_filters,5,5))\n",
    "visualise_filters(filters)\n",
    "# components = np.reshape(components, (n_samples,n_filters,-1))"
   ]
  }
 ],
 "metadata": {
  "kernelspec": {
   "display_name": "Python 3",
   "language": "python",
   "name": "python3"
  },
  "language_info": {
   "codemirror_mode": {
    "name": "ipython",
    "version": 3
   },
   "file_extension": ".py",
   "mimetype": "text/x-python",
   "name": "python",
   "nbconvert_exporter": "python",
   "pygments_lexer": "ipython3",
   "version": "3.7.6"
  }
 },
 "nbformat": 4,
 "nbformat_minor": 4
}
