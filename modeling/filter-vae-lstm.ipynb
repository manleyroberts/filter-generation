{
 "cells": [
  {
   "cell_type": "code",
   "execution_count": 1,
   "metadata": {},
   "outputs": [],
   "source": [
    "%load_ext autoreload\n",
    "%autoreload 2"
   ]
  },
  {
   "cell_type": "code",
   "execution_count": 2,
   "metadata": {},
   "outputs": [
    {
     "name": "stdout",
     "output_type": "stream",
     "text": [
      "/home/deepk/filter-generation/modeling/Sequence-VAE\n",
      "data\t\t LICENSE  model.py\tplay_with_model.ipynb  train.py\r\n",
      "filter_loss.py\t loss.py  models\t__pycache__\t       untitled.txt\r\n",
      "filter_model.py  main.py  Pipfile\tREADME.md\t       utils.py\r\n",
      "filter_train.py  media\t  Pipfile.lock\tsettings.py\r\n"
     ]
    }
   ],
   "source": [
    "%cd '/home/deepk/filter-generation/modeling/Sequence-VAE'\n",
    "!ls"
   ]
  },
  {
   "cell_type": "code",
   "execution_count": 323,
   "metadata": {},
   "outputs": [
    {
     "name": "stdout",
     "output_type": "stream",
     "text": [
      "Epoch:  0\n",
      "Training.......\n",
      "^C\n",
      "Traceback (most recent call last):\n",
      "  File \"main.py\", line 72, in <module>\n",
      "    train_losses = trainer.train(train_losses, epoch, training_setting[\"batch_size\"], training_setting[\"clip\"])\n",
      "  File \"/home/deepk/filter-generation/modeling/Sequence-VAE/train.py\", line 29, in train\n",
      "    x_hat_param, mu, log_var, z, states = self.model(source,source_lengths, states)\n",
      "  File \"/home/deepk/anaconda3/lib/python3.7/site-packages/torch/nn/modules/module.py\", line 1190, in _call_impl\n",
      "    return forward_call(*input, **kwargs)\n",
      "  File \"/home/deepk/filter-generation/modeling/Sequence-VAE/model.py\", line 113, in forward\n",
      "    z, mean, log_var, hidden_encoder = self.encoder(packed_x_embed, maximum_padding_length, hidden_encoder)\n",
      "  File \"/home/deepk/filter-generation/modeling/Sequence-VAE/model.py\", line 66, in encoder\n",
      "    std = torch.exp(0.5 * log_var)   # e^(0.5 log_var) = var^0.5\n",
      "KeyboardInterrupt\n"
     ]
    }
   ],
   "source": [
    "!python3 main.py"
   ]
  },
  {
   "cell_type": "code",
   "execution_count": 3,
   "metadata": {},
   "outputs": [
    {
     "data": {
      "text/plain": [
       "<torch._C.Generator at 0x7f7de8e71950>"
      ]
     },
     "execution_count": 3,
     "metadata": {},
     "output_type": "execute_result"
    }
   ],
   "source": [
    "import torch\n",
    "import os\n",
    "from tqdm import tqdm\n",
    "from torch.utils.data import Dataset, DataLoader\n",
    "\n",
    "from filter_loss import VAE_Loss\n",
    "from filter_model import LSTM_VAE\n",
    "from filter_train import FilterTrainer\n",
    "\n",
    "# from settings import global_setting, model_setting, training_setting\n",
    "from utils import plot_elbo\n",
    "from tqdm import tqdm\n",
    "# from utils import  interpolate, plot_elbo, get_latent_codes, visualize_latent_codes\n",
    "torch.manual_seed(1000)"
   ]
  },
  {
   "cell_type": "code",
   "execution_count": 4,
   "metadata": {},
   "outputs": [],
   "source": [
    "os.environ[\"CUDA_DEVICE_ORDER\"]=\"PCI_BUS_ID\"\n",
    "os.environ[\"CUDA_VISIBLE_DEVICES\"]=\"0,1\"\n",
    "device = \"cuda\" if torch.cuda.is_available() else \"cpu\""
   ]
  },
  {
   "cell_type": "code",
   "execution_count": 5,
   "metadata": {},
   "outputs": [],
   "source": [
    "# bptt = 60\n",
    "vae_batch_size = 100\n",
    "num_filters = 9\n",
    "# embed_size = 300\n",
    "hidden_size = 20\n",
    "latent_size = 10\n",
    "input_size = 25"
   ]
  },
  {
   "cell_type": "code",
   "execution_count": 6,
   "metadata": {},
   "outputs": [],
   "source": [
    "# %cd '../../data'\n",
    "# !unzip filters_complete.zip\n",
    "# %cd '../modeling/Sequence-VAE'"
   ]
  },
  {
   "cell_type": "code",
   "execution_count": 7,
   "metadata": {},
   "outputs": [
    {
     "name": "stdout",
     "output_type": "stream",
     "text": [
      "tensor([1, 2, 0])\n"
     ]
    },
    {
     "data": {
      "text/plain": [
       "tensor([[2., 3., 1.],\n",
       "        [4., 5., 3.]])"
      ]
     },
     "execution_count": 7,
     "metadata": {},
     "output_type": "execute_result"
    }
   ],
   "source": [
    "a = torch.Tensor([[1,2,3],[3,4,5]])\n",
    "b = torch.randperm(3)\n",
    "print(b)\n",
    "a[:,b]"
   ]
  },
  {
   "cell_type": "code",
   "execution_count": 441,
   "metadata": {},
   "outputs": [
    {
     "name": "stderr",
     "output_type": "stream",
     "text": [
      "1364it [00:06, 202.29it/s]\n"
     ]
    }
   ],
   "source": [
    "datapath = os.path.join('../..', 'data')\n",
    "filterpath = os.path.join(datapath, '8_19')\n",
    "\n",
    "# FILTER1 = torch.randn(5,5)\n",
    "FILTER1 = torch.zeros(5,5)\n",
    "\n",
    "\n",
    "def get_joint_dataset():\n",
    "  weight_dataset = []\n",
    "  for f, file in tqdm(enumerate(os.listdir(filterpath))):\n",
    "    filter = torch.load(os.path.join(filterpath, file), map_location=torch.device('cpu'))\n",
    "    checkpoint = []\n",
    "    for i in range(num_filters-1):\n",
    "      checkpoint.append(filter['0.weight'][i][0])\n",
    "    \n",
    "    for perm in range(100):\n",
    "        chkp = torch.stack(checkpoint, dim=0).detach().clone()\n",
    "        p = torch.randperm(num_filters-1)\n",
    "        chkp = chkp[p]\n",
    "        data_pt = torch.cat([FILTER1.view(1,5,5),chkp])\n",
    "    \n",
    "#     c=torch.randperm(2)\n",
    "#     t=t[r][:,c]\n",
    "    \n",
    "        weight_dataset.append(data_pt)\n",
    "  return weight_dataset\n",
    "\n",
    "num_images = len(os.listdir(filterpath))\n",
    "dataset = get_joint_dataset()\n",
    "dataset = torch.stack(dataset, dim=0)\n",
    "# device = torch.device('cuda') if torch.cuda.is_available() else torch.device('cpu')\n",
    "\n",
    "kwargs = {'num_workers': 1, 'pin_memory': True} \n",
    "\n",
    "points_cnt = vae_batch_size*int(len(dataset)/vae_batch_size)\n",
    "train_dataset = dataset[:points_cnt]\n",
    "train_loader = DataLoader(dataset=train_dataset, batch_size=vae_batch_size, shuffle=True, **kwargs)"
   ]
  },
  {
   "cell_type": "code",
   "execution_count": 442,
   "metadata": {},
   "outputs": [
    {
     "data": {
      "text/plain": [
       "torch.Size([136400, 9, 5, 5])"
      ]
     },
     "execution_count": 442,
     "metadata": {},
     "output_type": "execute_result"
    }
   ],
   "source": [
    "train_dataset.shape"
   ]
  },
  {
   "cell_type": "code",
   "execution_count": 443,
   "metadata": {},
   "outputs": [],
   "source": [
    "# from data.ptb import PTB\n",
    "\n",
    "# train_data = PTB(data_dir=\"./data\", split=\"train\", create_data= False, max_sequence_length= bptt)\n",
    "# test_data = PTB(data_dir=\"./data\", split=\"test\", create_data= False, max_sequence_length=bptt)\n",
    "\n",
    "# # Batchify the data\n",
    "# train_loader = torch.utils.data.DataLoader( dataset= train_data, batch_size=batch_size, shuffle= True)\n",
    "# test_loader = torch.utils.data.DataLoader( dataset= test_data, batch_size= batch_size, shuffle= True)\n",
    "\n",
    "# vocab_size = train_data.vocab_size"
   ]
  },
  {
   "cell_type": "code",
   "execution_count": 444,
   "metadata": {},
   "outputs": [],
   "source": [
    "import matplotlib\n",
    "import matplotlib.pyplot as plt\n",
    "\n",
    "num_samples = 8\n",
    "vmin, vmax = -2.5, 2.5\n",
    "def visualise_joint_from_tensor(filters, interv=1):\n",
    "  num_rows = filters.shape[0]\n",
    "  num_filters = filters.shape[1]\n",
    "  _, axarr = plt.subplots(num_rows, num_filters//interv, figsize=(int(5*((num_filters//interv)//8)), num_rows))\n",
    "  plt.axis('off')\n",
    "  for f in range(num_rows):\n",
    "    filter = filters[f]\n",
    "    for x in range(0,num_filters,interv):\n",
    "      i = x//interv\n",
    "      if f < num_rows:\n",
    "        axarr[f, i].set_axis_off()\n",
    "        axarr[f, i].imshow(filter[x].detach().cpu(), interpolation=None, norm=matplotlib.colors.Normalize(vmin=vmin, vmax=vmax, clip=False))\n",
    "  plt.show()  \n",
    "  return filter"
   ]
  },
  {
   "cell_type": "code",
   "execution_count": 445,
   "metadata": {},
   "outputs": [
    {
     "data": {
      "text/plain": [
       "2500"
      ]
     },
     "execution_count": 445,
     "metadata": {},
     "output_type": "execute_result"
    }
   ],
   "source": [
    "2500"
   ]
  },
  {
   "cell_type": "code",
   "execution_count": 448,
   "metadata": {},
   "outputs": [
    {
     "name": "stdout",
     "output_type": "stream",
     "text": [
      "Training.......\n"
     ]
    },
    {
     "name": "stderr",
     "output_type": "stream",
     "text": [
      "\r",
      "  0%|          | 0/10 [00:00<?, ?it/s]"
     ]
    },
    {
     "name": "stdout",
     "output_type": "stream",
     "text": [
      "| epoch   0 | elbo_loss 3.198519 | kl_loss 3.198519 | recons_loss 3.198519 \n"
     ]
    },
    {
     "data": {
      "image/png": "[encoded data removed]",
      "text/plain": [
       "<Figure size 360x576 with 64 Axes>"
      ]
     },
     "metadata": {
      "needs_background": "light"
     },
     "output_type": "display_data"
    },
    {
     "name": "stderr",
     "output_type": "stream",
     "text": [
      " 20%|██        | 2/10 [00:27<01:50, 13.86s/it]"
     ]
    },
    {
     "name": "stdout",
     "output_type": "stream",
     "text": [
      "| epoch   1 | elbo_loss 2.045574 | kl_loss 2.045574 | recons_loss 2.045574 \n"
     ]
    },
    {
     "name": "stderr",
     "output_type": "stream",
     "text": [
      "\r",
      " 30%|███       | 3/10 [00:40<01:35, 13.60s/it]"
     ]
    },
    {
     "name": "stdout",
     "output_type": "stream",
     "text": [
      "| epoch   2 | elbo_loss 1.502191 | kl_loss 1.502191 | recons_loss 1.502191 \n"
     ]
    },
    {
     "name": "stderr",
     "output_type": "stream",
     "text": [
      "\r",
      " 40%|████      | 4/10 [00:55<01:24, 14.06s/it]"
     ]
    },
    {
     "name": "stdout",
     "output_type": "stream",
     "text": [
      "| epoch   3 | elbo_loss 1.229663 | kl_loss 1.229663 | recons_loss 1.229663 \n"
     ]
    },
    {
     "name": "stderr",
     "output_type": "stream",
     "text": [
      "\r",
      " 50%|█████     | 5/10 [01:08<01:09, 13.81s/it]"
     ]
    },
    {
     "name": "stdout",
     "output_type": "stream",
     "text": [
      "| epoch   4 | elbo_loss 1.184048 | kl_loss 1.184048 | recons_loss 1.184048 \n"
     ]
    },
    {
     "name": "stderr",
     "output_type": "stream",
     "text": [
      "\r",
      " 60%|██████    | 6/10 [01:22<00:55, 13.94s/it]"
     ]
    },
    {
     "name": "stdout",
     "output_type": "stream",
     "text": [
      "| epoch   5 | elbo_loss 1.143576 | kl_loss 1.143576 | recons_loss 1.143576 \n"
     ]
    },
    {
     "name": "stderr",
     "output_type": "stream",
     "text": [
      "\r",
      " 70%|███████   | 7/10 [01:36<00:41, 13.81s/it]"
     ]
    },
    {
     "name": "stdout",
     "output_type": "stream",
     "text": [
      "| epoch   6 | elbo_loss 1.133595 | kl_loss 1.133595 | recons_loss 1.133595 \n"
     ]
    },
    {
     "name": "stderr",
     "output_type": "stream",
     "text": [
      "\r",
      " 80%|████████  | 8/10 [01:49<00:27, 13.73s/it]"
     ]
    },
    {
     "name": "stdout",
     "output_type": "stream",
     "text": [
      "| epoch   7 | elbo_loss 1.132248 | kl_loss 1.132248 | recons_loss 1.132248 \n"
     ]
    },
    {
     "name": "stderr",
     "output_type": "stream",
     "text": [
      "\r",
      " 90%|█████████ | 9/10 [02:03<00:13, 13.57s/it]"
     ]
    },
    {
     "name": "stdout",
     "output_type": "stream",
     "text": [
      "| epoch   8 | elbo_loss 1.060478 | kl_loss 1.060478 | recons_loss 1.060478 \n"
     ]
    },
    {
     "name": "stderr",
     "output_type": "stream",
     "text": [
      "100%|██████████| 10/10 [02:15<00:00, 13.53s/it]\n"
     ]
    },
    {
     "name": "stdout",
     "output_type": "stream",
     "text": [
      "| epoch   9 | elbo_loss 0.980076 | kl_loss 0.980076 | recons_loss 0.980076 \n"
     ]
    },
    {
     "name": "stderr",
     "output_type": "stream",
     "text": [
      "\r",
      "  0%|          | 0/10 [00:00<?, ?it/s]"
     ]
    },
    {
     "name": "stdout",
     "output_type": "stream",
     "text": [
      "| epoch  10 | elbo_loss 1.024012 | kl_loss 1.024012 | recons_loss 1.024012 \n"
     ]
    },
    {
     "data": {
      "image/png": "[encoded data removed]",
      "text/plain": [
       "<Figure size 360x576 with 64 Axes>"
      ]
     },
     "metadata": {
      "needs_background": "light"
     },
     "output_type": "display_data"
    },
    {
     "name": "stderr",
     "output_type": "stream",
     "text": [
      " 20%|██        | 2/10 [00:23<01:31, 11.39s/it]"
     ]
    },
    {
     "name": "stdout",
     "output_type": "stream",
     "text": [
      "| epoch  11 | elbo_loss 1.004895 | kl_loss 1.004895 | recons_loss 1.004895 \n"
     ]
    },
    {
     "name": "stderr",
     "output_type": "stream",
     "text": [
      "\r",
      " 30%|███       | 3/10 [00:33<01:13, 10.54s/it]"
     ]
    },
    {
     "name": "stdout",
     "output_type": "stream",
     "text": [
      "| epoch  12 | elbo_loss 0.952380 | kl_loss 0.952380 | recons_loss 0.952380 \n"
     ]
    },
    {
     "name": "stderr",
     "output_type": "stream",
     "text": [
      "\r",
      " 40%|████      | 4/10 [00:41<00:57,  9.55s/it]"
     ]
    },
    {
     "name": "stdout",
     "output_type": "stream",
     "text": [
      "| epoch  13 | elbo_loss 0.958885 | kl_loss 0.958885 | recons_loss 0.958885 \n"
     ]
    },
    {
     "name": "stderr",
     "output_type": "stream",
     "text": [
      "\r",
      " 50%|█████     | 5/10 [00:54<00:54, 10.85s/it]"
     ]
    },
    {
     "name": "stdout",
     "output_type": "stream",
     "text": [
      "| epoch  14 | elbo_loss 0.968358 | kl_loss 0.968358 | recons_loss 0.968358 \n"
     ]
    },
    {
     "name": "stderr",
     "output_type": "stream",
     "text": [
      "\r",
      " 60%|██████    | 6/10 [01:07<00:47, 11.80s/it]"
     ]
    },
    {
     "name": "stdout",
     "output_type": "stream",
     "text": [
      "| epoch  15 | elbo_loss 0.948585 | kl_loss 0.948585 | recons_loss 0.948585 \n"
     ]
    },
    {
     "name": "stderr",
     "output_type": "stream",
     "text": [
      "\r",
      " 70%|███████   | 7/10 [01:21<00:37, 12.51s/it]"
     ]
    },
    {
     "name": "stdout",
     "output_type": "stream",
     "text": [
      "| epoch  16 | elbo_loss 0.916303 | kl_loss 0.916303 | recons_loss 0.916303 \n"
     ]
    },
    {
     "name": "stderr",
     "output_type": "stream",
     "text": [
      "\r",
      " 80%|████████  | 8/10 [01:34<00:24, 12.41s/it]"
     ]
    },
    {
     "name": "stdout",
     "output_type": "stream",
     "text": [
      "| epoch  17 | elbo_loss 0.883464 | kl_loss 0.883464 | recons_loss 0.883464 \n"
     ]
    },
    {
     "name": "stderr",
     "output_type": "stream",
     "text": [
      "\r",
      " 90%|█████████ | 9/10 [01:47<00:12, 12.79s/it]"
     ]
    },
    {
     "name": "stdout",
     "output_type": "stream",
     "text": [
      "| epoch  18 | elbo_loss 0.866085 | kl_loss 0.866085 | recons_loss 0.866085 \n"
     ]
    },
    {
     "name": "stderr",
     "output_type": "stream",
     "text": [
      "100%|██████████| 10/10 [02:00<00:00, 12.05s/it]\n"
     ]
    },
    {
     "name": "stdout",
     "output_type": "stream",
     "text": [
      "| epoch  19 | elbo_loss 0.814476 | kl_loss 0.814476 | recons_loss 0.814476 \n"
     ]
    },
    {
     "name": "stderr",
     "output_type": "stream",
     "text": [
      "\r",
      "  0%|          | 0/10 [00:00<?, ?it/s]"
     ]
    },
    {
     "name": "stdout",
     "output_type": "stream",
     "text": [
      "| epoch  20 | elbo_loss 0.823063 | kl_loss 0.823063 | recons_loss 0.823063 \n"
     ]
    },
    {
     "data": {
      "image/png": "[encoded data removed]",
      "text/plain": [
       "<Figure size 360x576 with 64 Axes>"
      ]
     },
     "metadata": {
      "needs_background": "light"
     },
     "output_type": "display_data"
    },
    {
     "name": "stderr",
     "output_type": "stream",
     "text": [
      " 20%|██        | 2/10 [00:28<01:52, 14.08s/it]"
     ]
    },
    {
     "name": "stdout",
     "output_type": "stream",
     "text": [
      "| epoch  21 | elbo_loss 0.812182 | kl_loss 0.812182 | recons_loss 0.812182 \n"
     ]
    },
    {
     "name": "stderr",
     "output_type": "stream",
     "text": [
      "\r",
      " 30%|███       | 3/10 [00:40<01:32, 13.16s/it]"
     ]
    },
    {
     "name": "stdout",
     "output_type": "stream",
     "text": [
      "| epoch  22 | elbo_loss 0.803177 | kl_loss 0.803177 | recons_loss 0.803177 \n"
     ]
    },
    {
     "name": "stderr",
     "output_type": "stream",
     "text": [
      "\r",
      " 40%|████      | 4/10 [00:53<01:18, 13.15s/it]"
     ]
    },
    {
     "name": "stdout",
     "output_type": "stream",
     "text": [
      "| epoch  23 | elbo_loss 0.776306 | kl_loss 0.776306 | recons_loss 0.776306 \n"
     ]
    },
    {
     "name": "stderr",
     "output_type": "stream",
     "text": [
      "\r",
      " 50%|█████     | 5/10 [01:07<01:06, 13.29s/it]"
     ]
    },
    {
     "name": "stdout",
     "output_type": "stream",
     "text": [
      "| epoch  24 | elbo_loss 0.798985 | kl_loss 0.798985 | recons_loss 0.798985 \n"
     ]
    },
    {
     "name": "stderr",
     "output_type": "stream",
     "text": [
      "\r",
      " 60%|██████    | 6/10 [01:19<00:52, 13.08s/it]"
     ]
    },
    {
     "name": "stdout",
     "output_type": "stream",
     "text": [
      "| epoch  25 | elbo_loss 0.766837 | kl_loss 0.766837 | recons_loss 0.766837 \n"
     ]
    },
    {
     "name": "stderr",
     "output_type": "stream",
     "text": [
      "\r",
      " 70%|███████   | 7/10 [01:32<00:38, 12.89s/it]"
     ]
    },
    {
     "name": "stdout",
     "output_type": "stream",
     "text": [
      "| epoch  26 | elbo_loss 0.755865 | kl_loss 0.755865 | recons_loss 0.755865 \n"
     ]
    },
    {
     "name": "stderr",
     "output_type": "stream",
     "text": [
      "\r",
      " 80%|████████  | 8/10 [01:46<00:26, 13.32s/it]"
     ]
    },
    {
     "name": "stdout",
     "output_type": "stream",
     "text": [
      "| epoch  27 | elbo_loss 0.764445 | kl_loss 0.764445 | recons_loss 0.764445 \n"
     ]
    },
    {
     "name": "stderr",
     "output_type": "stream",
     "text": [
      "\r",
      " 90%|█████████ | 9/10 [02:01<00:13, 13.74s/it]"
     ]
    },
    {
     "name": "stdout",
     "output_type": "stream",
     "text": [
      "| epoch  28 | elbo_loss 0.763331 | kl_loss 0.763331 | recons_loss 0.763331 \n"
     ]
    },
    {
     "name": "stderr",
     "output_type": "stream",
     "text": [
      "100%|██████████| 10/10 [02:16<00:00, 13.61s/it]\n"
     ]
    },
    {
     "name": "stdout",
     "output_type": "stream",
     "text": [
      "| epoch  29 | elbo_loss 0.812976 | kl_loss 0.812976 | recons_loss 0.812976 \n"
     ]
    },
    {
     "name": "stderr",
     "output_type": "stream",
     "text": [
      "\r",
      "  0%|          | 0/10 [00:00<?, ?it/s]"
     ]
    },
    {
     "name": "stdout",
     "output_type": "stream",
     "text": [
      "| epoch  30 | elbo_loss 0.785530 | kl_loss 0.785530 | recons_loss 0.785530 \n"
     ]
    },
    {
     "data": {
      "image/png": "[encoded data removed]",
      "text/plain": [
       "<Figure size 360x576 with 64 Axes>"
      ]
     },
     "metadata": {
      "needs_background": "light"
     },
     "output_type": "display_data"
    },
    {
     "name": "stderr",
     "output_type": "stream",
     "text": [
      " 20%|██        | 2/10 [00:27<01:49, 13.71s/it]"
     ]
    },
    {
     "name": "stdout",
     "output_type": "stream",
     "text": [
      "| epoch  31 | elbo_loss 0.761065 | kl_loss 0.761065 | recons_loss 0.761065 \n"
     ]
    },
    {
     "name": "stderr",
     "output_type": "stream",
     "text": [
      "\r",
      " 30%|███       | 3/10 [00:40<01:33, 13.36s/it]"
     ]
    },
    {
     "name": "stdout",
     "output_type": "stream",
     "text": [
      "| epoch  32 | elbo_loss 0.758520 | kl_loss 0.758520 | recons_loss 0.758520 \n"
     ]
    },
    {
     "name": "stderr",
     "output_type": "stream",
     "text": [
      "\r",
      " 40%|████      | 4/10 [00:50<01:13, 12.23s/it]"
     ]
    },
    {
     "name": "stdout",
     "output_type": "stream",
     "text": [
      "| epoch  33 | elbo_loss 0.777014 | kl_loss 0.777014 | recons_loss 0.777014 \n"
     ]
    },
    {
     "name": "stderr",
     "output_type": "stream",
     "text": [
      "\r",
      " 50%|█████     | 5/10 [01:05<01:05, 13.04s/it]"
     ]
    },
    {
     "name": "stdout",
     "output_type": "stream",
     "text": [
      "| epoch  34 | elbo_loss 0.776310 | kl_loss 0.776310 | recons_loss 0.776310 \n"
     ]
    },
    {
     "name": "stderr",
     "output_type": "stream",
     "text": [
      "\r",
      " 60%|██████    | 6/10 [01:18<00:52, 13.04s/it]"
     ]
    },
    {
     "name": "stdout",
     "output_type": "stream",
     "text": [
      "| epoch  35 | elbo_loss 0.777095 | kl_loss 0.777095 | recons_loss 0.777095 \n"
     ]
    },
    {
     "name": "stderr",
     "output_type": "stream",
     "text": [
      "\r",
      " 70%|███████   | 7/10 [01:31<00:39, 13.28s/it]"
     ]
    },
    {
     "name": "stdout",
     "output_type": "stream",
     "text": [
      "| epoch  36 | elbo_loss 0.792856 | kl_loss 0.792856 | recons_loss 0.792856 \n"
     ]
    },
    {
     "name": "stderr",
     "output_type": "stream",
     "text": [
      "\r",
      " 80%|████████  | 8/10 [01:42<00:25, 12.50s/it]"
     ]
    },
    {
     "name": "stdout",
     "output_type": "stream",
     "text": [
      "| epoch  37 | elbo_loss 0.784334 | kl_loss 0.784334 | recons_loss 0.784334 \n"
     ]
    },
    {
     "name": "stderr",
     "output_type": "stream",
     "text": [
      "\r",
      " 90%|█████████ | 9/10 [01:55<00:12, 12.74s/it]"
     ]
    },
    {
     "name": "stdout",
     "output_type": "stream",
     "text": [
      "| epoch  38 | elbo_loss 0.787433 | kl_loss 0.787433 | recons_loss 0.787433 \n"
     ]
    },
    {
     "name": "stderr",
     "output_type": "stream",
     "text": [
      "100%|██████████| 10/10 [02:08<00:00, 12.83s/it]\n"
     ]
    },
    {
     "name": "stdout",
     "output_type": "stream",
     "text": [
      "| epoch  39 | elbo_loss 0.791841 | kl_loss 0.791841 | recons_loss 0.791841 \n"
     ]
    },
    {
     "name": "stderr",
     "output_type": "stream",
     "text": [
      "\r",
      "  0%|          | 0/10 [00:00<?, ?it/s]"
     ]
    },
    {
     "name": "stdout",
     "output_type": "stream",
     "text": [
      "| epoch  40 | elbo_loss 0.795053 | kl_loss 0.795053 | recons_loss 0.795053 \n"
     ]
    },
    {
     "data": {
      "image/png": "[encoded data removed]",
      "text/plain": [
       "<Figure size 360x576 with 64 Axes>"
      ]
     },
     "metadata": {
      "needs_background": "light"
     },
     "output_type": "display_data"
    },
    {
     "name": "stderr",
     "output_type": "stream",
     "text": [
      " 20%|██        | 2/10 [00:26<01:46, 13.31s/it]"
     ]
    },
    {
     "name": "stdout",
     "output_type": "stream",
     "text": [
      "| epoch  41 | elbo_loss 0.784654 | kl_loss 0.784654 | recons_loss 0.784654 \n"
     ]
    },
    {
     "name": "stderr",
     "output_type": "stream",
     "text": [
      "\r",
      " 30%|███       | 3/10 [00:41<01:37, 13.88s/it]"
     ]
    },
    {
     "name": "stdout",
     "output_type": "stream",
     "text": [
      "| epoch  42 | elbo_loss 0.765213 | kl_loss 0.765213 | recons_loss 0.765213 \n"
     ]
    },
    {
     "name": "stderr",
     "output_type": "stream",
     "text": [
      "\r",
      " 40%|████      | 4/10 [00:49<01:11, 11.90s/it]"
     ]
    },
    {
     "name": "stdout",
     "output_type": "stream",
     "text": [
      "| epoch  43 | elbo_loss 0.721517 | kl_loss 0.721517 | recons_loss 0.721517 \n"
     ]
    },
    {
     "name": "stderr",
     "output_type": "stream",
     "text": [
      "\r",
      " 50%|█████     | 5/10 [01:02<01:00, 12.12s/it]"
     ]
    },
    {
     "name": "stdout",
     "output_type": "stream",
     "text": [
      "| epoch  44 | elbo_loss 0.763030 | kl_loss 0.763030 | recons_loss 0.763030 \n"
     ]
    },
    {
     "name": "stderr",
     "output_type": "stream",
     "text": [
      "\r",
      " 60%|██████    | 6/10 [01:15<00:49, 12.30s/it]"
     ]
    },
    {
     "name": "stdout",
     "output_type": "stream",
     "text": [
      "| epoch  45 | elbo_loss 0.769483 | kl_loss 0.769483 | recons_loss 0.769483 \n"
     ]
    },
    {
     "name": "stderr",
     "output_type": "stream",
     "text": [
      "\r",
      " 70%|███████   | 7/10 [01:25<00:34, 11.64s/it]"
     ]
    },
    {
     "name": "stdout",
     "output_type": "stream",
     "text": [
      "| epoch  46 | elbo_loss 0.747370 | kl_loss 0.747370 | recons_loss 0.747370 \n"
     ]
    },
    {
     "name": "stderr",
     "output_type": "stream",
     "text": [
      "\r",
      " 80%|████████  | 8/10 [01:36<00:23, 11.55s/it]"
     ]
    },
    {
     "name": "stdout",
     "output_type": "stream",
     "text": [
      "| epoch  47 | elbo_loss 0.789464 | kl_loss 0.789464 | recons_loss 0.789464 \n"
     ]
    },
    {
     "name": "stderr",
     "output_type": "stream",
     "text": [
      "\r",
      " 90%|█████████ | 9/10 [01:49<00:12, 12.04s/it]"
     ]
    },
    {
     "name": "stdout",
     "output_type": "stream",
     "text": [
      "| epoch  48 | elbo_loss 0.756513 | kl_loss 0.756513 | recons_loss 0.756513 \n"
     ]
    },
    {
     "name": "stderr",
     "output_type": "stream",
     "text": [
      "100%|██████████| 10/10 [02:03<00:00, 12.36s/it]\n"
     ]
    },
    {
     "name": "stdout",
     "output_type": "stream",
     "text": [
      "| epoch  49 | elbo_loss 0.744723 | kl_loss 0.744723 | recons_loss 0.744723 \n"
     ]
    },
    {
     "name": "stderr",
     "output_type": "stream",
     "text": [
      "\r",
      "  0%|          | 0/10 [00:00<?, ?it/s]"
     ]
    },
    {
     "name": "stdout",
     "output_type": "stream",
     "text": [
      "| epoch  50 | elbo_loss 0.749402 | kl_loss 0.749402 | recons_loss 0.749402 \n"
     ]
    },
    {
     "data": {
      "image/png": "[encoded data removed]",
      "text/plain": [
       "<Figure size 360x576 with 64 Axes>"
      ]
     },
     "metadata": {
      "needs_background": "light"
     },
     "output_type": "display_data"
    },
    {
     "name": "stderr",
     "output_type": "stream",
     "text": [
      " 20%|██        | 2/10 [00:23<01:33, 11.70s/it]"
     ]
    },
    {
     "name": "stdout",
     "output_type": "stream",
     "text": [
      "| epoch  51 | elbo_loss 0.779470 | kl_loss 0.779470 | recons_loss 0.779470 \n"
     ]
    },
    {
     "name": "stderr",
     "output_type": "stream",
     "text": [
      "\r",
      " 30%|███       | 3/10 [00:36<01:27, 12.46s/it]"
     ]
    },
    {
     "name": "stdout",
     "output_type": "stream",
     "text": [
      "| epoch  52 | elbo_loss 0.771008 | kl_loss 0.771008 | recons_loss 0.771008 \n"
     ]
    },
    {
     "name": "stderr",
     "output_type": "stream",
     "text": [
      "\r",
      " 40%|████      | 4/10 [00:49<01:15, 12.55s/it]"
     ]
    },
    {
     "name": "stdout",
     "output_type": "stream",
     "text": [
      "| epoch  53 | elbo_loss 0.771867 | kl_loss 0.771867 | recons_loss 0.771867 \n"
     ]
    },
    {
     "name": "stderr",
     "output_type": "stream",
     "text": [
      "\r",
      " 50%|█████     | 5/10 [01:02<01:03, 12.71s/it]"
     ]
    },
    {
     "name": "stdout",
     "output_type": "stream",
     "text": [
      "| epoch  54 | elbo_loss 0.744300 | kl_loss 0.744300 | recons_loss 0.744300 \n"
     ]
    },
    {
     "name": "stderr",
     "output_type": "stream",
     "text": [
      "\r",
      " 60%|██████    | 6/10 [01:14<00:49, 12.36s/it]"
     ]
    },
    {
     "name": "stdout",
     "output_type": "stream",
     "text": [
      "| epoch  55 | elbo_loss 0.791140 | kl_loss 0.791140 | recons_loss 0.791140 \n"
     ]
    },
    {
     "name": "stderr",
     "output_type": "stream",
     "text": [
      "\r",
      " 70%|███████   | 7/10 [01:28<00:39, 13.09s/it]"
     ]
    },
    {
     "name": "stdout",
     "output_type": "stream",
     "text": [
      "| epoch  56 | elbo_loss 0.788605 | kl_loss 0.788605 | recons_loss 0.788605 \n"
     ]
    },
    {
     "name": "stderr",
     "output_type": "stream",
     "text": [
      "\r",
      " 80%|████████  | 8/10 [01:41<00:25, 12.83s/it]"
     ]
    },
    {
     "name": "stdout",
     "output_type": "stream",
     "text": [
      "| epoch  57 | elbo_loss 0.758289 | kl_loss 0.758289 | recons_loss 0.758289 \n"
     ]
    },
    {
     "name": "stderr",
     "output_type": "stream",
     "text": [
      "\r",
      " 90%|█████████ | 9/10 [01:52<00:12, 12.33s/it]"
     ]
    },
    {
     "name": "stdout",
     "output_type": "stream",
     "text": [
      "| epoch  58 | elbo_loss 0.752769 | kl_loss 0.752769 | recons_loss 0.752769 \n"
     ]
    },
    {
     "name": "stderr",
     "output_type": "stream",
     "text": [
      "100%|██████████| 10/10 [02:02<00:00, 12.26s/it]\n"
     ]
    },
    {
     "name": "stdout",
     "output_type": "stream",
     "text": [
      "| epoch  59 | elbo_loss 0.772767 | kl_loss 0.772767 | recons_loss 0.772767 \n"
     ]
    },
    {
     "name": "stderr",
     "output_type": "stream",
     "text": [
      "\r",
      "  0%|          | 0/10 [00:00<?, ?it/s]"
     ]
    },
    {
     "name": "stdout",
     "output_type": "stream",
     "text": [
      "| epoch  60 | elbo_loss 0.815519 | kl_loss 0.815519 | recons_loss 0.815519 \n"
     ]
    },
    {
     "data": {
      "image/png": "[encoded data removed]",
      "text/plain": [
       "<Figure size 360x576 with 64 Axes>"
      ]
     },
     "metadata": {
      "needs_background": "light"
     },
     "output_type": "display_data"
    },
    {
     "name": "stderr",
     "output_type": "stream",
     "text": [
      " 20%|██        | 2/10 [00:26<01:46, 13.25s/it]"
     ]
    },
    {
     "name": "stdout",
     "output_type": "stream",
     "text": [
      "| epoch  61 | elbo_loss 0.784279 | kl_loss 0.784279 | recons_loss 0.784279 \n"
     ]
    },
    {
     "name": "stderr",
     "output_type": "stream",
     "text": [
      "\r",
      " 30%|███       | 3/10 [00:39<01:32, 13.23s/it]"
     ]
    },
    {
     "name": "stdout",
     "output_type": "stream",
     "text": [
      "| epoch  62 | elbo_loss 0.777824 | kl_loss 0.777824 | recons_loss 0.777824 \n"
     ]
    },
    {
     "name": "stderr",
     "output_type": "stream",
     "text": [
      "\r",
      " 40%|████      | 4/10 [00:51<01:17, 12.90s/it]"
     ]
    },
    {
     "name": "stdout",
     "output_type": "stream",
     "text": [
      "| epoch  63 | elbo_loss 0.770616 | kl_loss 0.770616 | recons_loss 0.770616 \n"
     ]
    },
    {
     "name": "stderr",
     "output_type": "stream",
     "text": [
      "\r",
      " 50%|█████     | 5/10 [01:03<01:01, 12.30s/it]"
     ]
    },
    {
     "name": "stdout",
     "output_type": "stream",
     "text": [
      "| epoch  64 | elbo_loss 0.759422 | kl_loss 0.759422 | recons_loss 0.759422 \n"
     ]
    },
    {
     "name": "stderr",
     "output_type": "stream",
     "text": [
      "\r",
      " 60%|██████    | 6/10 [01:17<00:52, 13.14s/it]"
     ]
    },
    {
     "name": "stdout",
     "output_type": "stream",
     "text": [
      "| epoch  65 | elbo_loss 0.787570 | kl_loss 0.787570 | recons_loss 0.787570 \n"
     ]
    },
    {
     "name": "stderr",
     "output_type": "stream",
     "text": [
      "\r",
      " 70%|███████   | 7/10 [01:29<00:38, 12.77s/it]"
     ]
    },
    {
     "name": "stdout",
     "output_type": "stream",
     "text": [
      "| epoch  66 | elbo_loss 0.765794 | kl_loss 0.765794 | recons_loss 0.765794 \n"
     ]
    },
    {
     "name": "stderr",
     "output_type": "stream",
     "text": [
      "\r",
      " 80%|████████  | 8/10 [01:40<00:24, 12.17s/it]"
     ]
    },
    {
     "name": "stdout",
     "output_type": "stream",
     "text": [
      "| epoch  67 | elbo_loss 0.769932 | kl_loss 0.769932 | recons_loss 0.769932 \n"
     ]
    },
    {
     "name": "stderr",
     "output_type": "stream",
     "text": [
      "\r",
      " 90%|█████████ | 9/10 [01:54<00:12, 12.60s/it]"
     ]
    },
    {
     "name": "stdout",
     "output_type": "stream",
     "text": [
      "| epoch  68 | elbo_loss 0.775001 | kl_loss 0.775001 | recons_loss 0.775001 \n"
     ]
    },
    {
     "name": "stderr",
     "output_type": "stream",
     "text": [
      "100%|██████████| 10/10 [02:07<00:00, 12.72s/it]\n"
     ]
    },
    {
     "name": "stdout",
     "output_type": "stream",
     "text": [
      "| epoch  69 | elbo_loss 0.778492 | kl_loss 0.778492 | recons_loss 0.778492 \n"
     ]
    },
    {
     "name": "stderr",
     "output_type": "stream",
     "text": [
      "\r",
      "  0%|          | 0/10 [00:00<?, ?it/s]"
     ]
    },
    {
     "name": "stdout",
     "output_type": "stream",
     "text": [
      "| epoch  70 | elbo_loss 0.766960 | kl_loss 0.766960 | recons_loss 0.766960 \n"
     ]
    },
    {
     "data": {
      "image/png": "[encoded data removed]",
      "text/plain": [
       "<Figure size 360x576 with 64 Axes>"
      ]
     },
     "metadata": {
      "needs_background": "light"
     },
     "output_type": "display_data"
    },
    {
     "name": "stderr",
     "output_type": "stream",
     "text": [
      " 20%|██        | 2/10 [00:26<01:49, 13.65s/it]"
     ]
    },
    {
     "name": "stdout",
     "output_type": "stream",
     "text": [
      "| epoch  71 | elbo_loss 0.755079 | kl_loss 0.755079 | recons_loss 0.755079 \n"
     ]
    },
    {
     "name": "stderr",
     "output_type": "stream",
     "text": [
      "\r",
      " 30%|███       | 3/10 [00:40<01:36, 13.77s/it]"
     ]
    },
    {
     "name": "stdout",
     "output_type": "stream",
     "text": [
      "| epoch  72 | elbo_loss 0.754553 | kl_loss 0.754553 | recons_loss 0.754553 \n"
     ]
    },
    {
     "name": "stderr",
     "output_type": "stream",
     "text": [
      "\r",
      " 40%|████      | 4/10 [00:55<01:24, 14.15s/it]"
     ]
    },
    {
     "name": "stdout",
     "output_type": "stream",
     "text": [
      "| epoch  73 | elbo_loss 0.756428 | kl_loss 0.756428 | recons_loss 0.756428 \n"
     ]
    },
    {
     "name": "stderr",
     "output_type": "stream",
     "text": [
      "\r",
      " 50%|█████     | 5/10 [01:07<01:07, 13.44s/it]"
     ]
    },
    {
     "name": "stdout",
     "output_type": "stream",
     "text": [
      "| epoch  74 | elbo_loss 0.757707 | kl_loss 0.757707 | recons_loss 0.757707 \n"
     ]
    },
    {
     "name": "stderr",
     "output_type": "stream",
     "text": [
      "\r",
      " 60%|██████    | 6/10 [01:20<00:52, 13.07s/it]"
     ]
    },
    {
     "name": "stdout",
     "output_type": "stream",
     "text": [
      "| epoch  75 | elbo_loss 0.762244 | kl_loss 0.762244 | recons_loss 0.762244 \n"
     ]
    },
    {
     "name": "stderr",
     "output_type": "stream",
     "text": [
      "\r",
      " 70%|███████   | 7/10 [01:31<00:37, 12.37s/it]"
     ]
    },
    {
     "name": "stdout",
     "output_type": "stream",
     "text": [
      "| epoch  76 | elbo_loss 0.756132 | kl_loss 0.756132 | recons_loss 0.756132 \n"
     ]
    },
    {
     "name": "stderr",
     "output_type": "stream",
     "text": [
      "\r",
      " 80%|████████  | 8/10 [01:44<00:25, 12.73s/it]"
     ]
    },
    {
     "name": "stdout",
     "output_type": "stream",
     "text": [
      "| epoch  77 | elbo_loss 0.755244 | kl_loss 0.755244 | recons_loss 0.755244 \n"
     ]
    },
    {
     "name": "stderr",
     "output_type": "stream",
     "text": [
      "\r",
      " 90%|█████████ | 9/10 [01:57<00:12, 12.86s/it]"
     ]
    },
    {
     "name": "stdout",
     "output_type": "stream",
     "text": [
      "| epoch  78 | elbo_loss 0.751358 | kl_loss 0.751358 | recons_loss 0.751358 \n"
     ]
    },
    {
     "name": "stderr",
     "output_type": "stream",
     "text": [
      "100%|██████████| 10/10 [02:09<00:00, 12.97s/it]\n"
     ]
    },
    {
     "name": "stdout",
     "output_type": "stream",
     "text": [
      "| epoch  79 | elbo_loss 0.765664 | kl_loss 0.765664 | recons_loss 0.765664 \n"
     ]
    },
    {
     "name": "stderr",
     "output_type": "stream",
     "text": [
      "\r",
      "  0%|          | 0/10 [00:00<?, ?it/s]"
     ]
    },
    {
     "name": "stdout",
     "output_type": "stream",
     "text": [
      "| epoch  80 | elbo_loss 0.781294 | kl_loss 0.781294 | recons_loss 0.781294 \n"
     ]
    },
    {
     "data": {
      "image/png": "[encoded data removed]",
      "text/plain": [
       "<Figure size 360x576 with 64 Axes>"
      ]
     },
     "metadata": {
      "needs_background": "light"
     },
     "output_type": "display_data"
    },
    {
     "name": "stderr",
     "output_type": "stream",
     "text": [
      " 20%|██        | 2/10 [00:31<02:03, 15.50s/it]"
     ]
    },
    {
     "name": "stdout",
     "output_type": "stream",
     "text": [
      "| epoch  81 | elbo_loss 0.785068 | kl_loss 0.785068 | recons_loss 0.785068 \n"
     ]
    },
    {
     "name": "stderr",
     "output_type": "stream",
     "text": [
      "\r",
      " 30%|███       | 3/10 [00:45<01:46, 15.21s/it]"
     ]
    },
    {
     "name": "stdout",
     "output_type": "stream",
     "text": [
      "| epoch  82 | elbo_loss 0.768841 | kl_loss 0.768841 | recons_loss 0.768841 \n"
     ]
    },
    {
     "name": "stderr",
     "output_type": "stream",
     "text": [
      "\r",
      " 40%|████      | 4/10 [00:59<01:27, 14.61s/it]"
     ]
    },
    {
     "name": "stdout",
     "output_type": "stream",
     "text": [
      "| epoch  83 | elbo_loss 0.745537 | kl_loss 0.745537 | recons_loss 0.745537 \n"
     ]
    },
    {
     "name": "stderr",
     "output_type": "stream",
     "text": [
      "\r",
      " 50%|█████     | 5/10 [01:11<01:08, 13.72s/it]"
     ]
    },
    {
     "name": "stdout",
     "output_type": "stream",
     "text": [
      "| epoch  84 | elbo_loss 0.762172 | kl_loss 0.762172 | recons_loss 0.762172 \n"
     ]
    },
    {
     "name": "stderr",
     "output_type": "stream",
     "text": [
      "\r",
      " 60%|██████    | 6/10 [01:26<00:55, 14.00s/it]"
     ]
    },
    {
     "name": "stdout",
     "output_type": "stream",
     "text": [
      "| epoch  85 | elbo_loss 0.756177 | kl_loss 0.756177 | recons_loss 0.756177 \n"
     ]
    },
    {
     "name": "stderr",
     "output_type": "stream",
     "text": [
      "\r",
      " 70%|███████   | 7/10 [01:40<00:41, 13.93s/it]"
     ]
    },
    {
     "name": "stdout",
     "output_type": "stream",
     "text": [
      "| epoch  86 | elbo_loss 0.737656 | kl_loss 0.737656 | recons_loss 0.737656 \n"
     ]
    },
    {
     "name": "stderr",
     "output_type": "stream",
     "text": [
      "\r",
      " 80%|████████  | 8/10 [01:52<00:27, 13.51s/it]"
     ]
    },
    {
     "name": "stdout",
     "output_type": "stream",
     "text": [
      "| epoch  87 | elbo_loss 0.770017 | kl_loss 0.770017 | recons_loss 0.770017 \n"
     ]
    },
    {
     "name": "stderr",
     "output_type": "stream",
     "text": [
      "\r",
      " 90%|█████████ | 9/10 [02:03<00:12, 12.80s/it]"
     ]
    },
    {
     "name": "stdout",
     "output_type": "stream",
     "text": [
      "| epoch  88 | elbo_loss 0.752141 | kl_loss 0.752141 | recons_loss 0.752141 \n"
     ]
    },
    {
     "name": "stderr",
     "output_type": "stream",
     "text": [
      "100%|██████████| 10/10 [02:17<00:00, 13.76s/it]\n"
     ]
    },
    {
     "name": "stdout",
     "output_type": "stream",
     "text": [
      "| epoch  89 | elbo_loss 0.837593 | kl_loss 0.837593 | recons_loss 0.837593 \n"
     ]
    },
    {
     "name": "stderr",
     "output_type": "stream",
     "text": [
      "\r",
      "  0%|          | 0/10 [00:00<?, ?it/s]"
     ]
    },
    {
     "name": "stdout",
     "output_type": "stream",
     "text": [
      "| epoch  90 | elbo_loss 0.728092 | kl_loss 0.728092 | recons_loss 0.728092 \n"
     ]
    },
    {
     "data": {
      "image/png": "[encoded data removed]",
      "text/plain": [
       "<Figure size 360x576 with 64 Axes>"
      ]
     },
     "metadata": {
      "needs_background": "light"
     },
     "output_type": "display_data"
    },
    {
     "name": "stderr",
     "output_type": "stream",
     "text": [
      " 20%|██        | 2/10 [00:28<01:51, 13.96s/it]"
     ]
    },
    {
     "name": "stdout",
     "output_type": "stream",
     "text": [
      "| epoch  91 | elbo_loss 0.761887 | kl_loss 0.761887 | recons_loss 0.761887 \n"
     ]
    },
    {
     "name": "stderr",
     "output_type": "stream",
     "text": [
      "\r",
      " 30%|███       | 3/10 [00:41<01:35, 13.67s/it]"
     ]
    },
    {
     "name": "stdout",
     "output_type": "stream",
     "text": [
      "| epoch  92 | elbo_loss 0.760972 | kl_loss 0.760972 | recons_loss 0.760972 \n"
     ]
    },
    {
     "name": "stderr",
     "output_type": "stream",
     "text": [
      "\r",
      " 40%|████      | 4/10 [00:55<01:23, 13.90s/it]"
     ]
    },
    {
     "name": "stdout",
     "output_type": "stream",
     "text": [
      "| epoch  93 | elbo_loss 0.774684 | kl_loss 0.774684 | recons_loss 0.774684 \n"
     ]
    },
    {
     "name": "stderr",
     "output_type": "stream",
     "text": [
      "\r",
      " 50%|█████     | 5/10 [01:09<01:09, 14.00s/it]"
     ]
    },
    {
     "name": "stdout",
     "output_type": "stream",
     "text": [
      "| epoch  94 | elbo_loss 0.775343 | kl_loss 0.775343 | recons_loss 0.775343 \n"
     ]
    },
    {
     "name": "stderr",
     "output_type": "stream",
     "text": [
      "\r",
      " 60%|██████    | 6/10 [01:23<00:55, 13.98s/it]"
     ]
    },
    {
     "name": "stdout",
     "output_type": "stream",
     "text": [
      "| epoch  95 | elbo_loss 0.750728 | kl_loss 0.750728 | recons_loss 0.750728 \n"
     ]
    },
    {
     "name": "stderr",
     "output_type": "stream",
     "text": [
      "\r",
      " 70%|███████   | 7/10 [01:39<00:43, 14.42s/it]"
     ]
    },
    {
     "name": "stdout",
     "output_type": "stream",
     "text": [
      "| epoch  96 | elbo_loss 0.770676 | kl_loss 0.770676 | recons_loss 0.770676 \n"
     ]
    },
    {
     "name": "stderr",
     "output_type": "stream",
     "text": [
      "\r",
      " 80%|████████  | 8/10 [01:52<00:27, 13.97s/it]"
     ]
    },
    {
     "name": "stdout",
     "output_type": "stream",
     "text": [
      "| epoch  97 | elbo_loss 0.753091 | kl_loss 0.753091 | recons_loss 0.753091 \n"
     ]
    },
    {
     "name": "stderr",
     "output_type": "stream",
     "text": [
      "\r",
      " 90%|█████████ | 9/10 [02:05<00:13, 13.85s/it]"
     ]
    },
    {
     "name": "stdout",
     "output_type": "stream",
     "text": [
      "| epoch  98 | elbo_loss 0.667815 | kl_loss 0.667815 | recons_loss 0.667815 \n"
     ]
    },
    {
     "name": "stderr",
     "output_type": "stream",
     "text": [
      "100%|██████████| 10/10 [02:18<00:00, 13.87s/it]"
     ]
    },
    {
     "name": "stdout",
     "output_type": "stream",
     "text": [
      "| epoch  99 | elbo_loss 0.660794 | kl_loss 0.660794 | recons_loss 0.660794 \n"
     ]
    },
    {
     "name": "stderr",
     "output_type": "stream",
     "text": [
      "\n"
     ]
    },
    {
     "data": {
      "image/png": "[encoded data removed]",
      "text/plain": [
       "<Figure size 432x288 with 1 Axes>"
      ]
     },
     "metadata": {
      "needs_background": "light"
     },
     "output_type": "display_data"
    }
   ],
   "source": [
    "lr = 0.001\n",
    "epochs = 100\n",
    "clip = 0.25\n",
    "\n",
    "model = LSTM_VAE(input_size = input_size, hidden_size = hidden_size, latent_size = latent_size).to(device)\n",
    "\n",
    "Loss = VAE_Loss()\n",
    "optimizer = torch.optim.Adam(model.parameters(), lr= lr)\n",
    "\n",
    "trainer = FilterTrainer(train_loader, model, Loss, optimizer)\n",
    "\n",
    "# train_losses = []\n",
    "# test_losses = []\n",
    "print(\"Training.......\")\n",
    "interval = 10\n",
    "for ep in range(epochs//interval):\n",
    "    for it in tqdm(range(interval)):\n",
    "    #     print(\"Epoch: \", epoch)\n",
    "        epoch = ep*interval + it\n",
    "        train_losses = trainer.train(train_losses, epoch, vae_batch_size, clip)\n",
    "\n",
    "        if epoch % interval == 0:\n",
    "            sample = model.inference(num_samples,num_filters-1, FILTER1.view(1,1,-1).to(device))\n",
    "            sample = sample.view(sample.shape[:-1]+tuple([5,5]))\n",
    "            visualise_joint_from_tensor(sample)\n",
    "#     print(\"Testing.......\")\n",
    "#     test_losses = trainer.test(test_losses, epoch, batch_size)\n",
    "\n",
    "\n",
    "plot_elbo(train_losses, \"train\")\n",
    "# plot_elbo(test_losses, \"test\")"
   ]
  },
  {
   "cell_type": "code",
   "execution_count": 362,
   "metadata": {},
   "outputs": [
    {
     "data": {
      "image/png": "[encoded data removed]",
      "text/plain": [
       "<Figure size 432x288 with 1 Axes>"
      ]
     },
     "metadata": {
      "needs_background": "light"
     },
     "output_type": "display_data"
    }
   ],
   "source": [
    "plot_elbo(train_losses[80000:], \"train\")"
   ]
  },
  {
   "cell_type": "code",
   "execution_count": 105,
   "metadata": {},
   "outputs": [],
   "source": [
    "# epochs = 1\n",
    "\n",
    "# model2 = LSTM_VAE(input_size = input_size, hidden_size = hidden_size, latent_size = latent_size).to(device)\n",
    "# Loss2 = VAE_Loss()\n",
    "# optimizer2 = torch.optim.Adam(model.parameters(), lr= lr)\n",
    "# trainer2 = FilterTrainer(train_loader, model2, Loss2, optimizer2)\n",
    "\n",
    "# train_losses1 = []\n",
    "# print(\"Training.......\")\n",
    "# for epoch in range(epochs):\n",
    "#     train_losses1 = trainer.train(train_losses, epoch, vae_batch_size, clip)\n",
    "# plot_elbo(train_losses1, \"train\")"
   ]
  },
  {
   "cell_type": "code",
   "execution_count": 450,
   "metadata": {},
   "outputs": [],
   "source": [
    "MODEL_SAVE_PATH = \"./models/filter_lstm/shuffle_100_recon_st.pt\"\n",
    "torch.save(model.state_dict(), MODEL_SAVE_PATH)\n",
    "FILTER_SAVE_PATH = \"./models/filter_lstm/filter.pt\"\n",
    "torch.save(FILTER1, FILTER_SAVE_PATH)"
   ]
  },
  {
   "cell_type": "code",
   "execution_count": 218,
   "metadata": {},
   "outputs": [
    {
     "data": {
      "text/plain": [
       "(tensor(0.9879, device='cuda:0'),\n",
       " tensor(1.1226, device='cuda:0', grad_fn=<SumBackward0>))"
      ]
     },
     "execution_count": 218,
     "metadata": {},
     "output_type": "execute_result"
    }
   ],
   "source": [
    "# train_losses = trainer.train(train_losses, epoch, vae_batch_size, clip)\n",
    "# model.forward\n",
    "h = model.init_hidden(1)\n",
    "x = train_dataset[1].view(1,9,-1).to(device)\n",
    "x_hat,_,_,_,_ = model(x, h)\n",
    "torch.abs(x).mean(), torch.sum(torch.square(x_hat-x))"
   ]
  },
  {
   "cell_type": "markdown",
   "metadata": {},
   "source": [
    "## Inference"
   ]
  },
  {
   "cell_type": "code",
   "execution_count": 286,
   "metadata": {},
   "outputs": [
    {
     "data": {
      "text/plain": [
       "LSTM_VAE(\n",
       "  (encoder_lstm): LSTM(25, 20, batch_first=True)\n",
       "  (mean): Linear(in_features=20, out_features=10, bias=True)\n",
       "  (log_variance): Linear(in_features=20, out_features=10, bias=True)\n",
       "  (init_hidden_decoder): Linear(in_features=10, out_features=20, bias=True)\n",
       "  (decoder_lstm): LSTM(25, 20, batch_first=True)\n",
       "  (output): Linear(in_features=20, out_features=25, bias=True)\n",
       ")"
      ]
     },
     "execution_count": 286,
     "metadata": {},
     "output_type": "execute_result"
    }
   ],
   "source": [
    "model = LSTM_VAE(input_size = input_size, hidden_size = hidden_size, latent_size = latent_size).to(device)\n",
    "MODEL_SAVE_PATH = \"./models/filter_lstm/5000_Recon_st.pt\"\n",
    "model.load_state_dict(torch.load(MODEL_SAVE_PATH))\n",
    "\n",
    "# torch.save(model.state_dict(), MODEL_SAVE_PATH)\n",
    "# FILTER_SAVE_PATH = \"./models/filter_lstm_vae_fixed_st_filter.pt\"\n",
    "# MODEL_SAVE_PATH = \"./models/filter_lstm/5000_recon_st.pt\"\n",
    "FILTER1 = torch.load(FILTER_SAVE_PATH, map_location=torch.device('cpu'))\n",
    "model.eval()"
   ]
  },
  {
   "cell_type": "code",
   "execution_count": 305,
   "metadata": {},
   "outputs": [
    {
     "data": {
      "image/png": "[encoded data removed]",
      "text/plain": [
       "<Figure size 3600x576 with 640 Axes>"
      ]
     },
     "metadata": {
      "needs_background": "light"
     },
     "output_type": "display_data"
    }
   ],
   "source": [
    "# z1 = torch.randn(1,1,latent_size).to(device)\n",
    "torch.manual_seed(1000)\n",
    "num_samples = 8\n",
    "sample = model.inference(num_samples,800,FILTER1.view(1,1,-1).to(device))\n",
    "sample = sample.view(sample.shape[:-1]+tuple([5,5]))\n",
    "fils = visualise_joint_from_tensor(sample,10)\n",
    "# print(sample.shape)"
   ]
  },
  {
   "cell_type": "code",
   "execution_count": 8,
   "metadata": {},
   "outputs": [
    {
     "data": {
      "text/plain": [
       "tensor([0., 2., 4., 6., 8.])"
      ]
     },
     "execution_count": 8,
     "metadata": {},
     "output_type": "execute_result"
    }
   ],
   "source": [
    "a=torch.Tensor([[0,1,2,3,4,5,6,7,8,9])\n",
    "a[0:10:2]"
   ]
  },
  {
   "cell_type": "code",
   "execution_count": 455,
   "metadata": {},
   "outputs": [
    {
     "data": {
      "image/png": "[encoded data removed]",
      "text/plain": [
       "<Figure size 360x576 with 64 Axes>"
      ]
     },
     "metadata": {
      "needs_background": "light"
     },
     "output_type": "display_data"
    }
   ],
   "source": [
    "# z1 = torch.randn(1,1,latent_size).to(device)\n",
    "torch.manual_seed(1000)\n",
    "num_samples = 8\n",
    "sample = model.inference(num_samples,80,FILTER1.view(1,1,-1).to(device))\n",
    "sample = sample.view(sample.shape[:-1]+tuple([5,5]))\n",
    "fils = visualise_joint_from_tensor(sample,10)\n",
    "# print(sample.shape)"
   ]
  },
  {
   "cell_type": "code",
   "execution_count": 311,
   "metadata": {},
   "outputs": [
    {
     "data": {
      "text/plain": [
       "torch.Size([8, 80, 5, 5])"
      ]
     },
     "execution_count": 311,
     "metadata": {},
     "output_type": "execute_result"
    }
   ],
   "source": [
    "sample.shape"
   ]
  },
  {
   "cell_type": "code",
   "execution_count": 320,
   "metadata": {},
   "outputs": [
    {
     "name": "stdout",
     "output_type": "stream",
     "text": [
      "torch.Size([8, 8, 5, 5])\n"
     ]
    },
    {
     "data": {
      "image/png": "[encoded data removed]",
      "text/plain": [
       "<Figure size 360x576 with 64 Axes>"
      ]
     },
     "metadata": {
      "needs_background": "light"
     },
     "output_type": "display_data"
    }
   ],
   "source": [
    "# filt1 = [FILTER1 for i in range(8)]\n",
    "# filt1 = torch.stack(filt1,dim=0)\n",
    "filt1 = FILTER1.repeat(5,8,1,1)\n",
    "filt1 = train_dataset[6:14][:,1:]\n",
    "print(filt1.shape)\n",
    "filter = visualise_joint_from_tensor(filt1,1)"
   ]
  },
  {
   "cell_type": "code",
   "execution_count": 53,
   "metadata": {},
   "outputs": [
    {
     "name": "stdout",
     "output_type": "stream",
     "text": [
      "torch.Size([100, 8, 5, 5])\n",
      "torch.Size([100, 8, 5, 5])\n",
      "torch.Size([100, 8, 5, 5])\n",
      "torch.Size([100, 8, 5, 5])\n",
      "torch.Size([100, 8, 5, 5])\n",
      "torch.Size([100, 8, 5, 5])\n",
      "torch.Size([100, 8, 5, 5])\n",
      "torch.Size([100, 8, 5, 5])\n",
      "torch.Size([100, 8, 5, 5])\n",
      "torch.Size([100, 8, 5, 5])\n",
      "torch.Size([100, 8, 5, 5])\n",
      "torch.Size([100, 8, 5, 5])\n",
      "torch.Size([100, 8, 5, 5])\n"
     ]
    }
   ],
   "source": [
    "# for epoch in range(epochs):\n",
    "#     overall_loss = 0\n",
    "for batch_idx, x in enumerate(train_loader):\n",
    "    x = x.view(x.shape[:-1]+tuple([-1]))\n",
    "    x = x.to(device)\n",
    "    print(x.shape)\n",
    "    "
   ]
  },
  {
   "cell_type": "code",
   "execution_count": 114,
   "metadata": {},
   "outputs": [
    {
     "name": "stdout",
     "output_type": "stream",
     "text": [
      "tensor([[[ 0.3064, -0.8971, -1.4641, -0.8707,  1.4352, -1.0966, -0.5364,\n",
      "          -0.8153, -0.9454,  0.1941, -0.4393,  0.0346,  0.1608, -0.4449,\n",
      "           0.0644, -0.6503, -0.8091, -0.9273, -0.6199, -0.9162, -0.2964,\n",
      "          -0.6380, -1.0651,  0.3995, -0.0924]]], device='cuda:0',\n",
      "       grad_fn=<AddBackward0>) torch.Size([1, 1, 25])\n"
     ]
    }
   ],
   "source": [
    "z1 = torch.randn(1,1,latent_size).to(device)\n",
    "input = torch.randn(1,1,25).to(device)\n",
    "hidden = model.init_hidden_decoder(z1)\n",
    "hidden = (hidden, hidden)\n",
    "output,hidden = model.decoder_lstm(input, hidden)\n",
    "output = model.output(output)\n",
    "print(output, output.shape)\n"
   ]
  }
 ],
 "metadata": {
  "kernelspec": {
   "display_name": "sent-vae-base",
   "language": "python",
   "name": "sent-vae-base"
  },
  "language_info": {
   "codemirror_mode": {
    "name": "ipython",
    "version": 3
   },
   "file_extension": ".py",
   "mimetype": "text/x-python",
   "name": "python",
   "nbconvert_exporter": "python",
   "pygments_lexer": "ipython3",
   "version": "3.8.10"
  }
 },
 "nbformat": 4,
 "nbformat_minor": 4
}
